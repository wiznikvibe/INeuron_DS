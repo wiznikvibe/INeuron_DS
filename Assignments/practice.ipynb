{
 "cells": [
  {
   "cell_type": "code",
   "execution_count": 3,
   "metadata": {},
   "outputs": [
    {
     "name": "stdout",
     "output_type": "stream",
     "text": [
      "nikhil \n",
      "\n",
      "nikhil nikhil \n",
      "\n",
      "nikhil nikhil nikhil \n",
      "\n",
      "nikhil nikhil nikhil nikhil \n",
      "\n",
      "nikhil nikhil nikhil nikhil nikhil \n",
      "\n"
     ]
    }
   ],
   "source": [
    "# Outer loop > Rows \n",
    "# Inner loop > Columns \n",
    "name = \"nikhil\"\n",
    "n = 5\n",
    "for i in range(n):\n",
    "    for j in range(0,i+1):\n",
    "        print(name, end = ' ')\n",
    "    print('\\n')"
   ]
  },
  {
   "cell_type": "code",
   "execution_count": 5,
   "metadata": {},
   "outputs": [
    {
     "name": "stdout",
     "output_type": "stream",
     "text": [
      "   * \n",
      "  * * \n",
      " * * * \n",
      "* * * * \n"
     ]
    }
   ],
   "source": [
    "n=4\n",
    "# First loop for rows \n",
    "for i in range(n):\n",
    "    # loops for space assignment\n",
    "    for j in range(n-i-1):\n",
    "        print(\" \", end = \"\")\n",
    "    # Loop for star assignment     \n",
    "    for j in range(i+1):\n",
    "        print(\"*\", end=\" \")\n",
    "    print()\n",
    "    "
   ]
  },
  {
   "cell_type": "code",
   "execution_count": 12,
   "metadata": {},
   "outputs": [
    {
     "name": "stdout",
     "output_type": "stream",
     "text": [
      "0 2\n",
      "1 56\n",
      "2 34\n",
      "3 26\n",
      "4 7\n",
      "5 13\n"
     ]
    }
   ],
   "source": [
    "t = (2,56,34,26,7,13)\n",
    "for i, n in enumerate(t):\n",
    "    # i is the index location \n",
    "    # n is the values present at the index location\n",
    "    print(i,n)"
   ]
  },
  {
   "cell_type": "code",
   "execution_count": 16,
   "metadata": {},
   "outputs": [
    {
     "name": "stdout",
     "output_type": "stream",
     "text": [
      "('key1', 'nikh') <class 'tuple'> <class 'str'>\n",
      "('contact', 'nikhilshetty00@gmail.com') <class 'tuple'> <class 'str'>\n",
      "('position', 'xyz') <class 'tuple'> <class 'str'>\n"
     ]
    }
   ],
   "source": [
    "data = {\"key1\":\"nikh\", \"contact\":\"nikhilshetty00@gmail.com\", \"position\":\"xyz\"}\n",
    "for i in data.items():\n",
    "    print(i, type(i), type(i[1]))"
   ]
  },
  {
   "cell_type": "code",
   "execution_count": 17,
   "metadata": {},
   "outputs": [
    {
     "data": {
      "text/plain": [
       "[454555, 878, 256679]"
      ]
     },
     "execution_count": 17,
     "metadata": {},
     "output_type": "execute_result"
    }
   ],
   "source": [
    "l = [\"nikhil\", 'shetty', 454555, 'nikhilsheyyu@gmaol.com', 878,256679]\n",
    "num_l = []\n",
    "for i in l:\n",
    "    if type(i) == int:\n",
    "        num_l.append(i) \n",
    "\n",
    "num_l"
   ]
  },
  {
   "cell_type": "code",
   "execution_count": 20,
   "metadata": {},
   "outputs": [
    {
     "data": {
      "text/plain": [
       "{1: 3334455, 234: 'fsfdff', 734: '3454'}"
      ]
     },
     "execution_count": 20,
     "metadata": {},
     "output_type": "execute_result"
    }
   ],
   "source": [
    "d = {1: 3334455,\"name\":\"nikhil\", \"email\":\"nikhilsheyy@gmail.com\",234:\"fsfdff\",\"43\":\"sfsaf\",734:\"3454\"}\n",
    "c ={}\n",
    "for key,ele in d.items():\n",
    "    if type(key) == int:\n",
    "        c[key] = ele\n",
    "\n",
    "c"
   ]
  },
  {
   "cell_type": "code",
   "execution_count": 8,
   "metadata": {},
   "outputs": [
    {
     "data": {
      "text/plain": [
       "{'a': 5, 'b': 4, 'c': 3, 'd': 3}"
      ]
     },
     "execution_count": 8,
     "metadata": {},
     "output_type": "execute_result"
    }
   ],
   "source": [
    "s = \"aaaaabbbbcccddd\"\n",
    "occ = {}\n",
    "for i in s:\n",
    "    if i in occ:\n",
    "        occ[i] += 1\n",
    "    else:\n",
    "        occ[i] = 1\n",
    "occ"
   ]
  },
  {
   "cell_type": "code",
   "execution_count": 11,
   "metadata": {},
   "outputs": [
    {
     "name": "stdout",
     "output_type": "stream",
     "text": [
      "d : 3\n",
      "c : 3\n",
      "b : 4\n",
      "a : 5\n"
     ]
    }
   ],
   "source": [
    "s = \"aaaaabbbbcccddd\"\n",
    "chars = set(s)\n",
    "for i in chars:\n",
    "    print(i ,':', s.count(i))"
   ]
  },
  {
   "cell_type": "code",
   "execution_count": 13,
   "metadata": {},
   "outputs": [
    {
     "name": "stdout",
     "output_type": "stream",
     "text": [
      "7 <class 'int'>\n",
      "6 <class 'int'>\n",
      "4 <class 'int'>\n",
      "3 <class 'int'>\n",
      "4 <class 'int'>\n",
      "3 <class 'int'>\n",
      "8 <class 'int'>\n",
      "4 <class 'int'>\n",
      "7 <class 'int'>\n",
      "4 <class 'int'>\n",
      "8 <class 'int'>\n",
      "2 <class 'int'>\n"
     ]
    }
   ],
   "source": [
    "num = 764343847482\n",
    "for i in str(num):\n",
    "    print(int(i), type(int(i)))"
   ]
  },
  {
   "cell_type": "code",
   "execution_count": 7,
   "metadata": {},
   "outputs": [],
   "source": [
    "t = (\"nikh\", \"shetty\", [1,3,2,5,7],(3,7,5,6), {3: 3, \"key2\": \"gambare\"})"
   ]
  },
  {
   "cell_type": "code",
   "execution_count": 10,
   "metadata": {},
   "outputs": [
    {
     "name": "stdout",
     "output_type": "stream",
     "text": [
      "<class 'list'>\n",
      "3\n",
      "\n",
      "<class 'tuple'>\n",
      "3\n",
      "\n",
      "<class 'dict'>\n",
      "3 3\n"
     ]
    }
   ],
   "source": [
    "for i in t:\n",
    "    if type(i) == list or type(i) == tuple :\n",
    "        print(type(i))\n",
    "        if 3 in i:\n",
    "            print(3)\n",
    "            print()\n",
    "    if type(i) == dict:\n",
    "        print(type(i))\n",
    "        for k,v in i.items():\n",
    "            if k ==3 or v == 3:\n",
    "                print(k,v)\n",
    "                \n"
   ]
  },
  {
   "cell_type": "code",
   "execution_count": null,
   "metadata": {},
   "outputs": [],
   "source": [
    "# q1 :\n",
    "# ineruon \n",
    "# ineruon ineruon \n",
    "# ineruon ineruon ineruon\n",
    "# ineruon ineruon ineruon ineruon\n",
    "\n",
    "# q2 - \n",
    "\n",
    "#           ineruon\n",
    "#     ineruon      ineruon\n",
    "# ineruon\t\tineruon \tineruon\n",
    "# \tineruon\t\t ineruon\n",
    "# \t\t  ineruon\n",
    "\n",
    "# l = [[1,2,3,4] , (2,3,4,5,6) , (3,4,5,6,7) , set([23,4,5,45,4,4,5,45,45,4,5]) , {'k1' :\"sudh\" , \"k2\" : \"ineuron\",\"k3\":\n",
    "#             \"kumar\" , 3:6 , 7:8} , [\"ineuron\" , \"data science \"]]\n",
    "\n",
    "# q3 : Try to extract all the list entity \n",
    "# q4 : Try to extract all the dict enteties\n",
    "# q5 : Try to extract all the tuples entities\n",
    "# q6 : Try to extract all the numerical data it may b a part of dict key and values \n",
    "# q7 : Try to give summation of all the numeric data \n",
    "# q8 : Try to filter out all the odd values out all numeric data which is a part of a list \n",
    "# q9 : Try to extract \"ineruon\" out of this data\n",
    "# q10 :Try to find out a number of occurances of all the data \n",
    "# q11 : Try to find out number of keys in dict element\n",
    "# q12 : Try to filter out all the string data \n",
    "# q13 : Try to Find  out alphanum in data\n",
    "# q14 : Try to find out multiplication of all numeric value in  the individual collection inside dataset \n",
    "# q15 : Try to unwrape all the collection inside collection and create a flat list \n",
    "    \n",
    "    \n",
    "# before 29th may 2022 3 PM IST you have to send an answer to me or to shivan \n",
    "# sudhanshu@ineuron.ai\n",
    "# shivan@ineuron.ai"
   ]
  },
  {
   "cell_type": "code",
   "execution_count": 1,
   "metadata": {},
   "outputs": [
    {
     "name": "stdout",
     "output_type": "stream",
     "text": [
      "ineuron \n",
      "ineuron ineuron \n",
      "ineuron ineuron ineuron \n",
      "ineuron ineuron ineuron ineuron \n",
      "ineuron ineuron ineuron ineuron ineuron \n"
     ]
    }
   ],
   "source": [
    "var1 = \"ineuron \"\n",
    "n = int(input(\"Number of rows: \"))\n",
    "for i in range(n):\n",
    "    print(var1*(i+1), end=\"\\n\")"
   ]
  },
  {
   "cell_type": "code",
   "execution_count": 11,
   "metadata": {},
   "outputs": [
    {
     "name": "stdout",
     "output_type": "stream",
     "text": [
      "                              \n",
      "              *               \n",
      "             * *              \n",
      "            * * *             \n",
      "             * *              \n",
      "              *               \n"
     ]
    }
   ],
   "source": [
    "for i in range(6):\n",
    "    if i <= 3:\n",
    "        n = i\n",
    "    else:\n",
    "        n = 6-i\n",
    "    print((\"* \"* n).center(30, ' '))"
   ]
  },
  {
   "cell_type": "code",
   "execution_count": 12,
   "metadata": {},
   "outputs": [],
   "source": [
    "l = [[1,2,3,4] , (2,3,4,5,6) , (3,4,5,6,7) , set([23,4,5,45,4,4,5,45,45,4,5]) , {'k1' :\"sudh\" , \"k2\" : \"ineuron\",\"k3\":\n",
    "            \"kumar\" , 3:6 , 7:8} , [\"ineuron\" , \"data science \"]]\n",
    "container_list = []\n",
    "container1_dict = []\n",
    "container2_tup = []\n",
    "container3_set = []\n",
    "num_vals = []\n",
    "for i in l:\n",
    "    if type(i) == list:\n",
    "        container_list.append(i)\n",
    "        for j in i:\n",
    "            if type(j) == int:\n",
    "                num_vals.append(j)\n",
    "    elif type(i) == dict:\n",
    "        container1_dict.append(i)\n",
    "        for k,v in i.items():\n",
    "            if type(k) == int or type(v) == int:\n",
    "                num_vals.append(k)\n",
    "                num_vals.append(v)\n",
    "    elif type(i) == tuple:\n",
    "        container2_tup.append(i)\n",
    "        for j in i:\n",
    "            if type(j) == int:\n",
    "                num_vals.append(j)\n",
    "    else:\n",
    "        container3_set.append(i)\n",
    "        for j in i:\n",
    "            if type(j) == int:\n",
    "                num_vals.append(j)\n"
   ]
  },
  {
   "cell_type": "code",
   "execution_count": 13,
   "metadata": {},
   "outputs": [
    {
     "data": {
      "text/plain": [
       "156"
      ]
     },
     "execution_count": 13,
     "metadata": {},
     "output_type": "execute_result"
    }
   ],
   "source": [
    "sum(num_vals)"
   ]
  },
  {
   "cell_type": "code",
   "execution_count": 8,
   "metadata": {},
   "outputs": [
    {
     "name": "stdout",
     "output_type": "stream",
     "text": [
      "156\n"
     ]
    }
   ],
   "source": [
    "total = 0\n",
    "for i in num_vals:\n",
    "    total += i\n",
    "print(total)"
   ]
  },
  {
   "cell_type": "code",
   "execution_count": 15,
   "metadata": {},
   "outputs": [
    {
     "name": "stdout",
     "output_type": "stream",
     "text": [
      "Found 'ineuron' in the dictionary.\n",
      "Found 'ineuron' in the collection.\n"
     ]
    }
   ],
   "source": [
    "data = [[1, 2, 3, 4], (2, 3, 4, 5, 6), (3, 4, 5, 6, 7), set([23, 4, 5, 45, 4, 4, 5, 45, 45, 4, 5]), {'k1': \"sudh\", \"k2\": \"ineuron\", \"k3\": \"kumar\", 3: 6, 7: 8}, [\"ineuron\", \"data science\"]]\n",
    "\n",
    "for item in data:\n",
    "    if type(item) == dict:\n",
    "        if \"ineuron\" in item.values():\n",
    "            print(\"Found 'ineuron' in the dictionary.\")\n",
    "\n",
    "    elif type(item) == list or type(item) == set or type(item) == tuple:\n",
    "        if \"ineuron\" in item:\n",
    "            print(\"Found 'ineuron' in the collection.\")\n",
    "            break\n"
   ]
  },
  {
   "cell_type": "code",
   "execution_count": 24,
   "metadata": {},
   "outputs": [
    {
     "name": "stdout",
     "output_type": "stream",
     "text": [
      "sudh: 1\n",
      "1: 1\n",
      "2: 2\n",
      "3: 4\n",
      "4: 4\n",
      "5: 3\n",
      "6: 3\n",
      "7: 2\n",
      "k1: 1\n",
      "k2: 1\n",
      "ineuron: 2\n",
      "8: 1\n",
      "45: 1\n",
      "data science: 1\n",
      "kumar: 1\n",
      "23: 1\n",
      "k3: 1\n"
     ]
    }
   ],
   "source": [
    "data = [[1, 2, 3, 4], (2, 3, 4, 5, 6), (3, 4, 5, 6, 7), set([23, 4, 5, 45, 4, 4, 5, 45, 45, 4, 5]), {'k1': \"sudh\", \"k2\": \"ineuron\", \"k3\": \"kumar\", 3: 6, 7: 8}, [\"ineuron\", \"data science\"]]\n",
    "\n",
    "unwrapped = []\n",
    "\n",
    "for item in data:\n",
    "    if type(item) == dict:\n",
    "        for k in item.keys():\n",
    "            unwrapped.append(k)\n",
    "        for w in item.values():\n",
    "            unwrapped.append(w)\n",
    "    elif type(item) == list or type(item) == set or type(item) == tuple:\n",
    "        for element in item:\n",
    "            if type(element) == str or type(element) == int:\n",
    "                unwrapped.append(element)\n",
    "\n",
    "for i in set(unwrapped):\n",
    "    print(f\"{i}: {unwrapped.count(i)}\")\n"
   ]
  },
  {
   "cell_type": "code",
   "execution_count": 25,
   "metadata": {},
   "outputs": [
    {
     "name": "stdout",
     "output_type": "stream",
     "text": [
      "Number of keys in dictionary elements:\n",
      "No of Keys: 5\n"
     ]
    }
   ],
   "source": [
    "data = [[1, 2, 3, 4], (2, 3, 4, 5, 6), (3, 4, 5, 6, 7), set([23, 4, 5, 45, 4, 4, 5, 45, 45, 4, 5]), {'k1': \"sudh\", \"k2\": \"ineuron\", \"k3\": \"kumar\", 3: 6, 7: 8}, [\"ineuron\", \"data science\"]]\n",
    "\n",
    "num_keys = []\n",
    "\n",
    "for item in data:\n",
    "    if type(item) == dict:\n",
    "        num_keys.append(len(item.keys()))\n",
    "\n",
    "print(\"Number of keys in dictionary elements:\")\n",
    "for idx, num in enumerate(num_keys, start=1):\n",
    "    print(f\"No of Keys: {num}\")\n"
   ]
  },
  {
   "cell_type": "code",
   "execution_count": 3,
   "metadata": {},
   "outputs": [
    {
     "name": "stdout",
     "output_type": "stream",
     "text": [
      "Filtered string data:\n",
      "k1\n",
      "sudh\n",
      "k2\n",
      "ineuron\n",
      "k3\n",
      "kumar\n",
      "ineuron\n",
      "data science\n"
     ]
    }
   ],
   "source": [
    "\n",
    "string_data = []\n",
    "\n",
    "def extract_string(item):\n",
    "    if isinstance(item, str):\n",
    "        string_data.append(item)\n",
    "    elif isinstance(item, (list, tuple, set)):\n",
    "        for element in item:\n",
    "            extract_string(element)\n",
    "    elif isinstance(item, dict):\n",
    "        for key, value in item.items():\n",
    "            extract_string(key)\n",
    "            extract_string(value)\n",
    "\n",
    "for item in data:\n",
    "    extract_string(item)\n",
    "\n",
    "print(\"Filtered string data:\")\n",
    "for string in string_data:\n",
    "    print(string)\n"
   ]
  },
  {
   "cell_type": "code",
   "execution_count": 5,
   "metadata": {},
   "outputs": [
    {
     "name": "stdout",
     "output_type": "stream",
     "text": [
      "Alphanumeric elements:\n",
      "k1\n",
      "sudh\n",
      "k2\n",
      "ineuron\n",
      "k3\n",
      "kumar\n",
      "ineuron\n"
     ]
    }
   ],
   "source": [
    "alphanumeric_data = []\n",
    "\n",
    "def is_alphanumeric(element):\n",
    "    if isinstance(element, str):\n",
    "        if element.isalnum():\n",
    "            alphanumeric_data.append(element)\n",
    "    elif isinstance(element, (list, tuple, set)):\n",
    "        for item in element:\n",
    "            is_alphanumeric(item)\n",
    "    elif isinstance(element, dict):\n",
    "        for key in element.items():\n",
    "            is_alphanumeric(key)\n",
    "\n",
    "for item in data:\n",
    "    is_alphanumeric(item)\n",
    "\n",
    "print(\"Alphanumeric elements:\")\n",
    "for alphanumeric in alphanumeric_data:\n",
    "    print(alphanumeric)"
   ]
  },
  {
   "cell_type": "code",
   "execution_count": 34,
   "metadata": {},
   "outputs": [
    {
     "data": {
      "text/plain": [
       "[[1, 2, 3, 4],\n",
       " (2, 3, 4, 5, 6),\n",
       " (3, 4, 5, 6, 7),\n",
       " {4, 5, 23, 45},\n",
       " {'k1': 'sudh', 'k2': 'ineuron', 'k3': 'kumar', 3: 6, 7: 8},\n",
       " ['ineuron', 'data science']]"
      ]
     },
     "execution_count": 34,
     "metadata": {},
     "output_type": "execute_result"
    }
   ],
   "source": [
    "data"
   ]
  },
  {
   "cell_type": "code",
   "execution_count": 45,
   "metadata": {},
   "outputs": [],
   "source": [
    "# q14 : Try to find out multiplication of all numeric value in  the individual collection inside dataset \n",
    "for item in data:\n",
    "    total = 1\n",
    "    if type(item) == list or type(item) == set or type(item) == tuple:\n",
    "        for j in item:\n",
    "            if type(j) == int:\n",
    "                total = total*j\n",
    "        # print(total)\n",
    "    elif type(i) == dict:\n",
    "        for k in i.items():\n",
    "            for n in k :\n",
    "                if type(n) == int : \n",
    "                    total = total * n\n",
    "        \n",
    "        print(total)"
   ]
  },
  {
   "cell_type": "code",
   "execution_count": 29,
   "metadata": {},
   "outputs": [
    {
     "name": "stdout",
     "output_type": "stream",
     "text": [
      "[1, 2, 3, 4, 2, 3, 4, 5, 6, 3, 4, 5, 6, 7, 45, 4, 5, 23, 'k1', 'sudh', 'k2', 'ineuron', 'k3', 'kumar', 3, 6, 7, 8, 'ineuron', 'data science']\n"
     ]
    }
   ],
   "source": [
    "# q15 : Try to unwrape all the collection inside collection and create a flat list\n",
    "def flatten(collection):\n",
    "    flat_list = []\n",
    "    for item in collection:\n",
    "        if type(item) == list or type(item) == set or type(item) == tuple:\n",
    "            flat_list.extend(flatten(item))\n",
    "        elif type(item) == dict:\n",
    "            flat_list.extend(flatten(item.items()))\n",
    "        else:\n",
    "            flat_list.append(item)\n",
    "    return flat_list\n",
    "\n",
    "\n",
    "flat_list = flatten(data)\n",
    "print(flat_list)"
   ]
  },
  {
   "cell_type": "code",
   "execution_count": 4,
   "metadata": {},
   "outputs": [
    {
     "data": {
      "text/plain": [
       "2"
      ]
     },
     "execution_count": 4,
     "metadata": {},
     "output_type": "execute_result"
    }
   ],
   "source": [
    "# Left Shift Binary Operator \n",
    "x = 10  # Binary: 1010\n",
    "y = x << 2  # Shifts 2 positions to the left\n",
    "\n",
    "# Binary representation of y: 101000\n",
    "# Decimal value of y: 40\n",
    "y \n",
    "\n",
    "# Right Shift Binary Operator \n",
    "z = 10\n",
    "r = z >> 2\n",
    "r"
   ]
  },
  {
   "cell_type": "code",
   "execution_count": 4,
   "metadata": {},
   "outputs": [
    {
     "name": "stdout",
     "output_type": "stream",
     "text": [
      "1\n",
      "2\n",
      "3\n",
      "4\n",
      "5\n",
      "6\n",
      "7\n",
      "8\n",
      "9\n",
      "10\n"
     ]
    }
   ],
   "source": [
    "# Break keyword breaks the loop and stops executing the block whereas \n",
    "# Continue gives the control back to the loop ignoring the statements preceding it  \n",
    "a = 1\n",
    "b = 10 \n",
    "while a <= b:\n",
    "    print(a)\n",
    "    a += 1\n",
    "    if a == 3:\n",
    "        continue\n",
    "    \n",
    "    "
   ]
  },
  {
   "cell_type": "code",
   "execution_count": 22,
   "metadata": {},
   "outputs": [
    {
     "name": "stdout",
     "output_type": "stream",
     "text": [
      "sudh\n",
      "[1, 2, 3, 4]\n",
      "(2, 3, 4, 5)\n"
     ]
    }
   ],
   "source": [
    "d = {'k':\"sudh\", 'k2':[1,2,3,4], \"k3\": (2,3,4,5)}\n",
    "\n",
    "a = 0\n",
    "b = list(d.keys())\n",
    "while a < len(d):\n",
    "    print(d[b[a]])\n",
    "\n",
    "    a += 1\n"
   ]
  },
  {
   "cell_type": "code",
   "execution_count": 27,
   "metadata": {},
   "outputs": [
    {
     "name": "stdout",
     "output_type": "stream",
     "text": [
      "index of 7 is -3\n",
      "index of 6 is -4\n",
      "index of 6 is -7\n"
     ]
    }
   ],
   "source": [
    "l = (6,23,4,6,7,9,14)\n",
    "def neg_idx(a: tuple):\n",
    "    i = -1\n",
    "    while i >= -len(a):\n",
    "        if a[i] == 6 or a[i] == 7:\n",
    "            print(f\"index of {a[i]} is {i}\")\n",
    "        i -= 1\n",
    "\n",
    "neg_idx(l)"
   ]
  },
  {
   "cell_type": "code",
   "execution_count": null,
   "metadata": {},
   "outputs": [],
   "source": [
    "\n",
    "    \n",
    "\n",
    "\n",
    "\n",
    "\n",
    "\n",
    "\n",
    "    \n",
    "q7 : write a code to get a time of your system \n",
    "\n",
    "q8 : Write a code to fetch date form your system \n",
    "\n",
    "q9 : Write a code to send a mail to your friend \n",
    "\n",
    "q10 : write a code to trigger alarm for you at scheduled time \n",
    "\n",
    "q11 : write a code to check ip address of your system \n",
    "\n",
    "q12 : Write a code to check a perticular installation in your system\n",
    "\n",
    "q13 : Write a code to convert any text in to voice \n",
    "\n",
    "q14 : you have to write a fun which will take string and return a len of \n",
    "it without using a inbuilt fun len\n",
    "\n",
    "q15 :write a fun which will be able to print an index of all premitive element which you will pass \n",
    "\n",
    "q16 : Write a fun which will take input as a dict and give me out as a list of all the values \n",
    "even in case of 2 level nesting it should work . \n",
    "\n",
    "q17 : write a function whihc will take multiple list as a input and give me concatnation of all the element as \n",
    "and output\n",
    "\n",
    "q18 : Write a function which will whould return list of all the file name from a directory . \n",
    "\n",
    "q19 : write a function whihc will be able to read a image file and show it to you .\n",
    "    \n",
    "q20 : write a function by which you will be able to append two PDF files . \n",
    "    \n",
    "q21 : write a function which can help you to filter only word file from a directory . \n",
    "    \n",
    "q22 : write a function which can read video file and play for you . \n",
    "    \n",
    "q23 : write a function which will be able to shutdonw your system . \n",
    "\n",
    "q24 : Write a function which will whould return list of all the file name from a directory . \n",
    "\n",
    "q25 : write a function whihc will be able to access your mail . \n",
    "        "
   ]
  },
  {
   "cell_type": "code",
   "execution_count": 6,
   "metadata": {},
   "outputs": [
    {
     "name": "stdout",
     "output_type": "stream",
     "text": [
      "* \n",
      "* * \n",
      "* * * \n",
      "* * * * \n",
      "* * * * * \n",
      "* * * * * * \n",
      "* * * * * * * \n",
      "* * * * * * * * \n",
      "* * * * * * * * * \n"
     ]
    }
   ],
   "source": [
    "# q1 : Try to print this by using while loop \n",
    "# * \n",
    "# * * \n",
    "# * * * \n",
    "# * * * * \n",
    "# * * * * * \n",
    "# * * * * * * \n",
    "# * * * * * * * \n",
    "# * * * * * * * * \n",
    "# * * * * * * * * * \n",
    "\n",
    "def star(i: int):\n",
    "    n = 1\n",
    "    while n < i:\n",
    "        print(\"* \"*n)\n",
    "        n += 1\n",
    "\n",
    "star(10)"
   ]
  },
  {
   "cell_type": "code",
   "execution_count": 8,
   "metadata": {},
   "outputs": [
    {
     "name": "stdout",
     "output_type": "stream",
     "text": [
      "\n",
      " A\n",
      " B H\n",
      " C I N\n",
      " D J O S\n",
      " E K P T W\n",
      " F L Q U X Z\n",
      " G M R V Y\n"
     ]
    }
   ],
   "source": [
    "# q2 : try to print below by using while loop : \n",
    "        \n",
    "# A\n",
    "# B H \n",
    "# C I N\n",
    "# D J o S\n",
    "# E K p T W\n",
    "# F L Q U X z\n",
    "# G M R V Y \n",
    "def print_pattern():\n",
    "    x = 0\n",
    "    while x < 8:\n",
    "        content = \"\"\n",
    "        y = 0\n",
    "\n",
    "        while y < x:\n",
    "            z = 0\n",
    "            s = 0\n",
    "\n",
    "            while z < y:\n",
    "                s += 6-z\n",
    "                z += 1\n",
    "\n",
    "            if (x + 64 + s) <= (64+26):\n",
    "                content += \" \" + chr(x + 64 + s)\n",
    "\n",
    "            y += 1\n",
    "            \n",
    "        print(content)\n",
    "        x += 1 \n",
    "\n",
    "print_pattern()\n"
   ]
  },
  {
   "cell_type": "code",
   "execution_count": 18,
   "metadata": {},
   "outputs": [
    {
     "name": "stdout",
     "output_type": "stream",
     "text": [
      " \n",
      "  A\n",
      "  B H\n",
      "  C I N\n",
      "  D J O S\n",
      "  E K P T W\n",
      "  F L Q U X Z\n",
      "  G M R V Y\n"
     ]
    }
   ],
   "source": [
    "x = 0 \n",
    "while x < 8:\n",
    "    content = \" \"\n",
    "    y = 0\n",
    "\n",
    "    while y < x:\n",
    "        s = 0\n",
    "        z = 0\n",
    "        while z < y:\n",
    "            s += 6-z\n",
    "            z += 1\n",
    "        if (x+64+s) <= (64+26):\n",
    "            content += \" \" +chr(x+64+s)\n",
    "        y += 1\n",
    "    print(content)\n",
    "    x += 1 "
   ]
  },
  {
   "cell_type": "code",
   "execution_count": 18,
   "metadata": {},
   "outputs": [
    {
     "name": "stdout",
     "output_type": "stream",
     "text": [
      "42\n",
      "45\n",
      "48\n",
      "51\n",
      "54\n",
      "57\n",
      "60\n",
      "63\n",
      "66\n",
      "69\n",
      "72\n",
      "75\n",
      "78\n",
      "81\n",
      "84\n",
      "87\n",
      "90\n",
      "93\n",
      "96\n",
      "99\n",
      "102\n",
      "105\n",
      "108\n",
      "111\n",
      "114\n",
      "117\n",
      "120\n",
      "123\n",
      "126\n",
      "129\n",
      "132\n",
      "135\n",
      "138\n",
      "141\n",
      "144\n",
      "147\n",
      "150\n",
      "153\n",
      "156\n",
      "159\n",
      "162\n",
      "165\n",
      "168\n",
      "171\n",
      "174\n",
      "177\n",
      "180\n",
      "183\n",
      "186\n",
      "189\n",
      "192\n",
      "195\n",
      "198\n",
      "201\n",
      "204\n",
      "207\n",
      "210\n",
      "213\n",
      "216\n",
      "219\n",
      "222\n",
      "225\n",
      "228\n",
      "231\n",
      "234\n",
      "237\n",
      "240\n",
      "243\n",
      "246\n",
      "249\n",
      "252\n",
      "255\n",
      "258\n",
      "261\n",
      "264\n",
      "267\n",
      "270\n",
      "273\n",
      "276\n",
      "279\n",
      "282\n",
      "285\n",
      "288\n",
      "291\n",
      "294\n",
      "297\n",
      "300\n",
      "303\n",
      "306\n",
      "309\n",
      "312\n",
      "315\n",
      "318\n",
      "321\n",
      "324\n",
      "327\n",
      "330\n",
      "333\n",
      "336\n",
      "339\n",
      "342\n",
      "345\n",
      "348\n",
      "351\n",
      "354\n",
      "357\n",
      "360\n",
      "363\n",
      "366\n",
      "369\n",
      "372\n",
      "375\n",
      "378\n",
      "381\n",
      "384\n",
      "387\n",
      "390\n",
      "393\n",
      "396\n",
      "399\n"
     ]
    }
   ],
   "source": [
    "# q3 : Try to print all the number divisible by 3 in between a range of 40 - 400\n",
    "def divisible3():\n",
    "    a = list(range(40,400))\n",
    "    i = 0 \n",
    "    while i < len(a): \n",
    "        if a[i] % 3 == 0:\n",
    "            print(a[i])\n",
    "        i += 1\n",
    "\n",
    "divisible3()"
   ]
  },
  {
   "cell_type": "code",
   "execution_count": 14,
   "metadata": {},
   "outputs": [
    {
     "data": {
      "text/plain": [
       "' Pythn s  hgh-lvl, ntrprtd, gnrl-prps prgrmmng lngg. ts dsgn phlsphy mphszs cd rdblty wth th s f sgnfcnt ndnttn.[32]\\n\\nPythn s dynmclly-typd nd grbg-cllctd. t spprts mltpl prgrmmng prdgms, ncldng strctrd (prtclrly prcdrl), bjct-rntd nd fnctnl prgrmmng. t s ftn dscrbd s  \"bttrs ncldd\" lngg d t ts cmprhnsv stndrd lbrry.[33][34]\\n\\nGd vn Rssm bgn wrkng n Pythn n th lt 1980s s  sccssr t th BC prgrmmng lngg nd frst rlsd t n 1991 s Pythn 0.9.0.[35] Pythn 2.0 ws rlsd n 2000 nd ntrdcd nw ftrs sch s lst cmprhnsns, cycl-dtctng grbg cllctn, rfrnc cntng, nd ncd spprt. Pythn 3.0, rlsd n 2008, ws  mjr rvsn tht s nt cmpltly bckwrd-cmptbl wth rlr vrsns. Pythn 2 ws dscntnd wth vrsn 2.7.18 n 2020.[36]\\n\\nPythn cnsstntly rnks s n f th mst pplr prgrmmng lnggsc'"
      ]
     },
     "execution_count": 14,
     "metadata": {},
     "output_type": "execute_result"
    }
   ],
   "source": [
    "# q4 : Try to filter out all the vowels form below text by using while loop : \n",
    "text =  \"\"\"Python is a high-level, interpreted, general-purpose programming language. Its design philosophy emphasizes code readability with the use of significant indentation.[32]\n",
    "\n",
    "Python is dynamically-typed and garbage-collected. It supports multiple programming paradigms, including structured (particularly procedural), object-oriented and functional programming. It is often described as a \"batteries included\" language due to its comprehensive standard library.[33][34]\n",
    "\n",
    "Guido van Rossum began working on Python in the late 1980s as a successor to the ABC programming language and first released it in 1991 as Python 0.9.0.[35] Python 2.0 was released in 2000 and introduced new features such as list comprehensions, cycle-detecting garbage collection, reference counting, and Unicode support. Python 3.0, released in 2008, was a major revision that is not completely backward-compatible with earlier versions. Python 2 was discontinued with version 2.7.18 in 2020.[36]\n",
    "\n",
    "Python consistently ranks as one of the most popular programming languagesc\"\"\" \n",
    "def vowel_filter(text: str):\n",
    "    vowel = \"aeiouAEIOU\"\n",
    "    index = 0\n",
    "    filter_text = \" \"\n",
    "    while index < len(text):\n",
    "        if text[index] not in vowel:\n",
    "            filter_text += text[index]\n",
    "        \n",
    "        index += 1\n",
    "    return filter_text\n",
    "\n",
    "vowel_filter(text)\n"
   ]
  },
  {
   "cell_type": "code",
   "execution_count": 16,
   "metadata": {},
   "outputs": [
    {
     "data": {
      "text/plain": [
       "[2,\n",
       " 4,\n",
       " 6,\n",
       " 8,\n",
       " 10,\n",
       " 12,\n",
       " 14,\n",
       " 16,\n",
       " 18,\n",
       " 20,\n",
       " 22,\n",
       " 24,\n",
       " 26,\n",
       " 28,\n",
       " 30,\n",
       " 32,\n",
       " 34,\n",
       " 36,\n",
       " 38,\n",
       " 40,\n",
       " 42,\n",
       " 44,\n",
       " 46,\n",
       " 48,\n",
       " 50,\n",
       " 52,\n",
       " 54,\n",
       " 56,\n",
       " 58,\n",
       " 60,\n",
       " 62,\n",
       " 64,\n",
       " 66,\n",
       " 68,\n",
       " 70,\n",
       " 72,\n",
       " 74,\n",
       " 76,\n",
       " 78,\n",
       " 80,\n",
       " 82,\n",
       " 84,\n",
       " 86,\n",
       " 88,\n",
       " 90,\n",
       " 92,\n",
       " 94,\n",
       " 96,\n",
       " 98,\n",
       " 100,\n",
       " 102,\n",
       " 104,\n",
       " 106,\n",
       " 108,\n",
       " 110,\n",
       " 112,\n",
       " 114,\n",
       " 116,\n",
       " 118,\n",
       " 120,\n",
       " 122,\n",
       " 124,\n",
       " 126,\n",
       " 128,\n",
       " 130,\n",
       " 132,\n",
       " 134,\n",
       " 136,\n",
       " 138,\n",
       " 140,\n",
       " 142,\n",
       " 144,\n",
       " 146,\n",
       " 148,\n",
       " 150,\n",
       " 152,\n",
       " 154,\n",
       " 156,\n",
       " 158,\n",
       " 160,\n",
       " 162,\n",
       " 164,\n",
       " 166,\n",
       " 168,\n",
       " 170,\n",
       " 172,\n",
       " 174,\n",
       " 176,\n",
       " 178,\n",
       " 180,\n",
       " 182,\n",
       " 184,\n",
       " 186,\n",
       " 188,\n",
       " 190,\n",
       " 192,\n",
       " 194,\n",
       " 196,\n",
       " 198,\n",
       " 200,\n",
       " 202,\n",
       " 204,\n",
       " 206,\n",
       " 208,\n",
       " 210,\n",
       " 212,\n",
       " 214,\n",
       " 216,\n",
       " 218,\n",
       " 220,\n",
       " 222,\n",
       " 224,\n",
       " 226,\n",
       " 228,\n",
       " 230,\n",
       " 232,\n",
       " 234,\n",
       " 236,\n",
       " 238,\n",
       " 240,\n",
       " 242,\n",
       " 244,\n",
       " 246,\n",
       " 248,\n",
       " 250,\n",
       " 252,\n",
       " 254,\n",
       " 256,\n",
       " 258,\n",
       " 260,\n",
       " 262,\n",
       " 264,\n",
       " 266,\n",
       " 268,\n",
       " 270,\n",
       " 272,\n",
       " 274,\n",
       " 276,\n",
       " 278,\n",
       " 280,\n",
       " 282,\n",
       " 284,\n",
       " 286,\n",
       " 288,\n",
       " 290,\n",
       " 292,\n",
       " 294,\n",
       " 296,\n",
       " 298,\n",
       " 300,\n",
       " 302,\n",
       " 304,\n",
       " 306,\n",
       " 308,\n",
       " 310,\n",
       " 312,\n",
       " 314,\n",
       " 316,\n",
       " 318,\n",
       " 320,\n",
       " 322,\n",
       " 324,\n",
       " 326,\n",
       " 328,\n",
       " 330,\n",
       " 332,\n",
       " 334,\n",
       " 336,\n",
       " 338,\n",
       " 340,\n",
       " 342,\n",
       " 344,\n",
       " 346,\n",
       " 348,\n",
       " 350,\n",
       " 352,\n",
       " 354,\n",
       " 356,\n",
       " 358,\n",
       " 360,\n",
       " 362,\n",
       " 364,\n",
       " 366,\n",
       " 368,\n",
       " 370,\n",
       " 372,\n",
       " 374,\n",
       " 376,\n",
       " 378,\n",
       " 380,\n",
       " 382,\n",
       " 384,\n",
       " 386,\n",
       " 388,\n",
       " 390,\n",
       " 392,\n",
       " 394,\n",
       " 396,\n",
       " 398,\n",
       " 400,\n",
       " 402,\n",
       " 404,\n",
       " 406,\n",
       " 408,\n",
       " 410,\n",
       " 412,\n",
       " 414,\n",
       " 416,\n",
       " 418,\n",
       " 420,\n",
       " 422,\n",
       " 424,\n",
       " 426,\n",
       " 428,\n",
       " 430,\n",
       " 432,\n",
       " 434,\n",
       " 436,\n",
       " 438,\n",
       " 440,\n",
       " 442,\n",
       " 444,\n",
       " 446,\n",
       " 448,\n",
       " 450,\n",
       " 452,\n",
       " 454,\n",
       " 456,\n",
       " 458,\n",
       " 460,\n",
       " 462,\n",
       " 464,\n",
       " 466,\n",
       " 468,\n",
       " 470,\n",
       " 472,\n",
       " 474,\n",
       " 476,\n",
       " 478,\n",
       " 480,\n",
       " 482,\n",
       " 484,\n",
       " 486,\n",
       " 488,\n",
       " 490,\n",
       " 492,\n",
       " 494,\n",
       " 496,\n",
       " 498,\n",
       " 500,\n",
       " 502,\n",
       " 504,\n",
       " 506,\n",
       " 508,\n",
       " 510,\n",
       " 512,\n",
       " 514,\n",
       " 516,\n",
       " 518,\n",
       " 520,\n",
       " 522,\n",
       " 524,\n",
       " 526,\n",
       " 528,\n",
       " 530,\n",
       " 532,\n",
       " 534,\n",
       " 536,\n",
       " 538,\n",
       " 540,\n",
       " 542,\n",
       " 544,\n",
       " 546,\n",
       " 548,\n",
       " 550,\n",
       " 552,\n",
       " 554,\n",
       " 556,\n",
       " 558,\n",
       " 560,\n",
       " 562,\n",
       " 564,\n",
       " 566,\n",
       " 568,\n",
       " 570,\n",
       " 572,\n",
       " 574,\n",
       " 576,\n",
       " 578,\n",
       " 580,\n",
       " 582,\n",
       " 584,\n",
       " 586,\n",
       " 588,\n",
       " 590,\n",
       " 592,\n",
       " 594,\n",
       " 596,\n",
       " 598,\n",
       " 600,\n",
       " 602,\n",
       " 604,\n",
       " 606,\n",
       " 608,\n",
       " 610,\n",
       " 612,\n",
       " 614,\n",
       " 616,\n",
       " 618,\n",
       " 620,\n",
       " 622,\n",
       " 624,\n",
       " 626,\n",
       " 628,\n",
       " 630,\n",
       " 632,\n",
       " 634,\n",
       " 636,\n",
       " 638,\n",
       " 640,\n",
       " 642,\n",
       " 644,\n",
       " 646,\n",
       " 648,\n",
       " 650,\n",
       " 652,\n",
       " 654,\n",
       " 656,\n",
       " 658,\n",
       " 660,\n",
       " 662,\n",
       " 664,\n",
       " 666,\n",
       " 668,\n",
       " 670,\n",
       " 672,\n",
       " 674,\n",
       " 676,\n",
       " 678,\n",
       " 680,\n",
       " 682,\n",
       " 684,\n",
       " 686,\n",
       " 688,\n",
       " 690,\n",
       " 692,\n",
       " 694,\n",
       " 696,\n",
       " 698,\n",
       " 700,\n",
       " 702,\n",
       " 704,\n",
       " 706,\n",
       " 708,\n",
       " 710,\n",
       " 712,\n",
       " 714,\n",
       " 716,\n",
       " 718,\n",
       " 720,\n",
       " 722,\n",
       " 724,\n",
       " 726,\n",
       " 728,\n",
       " 730,\n",
       " 732,\n",
       " 734,\n",
       " 736,\n",
       " 738,\n",
       " 740,\n",
       " 742,\n",
       " 744,\n",
       " 746,\n",
       " 748,\n",
       " 750,\n",
       " 752,\n",
       " 754,\n",
       " 756,\n",
       " 758,\n",
       " 760,\n",
       " 762,\n",
       " 764,\n",
       " 766,\n",
       " 768,\n",
       " 770,\n",
       " 772,\n",
       " 774,\n",
       " 776,\n",
       " 778,\n",
       " 780,\n",
       " 782,\n",
       " 784,\n",
       " 786,\n",
       " 788,\n",
       " 790,\n",
       " 792,\n",
       " 794,\n",
       " 796,\n",
       " 798,\n",
       " 800,\n",
       " 802,\n",
       " 804,\n",
       " 806,\n",
       " 808,\n",
       " 810,\n",
       " 812,\n",
       " 814,\n",
       " 816,\n",
       " 818,\n",
       " 820,\n",
       " 822,\n",
       " 824,\n",
       " 826,\n",
       " 828,\n",
       " 830,\n",
       " 832,\n",
       " 834,\n",
       " 836,\n",
       " 838,\n",
       " 840,\n",
       " 842,\n",
       " 844,\n",
       " 846,\n",
       " 848,\n",
       " 850,\n",
       " 852,\n",
       " 854,\n",
       " 856,\n",
       " 858,\n",
       " 860,\n",
       " 862,\n",
       " 864,\n",
       " 866,\n",
       " 868,\n",
       " 870,\n",
       " 872,\n",
       " 874,\n",
       " 876,\n",
       " 878,\n",
       " 880,\n",
       " 882,\n",
       " 884,\n",
       " 886,\n",
       " 888,\n",
       " 890,\n",
       " 892,\n",
       " 894,\n",
       " 896,\n",
       " 898,\n",
       " 900,\n",
       " 902,\n",
       " 904,\n",
       " 906,\n",
       " 908,\n",
       " 910,\n",
       " 912,\n",
       " 914,\n",
       " 916,\n",
       " 918,\n",
       " 920,\n",
       " 922,\n",
       " 924,\n",
       " 926,\n",
       " 928,\n",
       " 930,\n",
       " 932,\n",
       " 934,\n",
       " 936,\n",
       " 938,\n",
       " 940,\n",
       " 942,\n",
       " 944,\n",
       " 946,\n",
       " 948,\n",
       " 950,\n",
       " 952,\n",
       " 954,\n",
       " 956,\n",
       " 958,\n",
       " 960,\n",
       " 962,\n",
       " 964,\n",
       " 966,\n",
       " 968,\n",
       " 970,\n",
       " 972,\n",
       " 974,\n",
       " 976,\n",
       " 978,\n",
       " 980,\n",
       " 982,\n",
       " 984,\n",
       " 986,\n",
       " 988,\n",
       " 990,\n",
       " 992,\n",
       " 994,\n",
       " 996,\n",
       " 998]"
      ]
     },
     "execution_count": 16,
     "metadata": {},
     "output_type": "execute_result"
    }
   ],
   "source": [
    "# q5 : Try to generate all the even number between 1- 1000\n",
    "def divisible2(n):\n",
    "    i = 1\n",
    "    res = [] \n",
    "    while i < n:\n",
    "        if i % 2 == 0:\n",
    "            res.append(i)\n",
    "        i += 1\n",
    "    return res\n",
    "\n",
    "divisible2(1000)"
   ]
  },
  {
   "cell_type": "code",
   "execution_count": 19,
   "metadata": {},
   "outputs": [
    {
     "name": "stdout",
     "output_type": "stream",
     "text": [
      "17:42:02.088468\n"
     ]
    }
   ],
   "source": [
    "import datetime\n",
    "\n",
    "current_time = datetime.datetime.now().time()\n",
    "print(current_time)"
   ]
  },
  {
   "cell_type": "code",
   "execution_count": 20,
   "metadata": {},
   "outputs": [
    {
     "name": "stdout",
     "output_type": "stream",
     "text": [
      "2023-06-02\n"
     ]
    }
   ],
   "source": [
    "import datetime\n",
    "\n",
    "current_date = datetime.datetime.now().date()\n",
    "print(current_date)"
   ]
  },
  {
   "cell_type": "code",
   "execution_count": 21,
   "metadata": {},
   "outputs": [
    {
     "name": "stdout",
     "output_type": "stream",
     "text": [
      "An error occured while sending mail : (535, b'5.7.8 Username and Password not accepted. Learn more at\\n5.7.8  https://support.google.com/mail/?p=BadCredentials u11-20020a170902714b00b001a525705aa8sm1275353plm.136 - gsmtp')\n"
     ]
    }
   ],
   "source": [
    "import smtplib\n",
    "\n",
    "def send_mail(sender_mail, sender_password, reciever_mail, subject, message):\n",
    "    try:\n",
    "        server = smtplib.SMTP('smtp.gmail.com', 587)\n",
    "        server.starttls()\n",
    "        server.login(sender_mail,sender_password)\n",
    "\n",
    "        email_body = f\"Subject: {subject}\\n\\n{message}\"\n",
    "        server.sendmail(sender_mail, reciever_mail, email_body)\n",
    "        print(\"Email sent successfully!\")\n",
    "    except Exception as e:\n",
    "        print(f\"An error occured while sending mail : {str(e)}\")\n",
    "    finally:\n",
    "        server.quit()\n",
    "\n",
    "sender_mail = 'nikhilshetty00@gmail.com'\n",
    "sender_password = \"*********\"\n",
    "\n",
    "reciever_mail = \"xyz@gmail.com\"\n",
    "subject = \"Hello\"\n",
    "message = \"This is ME Working my ass off\"\n",
    "\n",
    "send_mail(sender_mail, sender_password, reciever_mail, subject, message)"
   ]
  },
  {
   "cell_type": "code",
   "execution_count": 23,
   "metadata": {},
   "outputs": [
    {
     "name": "stdout",
     "output_type": "stream",
     "text": [
      "Alarm activated!\n"
     ]
    }
   ],
   "source": [
    "import datetime\n",
    "import winsound\n",
    "\n",
    "def set_alarm(alarm_time):\n",
    "    current_time = datetime.datetime.now().strftime(\"%H:%M\")\n",
    "    \n",
    "    while current_time != alarm_time:\n",
    "        current_time = datetime.datetime.now().strftime(\"%H:%M\")\n",
    "    \n",
    "    print(\"Alarm activated!\")\n",
    "    frequency = 2500\n",
    "    duration = 2000\n",
    "    winsound.Beep(frequency, duration)\n",
    "\n",
    "# Example usage\n",
    "alarm_time = \"18:51\"\n",
    "set_alarm(alarm_time)\n"
   ]
  },
  {
   "cell_type": "code",
   "execution_count": 24,
   "metadata": {},
   "outputs": [
    {
     "name": "stdout",
     "output_type": "stream",
     "text": [
      "IP address: 192.168.0.167\n"
     ]
    }
   ],
   "source": [
    "import socket\n",
    "\n",
    "hostname = socket.gethostname()\n",
    "ip_address = socket.gethostbyname(hostname)\n",
    "print(\"IP address:\", ip_address)\n"
   ]
  },
  {
   "cell_type": "code",
   "execution_count": 25,
   "metadata": {},
   "outputs": [
    {
     "name": "stdout",
     "output_type": "stream",
     "text": [
      "numpy is installed on your system.\n"
     ]
    }
   ],
   "source": [
    "import subprocess\n",
    "\n",
    "def check_installation(package):\n",
    "    try:\n",
    "        result = subprocess.run(['pip', 'show', package], capture_output=True, text=True)\n",
    "        output = result.stdout\n",
    "        \n",
    "        if output:\n",
    "            print(f\"{package} is installed on your system.\")\n",
    "        else:\n",
    "            print(f\"{package} is not installed on your system.\")\n",
    "    \n",
    "    except subprocess.CalledProcessError:\n",
    "        print(\"An error occurred while checking the installation.\")\n",
    "        \n",
    "# Example usage\n",
    "package_name = 'numpy'\n",
    "check_installation(package_name)\n"
   ]
  },
  {
   "cell_type": "code",
   "execution_count": 26,
   "metadata": {},
   "outputs": [
    {
     "ename": "ModuleNotFoundError",
     "evalue": "No module named 'pyttsx3'",
     "output_type": "error",
     "traceback": [
      "\u001b[1;31m---------------------------------------------------------------------------\u001b[0m",
      "\u001b[1;31mModuleNotFoundError\u001b[0m                       Traceback (most recent call last)",
      "\u001b[1;32mc:\\Users\\nikhi\\INeuron_DS\\practice.ipynb Cell 43\u001b[0m in \u001b[0;36m<cell line: 1>\u001b[1;34m()\u001b[0m\n\u001b[1;32m----> <a href='vscode-notebook-cell:/c%3A/Users/nikhi/INeuron_DS/practice.ipynb#X56sZmlsZQ%3D%3D?line=0'>1</a>\u001b[0m \u001b[39mimport\u001b[39;00m \u001b[39mpyttsx3\u001b[39;00m\n\u001b[0;32m      <a href='vscode-notebook-cell:/c%3A/Users/nikhi/INeuron_DS/practice.ipynb#X56sZmlsZQ%3D%3D?line=2'>3</a>\u001b[0m \u001b[39mdef\u001b[39;00m \u001b[39mtext_to_speech\u001b[39m(text):\n\u001b[0;32m      <a href='vscode-notebook-cell:/c%3A/Users/nikhi/INeuron_DS/practice.ipynb#X56sZmlsZQ%3D%3D?line=3'>4</a>\u001b[0m     engine \u001b[39m=\u001b[39m pyttsx3\u001b[39m.\u001b[39minit()\n",
      "\u001b[1;31mModuleNotFoundError\u001b[0m: No module named 'pyttsx3'"
     ]
    }
   ],
   "source": [
    "import pyttsx3\n",
    "\n",
    "def text_to_speech(text):\n",
    "    engine = pyttsx3.init()\n",
    "    engine.say(text)\n",
    "    engine.runAndWait()\n",
    "\n",
    "# Example usage\n",
    "text = \"Hello, world!\"\n",
    "text_to_speech(text)\n"
   ]
  },
  {
   "cell_type": "code",
   "execution_count": 27,
   "metadata": {},
   "outputs": [
    {
     "name": "stdout",
     "output_type": "stream",
     "text": [
      "Length: 13\n"
     ]
    }
   ],
   "source": [
    "def calculate_length(string):\n",
    "    count = 0\n",
    "    for _ in string:\n",
    "        count += 1\n",
    "    return count\n",
    "\n",
    "# Example usage\n",
    "string = \"Hello, world!\"\n",
    "length = calculate_length(string)\n",
    "print(\"Length:\", length)\n"
   ]
  },
  {
   "cell_type": "code",
   "execution_count": 28,
   "metadata": {},
   "outputs": [
    {
     "name": "stdout",
     "output_type": "stream",
     "text": [
      "Index: 0, Element: 10\n",
      "Index: 1, Element: Hello\n",
      "Index: 2, Element: 3.14\n",
      "Index: 3, Element: True\n",
      "Index: 5, Element: World\n",
      "Index: 6, Element: 42.0\n"
     ]
    }
   ],
   "source": [
    "def print_primitive_indices(*args):\n",
    "    for index, element in enumerate(args):\n",
    "        if type(element).__name__ in {'int', 'float', 'bool', 'str'}:\n",
    "            print(f\"Index: {index}, Element: {element}\")\n",
    "\n",
    "# Example usage\n",
    "print_primitive_indices(10, 'Hello', 3.14, True, [1, 2, 3], 'World', 42.0)\n"
   ]
  },
  {
   "cell_type": "code",
   "execution_count": 29,
   "metadata": {},
   "outputs": [
    {
     "name": "stdout",
     "output_type": "stream",
     "text": [
      "[1, 2, 3, 4]\n"
     ]
    }
   ],
   "source": [
    "def extract_values(dictionary):\n",
    "    values = []\n",
    "    for value in dictionary.values():\n",
    "        if isinstance(value, dict):\n",
    "            values.extend(extract_values(value))\n",
    "        else:\n",
    "            values.append(value)\n",
    "    return values\n",
    "\n",
    "# Example usage\n",
    "nested_dict = {'a': 1, 'b': {'c': 2, 'd': {'e': 3, 'f': 4}}}\n",
    "result = extract_values(nested_dict)\n",
    "print(result)\n"
   ]
  },
  {
   "cell_type": "code",
   "execution_count": 30,
   "metadata": {},
   "outputs": [
    {
     "name": "stdout",
     "output_type": "stream",
     "text": [
      "[1, 2, 3, 'a', 'b', 'c', True, False]\n"
     ]
    }
   ],
   "source": [
    "def concatenate_lists(*lists):\n",
    "    result = []\n",
    "    for lst in lists:\n",
    "        result.extend(lst)\n",
    "    return result\n",
    "\n",
    "# Example usage\n",
    "list1 = [1, 2, 3]\n",
    "list2 = ['a', 'b', 'c']\n",
    "list3 = [True, False]\n",
    "concatenated_list = concatenate_lists(list1, list2, list3)\n",
    "print(concatenated_list)\n"
   ]
  },
  {
   "cell_type": "code",
   "execution_count": 31,
   "metadata": {},
   "outputs": [
    {
     "ename": "FileNotFoundError",
     "evalue": "[WinError 3] The system cannot find the path specified: '/path/to/directory'",
     "output_type": "error",
     "traceback": [
      "\u001b[1;31m---------------------------------------------------------------------------\u001b[0m",
      "\u001b[1;31mFileNotFoundError\u001b[0m                         Traceback (most recent call last)",
      "\u001b[1;32mc:\\Users\\nikhi\\INeuron_DS\\practice.ipynb Cell 48\u001b[0m in \u001b[0;36m<cell line: 12>\u001b[1;34m()\u001b[0m\n\u001b[0;32m     <a href='vscode-notebook-cell:/c%3A/Users/nikhi/INeuron_DS/practice.ipynb#X64sZmlsZQ%3D%3D?line=9'>10</a>\u001b[0m \u001b[39m# Example usage\u001b[39;00m\n\u001b[0;32m     <a href='vscode-notebook-cell:/c%3A/Users/nikhi/INeuron_DS/practice.ipynb#X64sZmlsZQ%3D%3D?line=10'>11</a>\u001b[0m directory_path \u001b[39m=\u001b[39m \u001b[39m'\u001b[39m\u001b[39m/path/to/directory\u001b[39m\u001b[39m'\u001b[39m\n\u001b[1;32m---> <a href='vscode-notebook-cell:/c%3A/Users/nikhi/INeuron_DS/practice.ipynb#X64sZmlsZQ%3D%3D?line=11'>12</a>\u001b[0m file_names \u001b[39m=\u001b[39m get_file_names(directory_path)\n\u001b[0;32m     <a href='vscode-notebook-cell:/c%3A/Users/nikhi/INeuron_DS/practice.ipynb#X64sZmlsZQ%3D%3D?line=12'>13</a>\u001b[0m \u001b[39mprint\u001b[39m(file_names)\n",
      "\u001b[1;32mc:\\Users\\nikhi\\INeuron_DS\\practice.ipynb Cell 48\u001b[0m in \u001b[0;36mget_file_names\u001b[1;34m(directory)\u001b[0m\n\u001b[0;32m      <a href='vscode-notebook-cell:/c%3A/Users/nikhi/INeuron_DS/practice.ipynb#X64sZmlsZQ%3D%3D?line=2'>3</a>\u001b[0m \u001b[39mdef\u001b[39;00m \u001b[39mget_file_names\u001b[39m(directory):\n\u001b[0;32m      <a href='vscode-notebook-cell:/c%3A/Users/nikhi/INeuron_DS/practice.ipynb#X64sZmlsZQ%3D%3D?line=3'>4</a>\u001b[0m     file_names \u001b[39m=\u001b[39m []\n\u001b[1;32m----> <a href='vscode-notebook-cell:/c%3A/Users/nikhi/INeuron_DS/practice.ipynb#X64sZmlsZQ%3D%3D?line=4'>5</a>\u001b[0m     \u001b[39mfor\u001b[39;00m file_name \u001b[39min\u001b[39;00m os\u001b[39m.\u001b[39;49mlistdir(directory):\n\u001b[0;32m      <a href='vscode-notebook-cell:/c%3A/Users/nikhi/INeuron_DS/practice.ipynb#X64sZmlsZQ%3D%3D?line=5'>6</a>\u001b[0m         \u001b[39mif\u001b[39;00m os\u001b[39m.\u001b[39mpath\u001b[39m.\u001b[39misfile(os\u001b[39m.\u001b[39mpath\u001b[39m.\u001b[39mjoin(directory, file_name)):\n\u001b[0;32m      <a href='vscode-notebook-cell:/c%3A/Users/nikhi/INeuron_DS/practice.ipynb#X64sZmlsZQ%3D%3D?line=6'>7</a>\u001b[0m             file_names\u001b[39m.\u001b[39mappend(file_name)\n",
      "\u001b[1;31mFileNotFoundError\u001b[0m: [WinError 3] The system cannot find the path specified: '/path/to/directory'"
     ]
    }
   ],
   "source": [
    "import os\n",
    "\n",
    "def get_file_names(directory):\n",
    "    file_names = []\n",
    "    for file_name in os.listdir(directory):\n",
    "        if os.path.isfile(os.path.join(directory, file_name)):\n",
    "            file_names.append(file_name)\n",
    "    return file_names\n",
    "\n",
    "# Example usage\n",
    "directory_path = '/path/to/directory'\n",
    "file_names = get_file_names(directory_path)\n",
    "print(file_names)\n"
   ]
  },
  {
   "cell_type": "code",
   "execution_count": null,
   "metadata": {},
   "outputs": [],
   "source": [
    "from PIL import Image\n",
    "\n",
    "def show_image(file_path):\n",
    "    image = Image.open(file_path)\n",
    "    image.show()\n",
    "\n",
    "# Example usage\n",
    "image_path = '/path/to/image.jpg'\n",
    "show_image(image_path)\n"
   ]
  },
  {
   "cell_type": "code",
   "execution_count": null,
   "metadata": {},
   "outputs": [],
   "source": [
    "from PyPDF2 import PdfFileMerger\n",
    "\n",
    "def merge_pdfs(file1, file2, output_file):\n",
    "    merger = PdfFileMerger()\n",
    "    merger.append(file1)\n",
    "    merger.append(file2)\n",
    "    merger.write(output_file)\n",
    "    merger.close()\n",
    "\n",
    "# Example usage\n",
    "file1 = 'file1.pdf'\n",
    "file2 = 'file2.pdf'\n",
    "output_file = 'merged.pdf'\n",
    "merge_pdfs(file1, file2, output_file)\n"
   ]
  },
  {
   "cell_type": "code",
   "execution_count": null,
   "metadata": {},
   "outputs": [],
   "source": [
    "import os\n",
    "\n",
    "def filter_word_files(directory):\n",
    "    word_files = []\n",
    "    for file_name in os.listdir(directory):\n",
    "        if file_name.endswith('.doc') or file_name.endswith('.docx'):\n",
    "            word_files.append(file_name)\n",
    "    return word_files\n",
    "\n",
    "# Example usage\n",
    "directory_path = '/path/to/directory'\n",
    "word_files = filter_word_files(directory_path)\n",
    "print(word_files)\n"
   ]
  },
  {
   "cell_type": "code",
   "execution_count": null,
   "metadata": {},
   "outputs": [],
   "source": [
    "import cv2\n",
    "\n",
    "def play_video(file_path):\n",
    "    video = cv2.VideoCapture(file_path)\n",
    "    while True:\n",
    "        ret, frame = video.read()\n",
    "        if not ret:\n",
    "            break\n",
    "        cv2.imshow('Video', frame)\n",
    "        if cv2.waitKey(1) == ord('q'):\n",
    "            break\n",
    "    video.release()\n",
    "    cv2.destroyAllWindows()\n",
    "\n",
    "# Example usage\n",
    "video_path = '/path/to/video.mp4'\n",
    "play_video(video_path)\n"
   ]
  },
  {
   "cell_type": "code",
   "execution_count": null,
   "metadata": {},
   "outputs": [],
   "source": [
    "import os\n",
    "\n",
    "def shutdown_system():\n",
    "    if os.name == 'nt':  # For Windows\n",
    "        os.system('shutdown /s /t 0')\n",
    "    else:  # For Linux and macOS\n",
    "        os.system('shutdown now')\n",
    "\n",
    "# Example usage\n",
    "shutdown_system()\n"
   ]
  },
  {
   "cell_type": "code",
   "execution_count": null,
   "metadata": {},
   "outputs": [],
   "source": [
    "import os\n",
    "\n",
    "def get_file_names(directory):\n",
    "    file_names = []\n",
    "    for file_name in os.listdir(directory):\n",
    "        file_names.append(file_name)\n",
    "    return file_names\n",
    "\n",
    "# Example usage\n",
    "directory_path = '/path/to/directory'\n",
    "file_names = get_file_names(directory_path)\n",
    "print(file_names)\n"
   ]
  },
  {
   "cell_type": "code",
   "execution_count": null,
   "metadata": {},
   "outputs": [],
   "source": [
    "import imaplib\n",
    "\n",
    "def access_email(server, username, password):\n",
    "    # Connect to the IMAP server\n",
    "    mail = imaplib.IMAP4_SSL(server)\n",
    "\n",
    "    # Login to the email account\n",
    "    mail.login(username, password)\n",
    "\n",
    "    # Select the mailbox (e.g., \"INBOX\")\n",
    "    mail.select(\"INBOX\")\n",
    "\n",
    "    # Search for emails based on criteria (e.g., all unseen emails)\n",
    "    status, data = mail.search(None, \"UNSEEN\")\n",
    "\n",
    "    # Fetch the email IDs\n",
    "    email_ids = data[0].split()\n",
    "\n",
    "    # Iterate over each email ID and fetch the corresponding email\n",
    "    for email_id in email_ids:\n",
    "        status, email_data = mail.fetch(email_id, \"(RFC822)\")\n",
    "\n",
    "        # Process and print the email data (you can customize this part)\n",
    "        print(email_data)\n",
    "\n",
    "    # Close the connection to the server\n",
    "    mail.close()\n",
    "    mail.logout()\n",
    "\n",
    "# Example usage\n",
    "email_server = \"imap.example.com\"\n",
    "email_username = \"your_email@example.com\"\n",
    "email_password = \"your_email_password\"\n",
    "access_email(email_server, email_username, email_password)\n"
   ]
  },
  {
   "cell_type": "code",
   "execution_count": 23,
   "metadata": {},
   "outputs": [
    {
     "name": "stdout",
     "output_type": "stream",
     "text": [
      "\n",
      " A\n",
      " B H\n",
      " C I N\n",
      " D J O S\n",
      " E K P T W\n",
      " F L Q U X Z\n",
      " G M R V Y\n"
     ]
    }
   ],
   "source": [
    "x = 0 \n",
    "while x < 8:\n",
    "    content = \"\"\n",
    "    y = 0\n",
    "\n",
    "    while y < x:\n",
    "        z = 0\n",
    "        sum = 0\n",
    "\n",
    "        while z < y:\n",
    "            sum += 6-z\n",
    "            z += 1\n",
    "        if (x +64+sum) <= (64+26):\n",
    "            content += \" \"+ chr(x+64+sum)\n",
    "        y += 1\n",
    "    print(content)\n",
    "    x += 1   \n",
    "\n"
   ]
  },
  {
   "cell_type": "code",
   "execution_count": 28,
   "metadata": {},
   "outputs": [
    {
     "name": "stdout",
     "output_type": "stream",
     "text": [
      "\n",
      " A\n",
      " B H\n",
      " C I N\n",
      " D J O S\n",
      " E K P T W\n",
      " F L Q U X Z\n",
      " G M R V Y\n"
     ]
    }
   ],
   "source": [
    "x = 0\n",
    "while x < 8:\n",
    "    content = \"\"\n",
    "    y = 0\n",
    "    while y < x:\n",
    "        z = 0\n",
    "        sum = 0\n",
    "        while z < y:\n",
    "            sum += 6-z\n",
    "            z += 1\n",
    "        if (x+64+sum) <= (64 + 26):\n",
    "            content += \" \"+ chr(x+64+sum)\n",
    "        y += 1\n",
    "    print(content)\n",
    "    x += 1\n"
   ]
  },
  {
   "cell_type": "code",
   "execution_count": 35,
   "metadata": {},
   "outputs": [],
   "source": [
    "s = \"this is My First Python programming class and i am learNING python string and its function\""
   ]
  },
  {
   "cell_type": "code",
   "execution_count": 13,
   "metadata": {},
   "outputs": [
    {
     "data": {
      "text/plain": [
       "'h   r tnrrmglsnimeNGyosi dtfco'"
      ]
     },
     "execution_count": 13,
     "metadata": {},
     "output_type": "execute_result"
    }
   ],
   "source": [
    "# 1 . Try to extract data from index one to index 300 with a jump of 3\n",
    "s[1:300:3]"
   ]
  },
  {
   "cell_type": "code",
   "execution_count": 14,
   "metadata": {},
   "outputs": [
    {
     "data": {
      "text/plain": [
       "'noitcnuf sti dna gnirts nohtyp GNINrael ma i dna ssalc gnimmargorp nohtyP tsriF yM si siht'"
      ]
     },
     "execution_count": 14,
     "metadata": {},
     "output_type": "execute_result"
    }
   ],
   "source": [
    "# 2. Try to reverse a string without using reverse function\n",
    "s[::-1]"
   ]
  },
  {
   "cell_type": "code",
   "execution_count": 16,
   "metadata": {},
   "outputs": [
    {
     "data": {
      "text/plain": [
       "['THIS',\n",
       " 'IS',\n",
       " 'MY',\n",
       " 'FIRST',\n",
       " 'PYTHON',\n",
       " 'PROGRAMMING',\n",
       " 'CLASS',\n",
       " 'AND',\n",
       " 'I',\n",
       " 'AM',\n",
       " 'LEARNING',\n",
       " 'PYTHON',\n",
       " 'STRING',\n",
       " 'AND',\n",
       " 'ITS',\n",
       " 'FUNCTION']"
      ]
     },
     "execution_count": 16,
     "metadata": {},
     "output_type": "execute_result"
    }
   ],
   "source": [
    "# 3. Try to split a string after conversion of entire string in uppercase \n",
    "s.upper().split(\" \")"
   ]
  },
  {
   "cell_type": "code",
   "execution_count": 17,
   "metadata": {},
   "outputs": [
    {
     "data": {
      "text/plain": [
       "'this is my first python programming class and i am learning python string and its function'"
      ]
     },
     "execution_count": 17,
     "metadata": {},
     "output_type": "execute_result"
    }
   ],
   "source": [
    "# 4. try to convert the whole string into lower case \n",
    "s.lower()"
   ]
  },
  {
   "cell_type": "code",
   "execution_count": 25,
   "metadata": {},
   "outputs": [
    {
     "data": {
      "text/plain": [
       "'This is my first python programming class and i am learning python string and its function'"
      ]
     },
     "execution_count": 25,
     "metadata": {},
     "output_type": "execute_result"
    }
   ],
   "source": [
    "# 5 . Try to capitalize the whole string \n",
    "s.capitalize()"
   ]
  },
  {
   "cell_type": "code",
   "execution_count": 19,
   "metadata": {},
   "outputs": [
    {
     "data": {
      "text/plain": [
       "False"
      ]
     },
     "execution_count": 19,
     "metadata": {},
     "output_type": "execute_result"
    }
   ],
   "source": [
    "# 6 . Write a diference between isalnum() and isalpha()\n",
    "\n",
    "s.isalnum()"
   ]
  },
  {
   "cell_type": "code",
   "execution_count": 24,
   "metadata": {},
   "outputs": [
    {
     "data": {
      "text/plain": [
       "False"
      ]
     },
     "execution_count": 24,
     "metadata": {},
     "output_type": "execute_result"
    }
   ],
   "source": [
    "s.isalpha()"
   ]
  },
  {
   "cell_type": "code",
   "execution_count": 27,
   "metadata": {},
   "outputs": [
    {
     "data": {
      "text/plain": [
       "'xyzyu   12345   abc'"
      ]
     },
     "execution_count": 27,
     "metadata": {},
     "output_type": "execute_result"
    }
   ],
   "source": [
    "# 7. Try to give an example of expand tab\n",
    "s = \"xyzyu\\t12345\\tabc\"\n",
    "s.expandtabs()"
   ]
  },
  {
   "cell_type": "code",
   "execution_count": 31,
   "metadata": {},
   "outputs": [
    {
     "data": {
      "text/plain": [
       "'               baby'"
      ]
     },
     "execution_count": 31,
     "metadata": {},
     "output_type": "execute_result"
    }
   ],
   "source": [
    "temp=\"               baby           \"\n",
    "# temp.strip()\n",
    "# temp.lstrip()\n",
    "temp.rstrip()"
   ]
  },
  {
   "cell_type": "code",
   "execution_count": 36,
   "metadata": {},
   "outputs": [
    {
     "data": {
      "text/plain": [
       "'This is My First Python programming class and i am learNING python string and its function'"
      ]
     },
     "execution_count": 36,
     "metadata": {},
     "output_type": "execute_result"
    }
   ],
   "source": [
    "s.replace(\"this\", \"This\")"
   ]
  },
  {
   "cell_type": "code",
   "execution_count": 37,
   "metadata": {},
   "outputs": [],
   "source": [
    "l = [3,4,5,6,7 , [23,456,67,8,78,78] , [345,56,87,8,98,9] , (234,6657,6) , {\"key1\" :\"sudh\" , 234:[23,45,656]}]"
   ]
  },
  {
   "cell_type": "code",
   "execution_count": 38,
   "metadata": {},
   "outputs": [
    {
     "data": {
      "text/plain": [
       "[{'key1': 'sudh', 234: [23, 45, 656]},\n",
       " (234, 6657, 6),\n",
       " [345, 56, 87, 8, 98, 9],\n",
       " [23, 456, 67, 8, 78, 78],\n",
       " 7,\n",
       " 6,\n",
       " 5,\n",
       " 4,\n",
       " 3]"
      ]
     },
     "execution_count": 38,
     "metadata": {},
     "output_type": "execute_result"
    }
   ],
   "source": [
    "l[::-1]"
   ]
  },
  {
   "cell_type": "code",
   "execution_count": 39,
   "metadata": {},
   "outputs": [],
   "source": [
    "l.reverse()"
   ]
  },
  {
   "cell_type": "code",
   "execution_count": 40,
   "metadata": {},
   "outputs": [
    {
     "data": {
      "text/plain": [
       "[{'key1': 'sudh', 234: [23, 45, 656]},\n",
       " (234, 6657, 6),\n",
       " [345, 56, 87, 8, 98, 9],\n",
       " [23, 456, 67, 8, 78, 78],\n",
       " 7,\n",
       " 6,\n",
       " 5,\n",
       " 4,\n",
       " 3]"
      ]
     },
     "execution_count": 40,
     "metadata": {},
     "output_type": "execute_result"
    }
   ],
   "source": [
    "l"
   ]
  },
  {
   "cell_type": "code",
   "execution_count": 2,
   "metadata": {},
   "outputs": [
    {
     "data": {
      "text/plain": [
       "9"
      ]
     },
     "execution_count": 2,
     "metadata": {},
     "output_type": "execute_result"
    }
   ],
   "source": [
    "def test(a,b):\n",
    "    return a + b\n",
    "\n",
    "test(4,5)\n"
   ]
  },
  {
   "cell_type": "code",
   "execution_count": 3,
   "metadata": {},
   "outputs": [
    {
     "data": {
      "text/plain": [
       "'nikhilshetty'"
      ]
     },
     "execution_count": 3,
     "metadata": {},
     "output_type": "execute_result"
    }
   ],
   "source": [
    "test(\"nikhil\",\"shetty\")"
   ]
  },
  {
   "cell_type": "code",
   "execution_count": 5,
   "metadata": {},
   "outputs": [
    {
     "name": "stdout",
     "output_type": "stream",
     "text": [
      "<class 'tuple'>\n"
     ]
    }
   ],
   "source": [
    "# Multiple parameters at a time > *x\n",
    "def test2(*x):\n",
    "    return x\n",
    "\n",
    "print(type(test2(4,5,6,7,7,8,4,3)))\n"
   ]
  },
  {
   "cell_type": "code",
   "execution_count": 6,
   "metadata": {},
   "outputs": [
    {
     "data": {
      "text/plain": [
       "[4, 5, 6, 7, 7, 8, 4, 3]"
      ]
     },
     "execution_count": 6,
     "metadata": {},
     "output_type": "execute_result"
    }
   ],
   "source": [
    "def test3(*a):\n",
    "    l = []\n",
    "    for i in a:\n",
    "        l.append(i)\n",
    "    return l\n",
    "\n",
    "test3(4,5,6,7,7,8,4,3)"
   ]
  },
  {
   "cell_type": "code",
   "execution_count": 7,
   "metadata": {},
   "outputs": [],
   "source": [
    "# For muliple key:pair parameters at a time > **m\n",
    "def test4(**m): \n",
    "    pass"
   ]
  },
  {
   "cell_type": "code",
   "execution_count": 11,
   "metadata": {},
   "outputs": [
    {
     "data": {
      "text/plain": [
       "[1, 4, 9, 16, 25, 36, 49, 64, 81]"
      ]
     },
     "execution_count": 11,
     "metadata": {},
     "output_type": "execute_result"
    }
   ],
   "source": [
    "l = [i*i for i in range(1,10)]\n",
    "l"
   ]
  },
  {
   "cell_type": "code",
   "execution_count": 22,
   "metadata": {},
   "outputs": [
    {
     "data": {
      "text/plain": [
       "3"
      ]
     },
     "execution_count": 22,
     "metadata": {},
     "output_type": "execute_result"
    }
   ],
   "source": [
    "def test14(**kwargs):\n",
    "    count = 0\n",
    "    for i in kwargs.values():\n",
    "        if type(i) == str or type(i) == list:\n",
    "            count += 1\n",
    "    return count\n",
    "\n",
    "test14(a=7,b=\"tyler\",c=7.44,d=[1,6,7,4,5], e=\"figo\")"
   ]
  },
  {
   "cell_type": "code",
   "execution_count": 20,
   "metadata": {},
   "outputs": [
    {
     "data": {
      "text/plain": [
       "[2,\n",
       " 3,\n",
       " 5,\n",
       " 7,\n",
       " 11,\n",
       " 13,\n",
       " 17,\n",
       " 19,\n",
       " 23,\n",
       " 29,\n",
       " 31,\n",
       " 37,\n",
       " 41,\n",
       " 43,\n",
       " 47,\n",
       " 53,\n",
       " 59,\n",
       " 61,\n",
       " 67,\n",
       " 71,\n",
       " 73,\n",
       " 79,\n",
       " 83,\n",
       " 89,\n",
       " 97,\n",
       " 101,\n",
       " 103,\n",
       " 107,\n",
       " 109,\n",
       " 113,\n",
       " 127,\n",
       " 131,\n",
       " 137,\n",
       " 139,\n",
       " 149,\n",
       " 151,\n",
       " 157,\n",
       " 163,\n",
       " 167,\n",
       " 173,\n",
       " 179,\n",
       " 181,\n",
       " 191,\n",
       " 193,\n",
       " 197,\n",
       " 199,\n",
       " 211,\n",
       " 223,\n",
       " 227,\n",
       " 229,\n",
       " 233,\n",
       " 239,\n",
       " 241,\n",
       " 251,\n",
       " 257,\n",
       " 263,\n",
       " 269,\n",
       " 271,\n",
       " 277,\n",
       " 281,\n",
       " 283,\n",
       " 293,\n",
       " 307,\n",
       " 311,\n",
       " 313,\n",
       " 317,\n",
       " 331,\n",
       " 337,\n",
       " 347,\n",
       " 349,\n",
       " 353,\n",
       " 359,\n",
       " 367,\n",
       " 373,\n",
       " 379,\n",
       " 383,\n",
       " 389,\n",
       " 397,\n",
       " 401,\n",
       " 409,\n",
       " 419,\n",
       " 421,\n",
       " 431,\n",
       " 433,\n",
       " 439,\n",
       " 443,\n",
       " 449,\n",
       " 457,\n",
       " 461,\n",
       " 463,\n",
       " 467,\n",
       " 479,\n",
       " 487,\n",
       " 491,\n",
       " 499,\n",
       " 503,\n",
       " 509,\n",
       " 521,\n",
       " 523,\n",
       " 541,\n",
       " 547,\n",
       " 557,\n",
       " 563,\n",
       " 569,\n",
       " 571,\n",
       " 577,\n",
       " 587,\n",
       " 593,\n",
       " 599,\n",
       " 601,\n",
       " 607,\n",
       " 613,\n",
       " 617,\n",
       " 619,\n",
       " 631,\n",
       " 641,\n",
       " 643,\n",
       " 647,\n",
       " 653,\n",
       " 659,\n",
       " 661,\n",
       " 673,\n",
       " 677,\n",
       " 683,\n",
       " 691,\n",
       " 701,\n",
       " 709,\n",
       " 719,\n",
       " 727,\n",
       " 733,\n",
       " 739,\n",
       " 743,\n",
       " 751,\n",
       " 757,\n",
       " 761,\n",
       " 769,\n",
       " 773,\n",
       " 787,\n",
       " 797,\n",
       " 809,\n",
       " 811,\n",
       " 821,\n",
       " 823,\n",
       " 827,\n",
       " 829,\n",
       " 839,\n",
       " 853,\n",
       " 857,\n",
       " 859,\n",
       " 863,\n",
       " 877,\n",
       " 881,\n",
       " 883,\n",
       " 887,\n",
       " 907,\n",
       " 911,\n",
       " 919,\n",
       " 929,\n",
       " 937,\n",
       " 941,\n",
       " 947,\n",
       " 953,\n",
       " 967,\n",
       " 971,\n",
       " 977,\n",
       " 983,\n",
       " 991,\n",
       " 997]"
      ]
     },
     "execution_count": 20,
     "metadata": {},
     "output_type": "execute_result"
    }
   ],
   "source": [
    "# TO-DO:\n",
    "# > Try to print prime numbers between 1 to 1000\n",
    "\n",
    "# > lambda function which can return a concatenation of all the strings that is passed\n",
    "# > lambda function which can return list of squares of all data between 1-100\n",
    "# > 10 Different operations of lambda function\n",
    "# > Function for reading a file document  \n",
    "\n",
    "\n",
    "def Is_prime_numbers():\n",
    "    res = []\n",
    "    for x in range(2,1000+1):\n",
    "        for y in range(2,x):\n",
    "            if x % y == 0:\n",
    "                break\n",
    "        else:\n",
    "            res.append(x)\n",
    "    return res\n",
    "\n",
    "\n",
    "\n",
    "\n",
    "Is_prime_numbers()\n",
    "\n"
   ]
  },
  {
   "cell_type": "code",
   "execution_count": 28,
   "metadata": {},
   "outputs": [
    {
     "data": {
      "text/plain": [
       "'Only the idiots that follow me get to see the scenery that comes next'"
      ]
     },
     "execution_count": 28,
     "metadata": {},
     "output_type": "execute_result"
    }
   ],
   "source": [
    "# > Function which is equivalent to print function \n",
    "def printValues(text:str):\n",
    "    return text\n",
    "\n",
    "printValues(\"Only the idiots that follow me get to see the scenery that comes next\")\n"
   ]
  },
  {
   "cell_type": "code",
   "execution_count": 26,
   "metadata": {},
   "outputs": [
    {
     "data": {
      "text/plain": [
       "['tata', 'skoda', 'fiat', 'i20', 'rover']"
      ]
     },
     "execution_count": 26,
     "metadata": {},
     "output_type": "execute_result"
    }
   ],
   "source": [
    "# > Function which is equivalent to list append, extend and pop\n",
    "def addItem(file, content):\n",
    "    file += [content]\n",
    "\n",
    "cars = ['tata', 'skoda', 'fiat', 'i20']\n",
    "\n",
    "addItem(cars, 'rover')\n",
    "cars"
   ]
  },
  {
   "cell_type": "code",
   "execution_count": 31,
   "metadata": {},
   "outputs": [
    {
     "data": {
      "text/plain": [
       "[1, 2, 3, 4, 5, 6]"
      ]
     },
     "execution_count": 31,
     "metadata": {},
     "output_type": "execute_result"
    }
   ],
   "source": [
    "def extendItem(lst1, lst2):\n",
    "    for item in lst2:\n",
    "        lst1[len(lst1):] = [item]\n",
    "    return lst1\n",
    "\n",
    "my_list = [1, 2, 3]\n",
    "items_to_add = [4, 5, 6]\n",
    "\n",
    "extendItem(my_list, items_to_add)"
   ]
  },
  {
   "cell_type": "code",
   "execution_count": 32,
   "metadata": {},
   "outputs": [
    {
     "data": {
      "text/plain": [
       "6"
      ]
     },
     "execution_count": 32,
     "metadata": {},
     "output_type": "execute_result"
    }
   ],
   "source": [
    "def custom_pop(lst):\n",
    "    if len(lst) == 0:\n",
    "        raise IndexError(\"Cannot pop from an empty list\")\n",
    "\n",
    "    # Get the last element\n",
    "    last_element = lst[-1]\n",
    "\n",
    "    # Create a new list without the last element\n",
    "    new_list = lst[:-1]\n",
    "\n",
    "    # Reassign the new list to the original list\n",
    "    lst[:] = new_list\n",
    "\n",
    "    # Return the popped element\n",
    "    return last_element\n",
    "\n",
    "custom_pop(my_list)"
   ]
  },
  {
   "cell_type": "code",
   "execution_count": 29,
   "metadata": {},
   "outputs": [
    {
     "data": {
      "text/plain": [
       "'This is  what i was looking for'"
      ]
     },
     "execution_count": 29,
     "metadata": {},
     "output_type": "execute_result"
    }
   ],
   "source": [
    "a = lambda *x: \"\".join(x)\n",
    "\n",
    "a(\"This \", \"is  \", \"what\",\" i was looking for\")"
   ]
  },
  {
   "cell_type": "code",
   "execution_count": 31,
   "metadata": {},
   "outputs": [
    {
     "data": {
      "text/plain": [
       "[1,\n",
       " 4,\n",
       " 9,\n",
       " 16,\n",
       " 25,\n",
       " 36,\n",
       " 49,\n",
       " 64,\n",
       " 81,\n",
       " 100,\n",
       " 121,\n",
       " 144,\n",
       " 169,\n",
       " 196,\n",
       " 225,\n",
       " 256,\n",
       " 289,\n",
       " 324,\n",
       " 361,\n",
       " 400,\n",
       " 441,\n",
       " 484,\n",
       " 529,\n",
       " 576,\n",
       " 625,\n",
       " 676,\n",
       " 729,\n",
       " 784,\n",
       " 841,\n",
       " 900,\n",
       " 961,\n",
       " 1024,\n",
       " 1089,\n",
       " 1156,\n",
       " 1225,\n",
       " 1296,\n",
       " 1369,\n",
       " 1444,\n",
       " 1521,\n",
       " 1600,\n",
       " 1681,\n",
       " 1764,\n",
       " 1849,\n",
       " 1936,\n",
       " 2025,\n",
       " 2116,\n",
       " 2209,\n",
       " 2304,\n",
       " 2401,\n",
       " 2500,\n",
       " 2601,\n",
       " 2704,\n",
       " 2809,\n",
       " 2916,\n",
       " 3025,\n",
       " 3136,\n",
       " 3249,\n",
       " 3364,\n",
       " 3481,\n",
       " 3600,\n",
       " 3721,\n",
       " 3844,\n",
       " 3969,\n",
       " 4096,\n",
       " 4225,\n",
       " 4356,\n",
       " 4489,\n",
       " 4624,\n",
       " 4761,\n",
       " 4900,\n",
       " 5041,\n",
       " 5184,\n",
       " 5329,\n",
       " 5476,\n",
       " 5625,\n",
       " 5776,\n",
       " 5929,\n",
       " 6084,\n",
       " 6241,\n",
       " 6400,\n",
       " 6561,\n",
       " 6724,\n",
       " 6889,\n",
       " 7056,\n",
       " 7225,\n",
       " 7396,\n",
       " 7569,\n",
       " 7744,\n",
       " 7921,\n",
       " 8100,\n",
       " 8281,\n",
       " 8464,\n",
       " 8649,\n",
       " 8836,\n",
       " 9025,\n",
       " 9216,\n",
       " 9409,\n",
       " 9604,\n",
       " 9801,\n",
       " 10000]"
      ]
     },
     "execution_count": 31,
     "metadata": {},
     "output_type": "execute_result"
    }
   ],
   "source": [
    "b = list(map(lambda x: x**2, range(1, 101)))\n",
    "b"
   ]
  },
  {
   "cell_type": "code",
   "execution_count": null,
   "metadata": {},
   "outputs": [],
   "source": [
    "Write a program to get 2 inputs and calculate division\n",
    "- If user enters non integer value then ask him to input only integers, and non-zero denominator"
   ]
  },
  {
   "cell_type": "code",
   "execution_count": 9,
   "metadata": {},
   "outputs": [
    {
     "name": "stdout",
     "output_type": "stream",
     "text": [
      "Enter a integer\n",
      "0.625\n"
     ]
    }
   ],
   "source": [
    "# 1:50:38\n",
    "while True:\n",
    "    try:\n",
    "        a = int(input(\"Enter a Number :\"))\n",
    "        b = int(input(\"Enter a Number :\"))\n",
    "        c = a / b \n",
    "        print(c)\n",
    "        break\n",
    "    except ZeroDivisionError:\n",
    "        print(\"Denominator cannot be 0\")\n",
    "    except ValueError:\n",
    "        print(\"Enter a integer\")\n",
    " \n",
    "\n",
    "    \n"
   ]
  },
  {
   "cell_type": "code",
   "execution_count": null,
   "metadata": {},
   "outputs": [],
   "source": [
    "# Traceback This class contains a method called format_exc( ) "
   ]
  },
  {
   "cell_type": "code",
   "execution_count": 28,
   "metadata": {},
   "outputs": [
    {
     "name": "stdout",
     "output_type": "stream",
     "text": [
      "Floor Division of [a//b] is  3\n",
      "Hello\n",
      "world\n"
     ]
    }
   ],
   "source": [
    "# Importing sys module can help define the exception found and also specify the line no. where it was encountered\n",
    "import sys\n",
    "\n",
    "class MyCustomException(Exception):\n",
    "    pass\n",
    "\n",
    "while True:\n",
    "    try:\n",
    "        a = int(input(\"Number 1 : \"))\n",
    "        b = int(input(\"Number 2 : \"))\n",
    "        if a < 0 or b < 0: \n",
    "\n",
    "            # Custom Exceptions are defined using raise keyword it is defined to check for certain conditions which are not addressed\n",
    "            raise MyCustomException(\"Negative Number is not allowed\")\n",
    "\n",
    "        c = a // b\n",
    "       \n",
    "        print(\"Floor Division of [a//b] is \",c)\n",
    "        break\n",
    "\n",
    "    except ZeroDivisionError:\n",
    "        print(\"Use Non zero numbers\")\n",
    "        # a,b,c = sys.exc_info()\n",
    "        # print(\"Exception Class : \", a)\n",
    "        # print(\"Exception Message : \", b)\n",
    "        # print(\"Exception at Line Number : \",c.tb_lineno)\n",
    "    except TypeError:\n",
    "        print(\"Values assigned should be of Int type\")\n",
    "    except ValueError:\n",
    "        print(\"Values should be within the whole number range\")\n",
    "        break\n",
    "    except Exception as e:\n",
    "        print(e)\n",
    "    \n",
    "    else:\n",
    "        print(\"Python rocks \")\n",
    "    \n",
    "    finally:\n",
    "        # This block of code is executed in any situation or any exception \n",
    "        print(\"Hello\")\n",
    "        print(\"world\")\n",
    "        \n",
    "    "
   ]
  },
  {
   "cell_type": "code",
   "execution_count": null,
   "metadata": {},
   "outputs": [],
   "source": [
    "# Custom Exception definition\n",
    "# Exception Heirarchy \n",
    "# Raise method for custom exception\n"
   ]
  },
  {
   "cell_type": "code",
   "execution_count": 1,
   "metadata": {},
   "outputs": [
    {
     "data": {
      "text/plain": [
       "<generator object gen_square at 0x0000023D439449E0>"
      ]
     },
     "execution_count": 1,
     "metadata": {},
     "output_type": "execute_result"
    }
   ],
   "source": [
    "# To get a range like object from a function usee yield which is a reserved keyword in python\n",
    "# Generator type Object Creation \n",
    "def gen_square(n: int):\n",
    "    yield [i*i for i in range(1,n+1)]\n",
    "\n",
    "gen_square(4)\n"
   ]
  },
  {
   "cell_type": "code",
   "execution_count": 2,
   "metadata": {},
   "outputs": [
    {
     "name": "stdout",
     "output_type": "stream",
     "text": [
      "[1, 4, 9, 16, 25, 36]\n"
     ]
    }
   ],
   "source": [
    "# 01:10:17\n",
    "for i in gen_square(6):\n",
    "    print(i)"
   ]
  },
  {
   "cell_type": "code",
   "execution_count": 3,
   "metadata": {},
   "outputs": [
    {
     "data": {
      "text/plain": [
       "[1, 1, 2, 3, 5, 8, 13, 21, 34, 55]"
      ]
     },
     "execution_count": 3,
     "metadata": {},
     "output_type": "execute_result"
    }
   ],
   "source": [
    "# This function returns the list once it populated with all the values \n",
    "# This is not suitable for very large numbers \n",
    "\n",
    "def n_fibonaci(n: int):\n",
    "    a = 1\n",
    "    b = 1\n",
    "    l = []\n",
    "    for i in range(n):\n",
    "        l.append(a)\n",
    "        a,b = b, a+b\n",
    "    return l\n",
    "\n",
    "n_fibonaci(10)"
   ]
  },
  {
   "cell_type": "code",
   "execution_count": 4,
   "metadata": {},
   "outputs": [
    {
     "name": "stdout",
     "output_type": "stream",
     "text": [
      "1\n",
      "1\n",
      "2\n",
      "3\n",
      "5\n",
      "8\n",
      "13\n",
      "21\n",
      "34\n",
      "55\n"
     ]
    }
   ],
   "source": [
    "# Yield provides a generator output which utilises less resources compared to returning a list, \n",
    "# generator objects can be useful in terms of resources and memory management allocation \n",
    "def gen_fibo(n: int):\n",
    "    a = 1\n",
    "    b = 1\n",
    "    for i in range(n):\n",
    "        yield a\n",
    "        a, b = b, a+b\n",
    "\n",
    "for i in gen_fibo(10):\n",
    "    print(i)"
   ]
  },
  {
   "cell_type": "code",
   "execution_count": null,
   "metadata": {},
   "outputs": [],
   "source": [
    "#[ List, sets, strings, tuple] ar all iterables and not iterators \n",
    "# iter() > method is used to convert a iterable to iterator \n",
    "# next() > method is used to output the values present inside a iterator \n",
    "# for loop > When a for loop is executed internally iter() and next() method are called"
   ]
  },
  {
   "cell_type": "code",
   "execution_count": 7,
   "metadata": {},
   "outputs": [],
   "source": [
    "# File Operations \n",
    "# mode = w > write mode, r > read mode, a > append mode, \n",
    "f = open(file= \"./test.txt\",mode=\"a\")\n",
    "\n",
    "# After making the edits you need to close the file in order for it to reflect in the txt file  \n",
    "f.write(\"This is new information to check the append function.\")\n",
    "f.close()\n"
   ]
  },
  {
   "cell_type": "code",
   "execution_count": 8,
   "metadata": {},
   "outputs": [
    {
     "data": {
      "text/plain": [
       "'This is a new file created just now.This is new information to check the append function.'"
      ]
     },
     "execution_count": 8,
     "metadata": {},
     "output_type": "execute_result"
    }
   ],
   "source": [
    "f = open(file=\"./test.txt\")\n",
    "# Read Operation \n",
    "f.read()"
   ]
  },
  {
   "cell_type": "code",
   "execution_count": 11,
   "metadata": {},
   "outputs": [
    {
     "data": {
      "text/plain": [
       "'ile created just now.This is new information to check the append function.'"
      ]
     },
     "execution_count": 11,
     "metadata": {},
     "output_type": "execute_result"
    }
   ],
   "source": [
    "# To start at a particular index\n",
    "f.seek(15)\n",
    "f.read()"
   ]
  },
  {
   "cell_type": "code",
   "execution_count": 12,
   "metadata": {},
   "outputs": [],
   "source": [
    "# TO read a line > readline()\n",
    "# To read Multiple lines > readlines()\n",
    "# f.mode > to check mode \n",
    "# f.name > to check file name \n",
    "# f.closed > True or False \n",
    "\n",
    "# To create new file in a location \n",
    "\n",
    "f = open(\"./test1.txt\", 'w')"
   ]
  },
  {
   "cell_type": "code",
   "execution_count": 14,
   "metadata": {},
   "outputs": [
    {
     "data": {
      "text/plain": [
       "[4, 9, 16, 25, 25, 36]"
      ]
     },
     "execution_count": 14,
     "metadata": {},
     "output_type": "execute_result"
    }
   ],
   "source": [
    "# map , # filter , # reduce\n",
    "\n",
    "# map() is a inbuilt function which takes a function and iterable as a input, \n",
    "# applies the function on the iterable > outputs a generator map object \n",
    "l = [2,3,4,5,5,6]\n",
    "# Function can be a outsider function or a lambda function\n",
    "# list() is used to unwrap the map object\n",
    "list(map(lambda x: x**2, l))"
   ]
  },
  {
   "cell_type": "code",
   "execution_count": 15,
   "metadata": {},
   "outputs": [
    {
     "data": {
      "text/plain": [
       "['2', '3', '4', '5', '5', '6']"
      ]
     },
     "execution_count": 15,
     "metadata": {},
     "output_type": "execute_result"
    }
   ],
   "source": [
    "def stringer(n):\n",
    "    return str(n)\n",
    "\n",
    "list(map(stringer, l))"
   ]
  },
  {
   "cell_type": "code",
   "execution_count": 16,
   "metadata": {},
   "outputs": [
    {
     "data": {
      "text/plain": [
       "25"
      ]
     },
     "execution_count": 16,
     "metadata": {},
     "output_type": "execute_result"
    }
   ],
   "source": [
    "# reduce available in functool\n",
    "from functools import reduce\n",
    "# When using reduce function always use two positional arguement\n",
    "# reduce is used for agregation operations \n",
    "reduce(lambda a,b: a+b, l)"
   ]
  },
  {
   "cell_type": "code",
   "execution_count": 21,
   "metadata": {},
   "outputs": [
    {
     "data": {
      "text/plain": [
       "[2, 4, 6]"
      ]
     },
     "execution_count": 21,
     "metadata": {},
     "output_type": "execute_result"
    }
   ],
   "source": [
    "# filter method is used to filter out specific data \n",
    "list(filter(lambda x: x%2==0, l))"
   ]
  },
  {
   "cell_type": "code",
   "execution_count": 22,
   "metadata": {},
   "outputs": [
    {
     "data": {
      "text/plain": [
       "[3, 5, 5]"
      ]
     },
     "execution_count": 22,
     "metadata": {},
     "output_type": "execute_result"
    }
   ],
   "source": [
    "def check_odd(n):\n",
    "    if n%2==1:\n",
    "        return True \n",
    "\n",
    "list(filter(check_odd, l))"
   ]
  },
  {
   "cell_type": "code",
   "execution_count": 1,
   "metadata": {},
   "outputs": [
    {
     "name": "stdout",
     "output_type": "stream",
     "text": [
      "{'d2': ['C-ETH-1760-300623', 'P-ETH-1760-300623', 'C-ETH-1780-300623', 'P-ETH-1780-300623', 'C-ETH-1820-300623', 'P-ETH-1820-300623', 'C-ETH-1840-300623', 'P-ETH-1840-300623', 'C-ETH-1860-300623', 'P-ETH-1860-300623', 'C-ETH-1880-300623', 'P-ETH-1880-300623'], 'd3': ['C-ETH-1760-010723', 'P-ETH-1760-010723', 'C-ETH-1780-010723', 'P-ETH-1780-010723', 'C-ETH-1800-010723', 'P-ETH-1800-010723', 'C-ETH-1820-010723', 'P-ETH-1820-010723', 'C-ETH-1840-010723', 'P-ETH-1840-010723', 'C-ETH-1860-010723', 'P-ETH-1860-010723', 'C-ETH-1880-010723', 'P-ETH-1880-010723', 'C-ETH-1900-010723', 'P-ETH-1900-010723']}\n"
     ]
    }
   ],
   "source": [
    "import requests\n",
    "import datetime\n",
    "\n",
    "def check_empty_order_book(product):\n",
    "    header = {\n",
    "        \"Accept\":\"application/json\",\n",
    "    }\n",
    "    base_url = 'https://testnet-api.delta.exchange/v2'\n",
    "    path = '/l2orderbook/'\n",
    "\n",
    "    response = requests.get(base_url+path+product, headers=header)\n",
    "\n",
    "    if response.status_code == 200:\n",
    "        ord_book = response.json()\n",
    "        if not ord_book['result']['buy'] and not ord_book['result']['sell']:\n",
    "            return product\n",
    "\n",
    "    return None\n",
    "\n",
    "\n",
    "def get_empty_order_books():\n",
    "\n",
    "    start_strike_price = 1750\n",
    "    today = datetime.date.today()\n",
    "    final_products = {}\n",
    "\n",
    "    for day in range(3):\n",
    "        current_date = today + datetime.timedelta(days=day)\n",
    "        check_date = current_date.strftime(\"%d%m%y\")\n",
    "\n",
    "        strike_values = [start_strike_price + i*10 for i in range(16)]\n",
    "        option_types = ['C', 'P']\n",
    "\n",
    "        for strike in strike_values:\n",
    "          for option in option_types:\n",
    "            product = f'{option}-ETH-{strike}-{check_date}'\n",
    "            if check_empty_order_book(product):\n",
    "              key = 'd' + str(day+1)\n",
    "              if key not in final_products:\n",
    "                final_products[key] = []\n",
    "              final_products[key].append(product)\n",
    "\n",
    "\n",
    "    return final_products\n",
    "    # return empty_order_books\n",
    "\n",
    "\n",
    "empty_products = get_empty_order_books()\n",
    "print(empty_products)"
   ]
  }
 ],
 "metadata": {
  "kernelspec": {
   "display_name": "base",
   "language": "python",
   "name": "python3"
  },
  "language_info": {
   "codemirror_mode": {
    "name": "ipython",
    "version": 3
   },
   "file_extension": ".py",
   "mimetype": "text/x-python",
   "name": "python",
   "nbconvert_exporter": "python",
   "pygments_lexer": "ipython3",
   "version": "3.9.12"
  },
  "orig_nbformat": 4
 },
 "nbformat": 4,
 "nbformat_minor": 2
}
