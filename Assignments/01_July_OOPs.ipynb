{
 "cells": [
  {
   "attachments": {},
   "cell_type": "markdown",
   "metadata": {},
   "source": [
    "## Assignment 12 - OOPS Basics"
   ]
  },
  {
   "attachments": {},
   "cell_type": "markdown",
   "metadata": {},
   "source": [
    "1. What is the primary goal of Object-Oriented Programming (OOP)?\n",
    "    - To provide a way to structure and organiz code by creating objects that summarize the data and behavior. OOPS aims to model real-world entities or concepts as objects, allowing for modular and reusable code. \n",
    "    - It promotes the principles of abstraction, encapsulation, inheritance, and polymorphism, which help improve code organization, maintainability, and reusability. \n",
    "    - The main goal of OOP is to simplify complex problems by breaking them down into smaller, manageable components that interact with each other through well-defined interfaces."
   ]
  },
  {
   "attachments": {},
   "cell_type": "markdown",
   "metadata": {},
   "source": [
    "2. What is an object in Python?\n",
    "    - An object is an instance of a class. It is self-contained entity that combines attributes and behaviours. Objects are created using classes, which are a blueprint or a templates for creating objects with specific characteristics and behaviors.\n",
    "    "
   ]
  },
  {
   "attachments": {},
   "cell_type": "markdown",
   "metadata": {},
   "source": [
    "3. What is a class in Python?\n",
    "    - A class serves as a blueprint for creating objects. It defines the attributes and methods that the objects of the class will have. Attributes are variables that store data, while methods are functions that define the behavior of the objects."
   ]
  },
  {
   "attachments": {},
   "cell_type": "markdown",
   "metadata": {},
   "source": [
    "4. What are attributes and methods in a class?\n",
    "    - Attributes > These are variables that hold data associated with an object. They represent the state or properties of an object. Attributes can be accessed and modified through the object' instances. The attributes are defined inside a class and are prefixed with 'self' parameter to indicate that they belong to the instance of the class.\n",
    "    - Methods > Methods are functions defined within a class that perform specific actions or provide certain functionalities. Methods define the behavior of an objects. \n",
    "\n"
   ]
  },
  {
   "attachments": {},
   "cell_type": "markdown",
   "metadata": {},
   "source": [
    "5. What is the difference between class variables and instance variables in Python?\n",
    "    - Class Variables > are within the class but outside of any methods. They are shared by all instances of the class. They are associated with the class itself rather than with any specific instance.\n",
    "\n",
    "    - Instance Variable > These are defined within the methods of class. They are unique to each instance of the class and hold specific data for that instance. Instance variables are accessed and modified using the instance name."
   ]
  },
  {
   "attachments": {},
   "cell_type": "markdown",
   "metadata": {},
   "source": [
    "6. What is the purpose of the self parameter in Python class methods?\n",
    "    - The self parameter in Python class methods is a convention that represents the instance of the class itself. It acts as a reference to the current instance on which the method is being called. Self is a pointer which points towards the class itself."
   ]
  },
  {
   "attachments": {},
   "cell_type": "markdown",
   "metadata": {},
   "source": [
    "7. For a library management system, you have to design the \"Book\" class with OOP principles in mind. The “Book” class will have following attributes:\n",
    "    \n",
    "        a. title: Represents the title of the book.\n",
    "        \n",
    "        b. author: Represents the author(s) of the book.\n",
    "        \n",
    "        c. isbn: Represents the ISBN (International Standard Book Number) of the book.\n",
    "        \n",
    "        d. publication_year: Represents the year of publication of the book.\n",
    "        \n",
    "        e. available_copies: Represents the number of copies available for checkout.\n",
    "\n",
    "    The class will also include the following methods:\n",
    "\n",
    "        a. check_out(self): Decrements the available copies by one if there are copies available for checkout.\n",
    "        \n",
    "        b. return_book(self): Increments the available copies by one when a book is returned.\n",
    "        \n",
    "        c. display_book_info(self): Displays the information about the book, including its attributes and the number of available copies."
   ]
  },
  {
   "cell_type": "code",
   "execution_count": 15,
   "metadata": {},
   "outputs": [],
   "source": [
    "class Book:\n",
    "\n",
    "    def __init__(self, title, author, isbn, publication_year, available_copies):\n",
    "        \n",
    "        self.title = title\n",
    "        self.author = author\n",
    "        self.isbn = isbn\n",
    "        self.publication_year = publication_year\n",
    "        self.available_copies = available_copies\n",
    "    \n",
    "    # Issueing the Book\n",
    "    def check_out(self):\n",
    "            self.available_copies -= 1\n",
    "    \n",
    "    # Returning the Book    \n",
    "    def return_book(self):\n",
    "            self.available_copies += 1 \n",
    "    \n",
    "    # Display the Book's Information         \n",
    "    def display_book_info(self):\n",
    "            print(f\"Title : {self.title}, Written By: {self.author}, ISBN: {self.isbn}\")\n",
    "            print(\"This Book was published in the year {}\".format(self.publication_year))\n",
    "            print(\"There are Only {} copies available.\".format(self.available_copies))\n",
    "\n",
    "\n",
    "one_piece = Book(\"One Piece\", \"Eichiro Oda\", \"145354IYG2342T23\", 1988, 13)\n",
    "\n",
    "\n"
   ]
  },
  {
   "cell_type": "code",
   "execution_count": 39,
   "metadata": {},
   "outputs": [],
   "source": [
    "one_piece.check_out()"
   ]
  },
  {
   "cell_type": "code",
   "execution_count": 36,
   "metadata": {},
   "outputs": [],
   "source": [
    "one_piece.return_book()\n"
   ]
  },
  {
   "cell_type": "code",
   "execution_count": 40,
   "metadata": {},
   "outputs": [
    {
     "name": "stdout",
     "output_type": "stream",
     "text": [
      "Title : One Piece, Written By: Eichiro Oda, ISBN: 145354IYG2342T23\n",
      "This Book was published in the year 1988\n",
      "There are Only 13 copies available.\n"
     ]
    }
   ],
   "source": [
    "one_piece.display_book_info()"
   ]
  },
  {
   "attachments": {},
   "cell_type": "markdown",
   "metadata": {},
   "source": [
    "8. For a ticket booking system, you have to design the \"Ticket\" class with OOP\n",
    "principles in mind. The “Ticket” class should have the following attributes:\n",
    "\n",
    "        a. ticket_id: Represents the unique identifier for the ticket.\n",
    "\n",
    "        b. event_name: Represents the name of the event.\n",
    "\n",
    "        c. event_date: Represents the date of the event.\n",
    "\n",
    "        d. venue: Represents the venue of the event.\n",
    "\n",
    "        e. seat_number: Represents the seat number associated with the ticket.\n",
    "\n",
    "        f. price: Represents the price of the ticket.\n",
    "\n",
    "        g. is_reserved: Represents the reservation status of the ticket.\n",
    "\n",
    "    The class also includes the following methods:\n",
    "\n",
    "        a. reserve_ticket(self): Marks the ticket as reserved if it is not already reserved.\n",
    "\n",
    "        b. cancel_reservation(self): Cancels the reservation of the ticket if it is already reserved.\n",
    "\n",
    "        c. display_ticket_info(self): Displays the information about the ticket, including its attributes and reservation status."
   ]
  },
  {
   "cell_type": "code",
   "execution_count": 65,
   "metadata": {},
   "outputs": [],
   "source": [
    "class Ticket: \n",
    "\n",
    "    def __init__(self, ticket_id, event_name, event_date, venue, seat_number, price):\n",
    "        self.ticket_id = ticket_id\n",
    "        self.event_name = event_name\n",
    "        self.event_date = event_date\n",
    "        self.seat_number = seat_number\n",
    "        self.price = price\n",
    "        self.is_reserved = False\n",
    "\n",
    "    def reserve_ticket(self):\n",
    "        self.is_reserved = True\n",
    "    \n",
    "    def cancel_reservation(self):\n",
    "        if self.is_reserved == True:\n",
    "            self.is_reserved = False\n",
    "    \n",
    "    def display_ticket_info(self):\n",
    "        print(f\"ticket_id: {self.ticket_id}, Date: {self.event_date}, Event: {self.event_name}\")\n",
    "        print(f\"Seat No: {self.seat_number}, Price: {self.price}, Reservation: {self.is_reserved}\")\n"
   ]
  },
  {
   "cell_type": "code",
   "execution_count": 91,
   "metadata": {},
   "outputs": [
    {
     "name": "stdout",
     "output_type": "stream",
     "text": [
      "ticket_id: 101, Date: 09-07-23, Event: Coachella\n",
      "Seat No: J34, Price: 4500, Reservation: False\n"
     ]
    }
   ],
   "source": [
    "drake = Ticket(101, \"Coachella\", \"09-07-23\", \"Toronto Plaza\", \"J34\", 4500)\n",
    "drake.display_ticket_info()"
   ]
  },
  {
   "cell_type": "code",
   "execution_count": 92,
   "metadata": {},
   "outputs": [
    {
     "name": "stdout",
     "output_type": "stream",
     "text": [
      "ticket_id: 101, Date: 09-07-23, Event: Coachella\n",
      "Seat No: J34, Price: 4500, Reservation: True\n"
     ]
    }
   ],
   "source": [
    "drake.reserve_ticket()\n",
    "drake.display_ticket_info()"
   ]
  },
  {
   "cell_type": "code",
   "execution_count": 93,
   "metadata": {},
   "outputs": [
    {
     "name": "stdout",
     "output_type": "stream",
     "text": [
      "ticket_id: 101, Date: 09-07-23, Event: Coachella\n",
      "Seat No: J34, Price: 4500, Reservation: False\n"
     ]
    }
   ],
   "source": [
    "drake.cancel_reservation()\n",
    "drake.display_ticket_info()"
   ]
  },
  {
   "attachments": {},
   "cell_type": "markdown",
   "metadata": {},
   "source": [
    "9. You are creating a shopping cart for an e-commerce website. Using OOP to model\n",
    "the \"ShoppingCart\" functionality the class should contain following attributes and methods:\n",
    "    \n",
    "        a. items: Represents the list of items in the shopping cart.\n",
    "\n",
    "    The class also includes the following methods:\n",
    "\n",
    "        a. add_item(self, item): Adds an item to the shopping cart by appending it to the list of items.\n",
    "\n",
    "        b. remove_item(self, item): Removes an item from the shopping cart if it exists in the list.\n",
    "\n",
    "        c. view_cart(self): Displays the items currently present in the shopping cart.\n",
    "\n",
    "        d. clear_cart(self): Clears all items from the shopping cart by reassigning an empty list to the items attribute."
   ]
  },
  {
   "cell_type": "code",
   "execution_count": 115,
   "metadata": {},
   "outputs": [],
   "source": [
    "class ShoppingCart: \n",
    "    # Shopping Cart \n",
    "    def __init__(self):\n",
    "        self.items = []\n",
    "    \n",
    "    # Adding Items to the Cart \n",
    "    def add_item(self,item):\n",
    "        if item not in self.items:\n",
    "            self.items.append(item)\n",
    "        else:\n",
    "            return \"This item was already added to the Cart\"  \n",
    "    \n",
    "    # Removing Item from the Cart \n",
    "    def remove_item(self, item):\n",
    "        if item in self.items:\n",
    "            self.items.remove(item)\n",
    "        return self.items\n",
    "    \n",
    "    # Clearing the Cart \n",
    "    def clear_cart(self):\n",
    "        self.items = []\n",
    "        return self.items\n",
    "    \n",
    "    # Viewing the Cart for items \n",
    "    def view_cart(self):\n",
    "        return self.items"
   ]
  },
  {
   "cell_type": "code",
   "execution_count": 140,
   "metadata": {},
   "outputs": [],
   "source": [
    "cart = ShoppingCart()"
   ]
  },
  {
   "cell_type": "code",
   "execution_count": 142,
   "metadata": {},
   "outputs": [],
   "source": [
    "raw_materials = [\"Cheese Slices\",\"Soya Beans\",\"Beans\",\"Juice\",\"Banana\",\"Oats\",\"Peanut Butter\", \"Bread\", \"Eggs\", \"Oil\", \"Maggi\"]\n",
    "for material in raw_materials:\n",
    "    cart.add_item(material)"
   ]
  },
  {
   "cell_type": "code",
   "execution_count": 143,
   "metadata": {},
   "outputs": [
    {
     "data": {
      "text/plain": [
       "['Cheese Slices',\n",
       " 'Soya Beans',\n",
       " 'Beans',\n",
       " 'Juice',\n",
       " 'Banana',\n",
       " 'Oats',\n",
       " 'Peanut Butter',\n",
       " 'Bread',\n",
       " 'Eggs',\n",
       " 'Oil',\n",
       " 'Maggi']"
      ]
     },
     "execution_count": 143,
     "metadata": {},
     "output_type": "execute_result"
    }
   ],
   "source": [
    "cart.view_cart()"
   ]
  },
  {
   "cell_type": "code",
   "execution_count": 144,
   "metadata": {},
   "outputs": [
    {
     "data": {
      "text/plain": [
       "['Cheese Slices',\n",
       " 'Soya Beans',\n",
       " 'Beans',\n",
       " 'Juice',\n",
       " 'Banana',\n",
       " 'Oats',\n",
       " 'Peanut Butter',\n",
       " 'Bread',\n",
       " 'Oil',\n",
       " 'Maggi']"
      ]
     },
     "execution_count": 144,
     "metadata": {},
     "output_type": "execute_result"
    }
   ],
   "source": [
    "cart.remove_item(\"Eggs\")"
   ]
  },
  {
   "cell_type": "code",
   "execution_count": 145,
   "metadata": {},
   "outputs": [
    {
     "data": {
      "text/plain": [
       "[]"
      ]
     },
     "execution_count": 145,
     "metadata": {},
     "output_type": "execute_result"
    }
   ],
   "source": [
    "cart.clear_cart()"
   ]
  },
  {
   "attachments": {},
   "cell_type": "markdown",
   "metadata": {},
   "source": [
    "10. Imagine a school management system. You have to design the \"Student\" class using OOP concepts.The “Student” class has the following attributes:\n",
    "        \n",
    "        a. name: Represents the name of the student.\n",
    "\n",
    "        b. age: Represents the age of the student.\n",
    "        \n",
    "        c. grade: Represents the grade or class of the student.\n",
    "        \n",
    "        d. student_id: Represents the unique identifier for the student.\n",
    "        \n",
    "        e. attendance: Represents the attendance record of the student.\n",
    "\n",
    "The class should also include the following methods:\n",
    "        \n",
    "        a. update_attendance(self, date, status): Updates the attendance record of the student for a given date with the provided status (e.g., present or absent).\n",
    "        \n",
    "        b. get_attendance(self): Returns the attendance record of the student.\n",
    "        \n",
    "        c. get_average_attendance(self): Calculates and returns the average attendance percentage of the student based on their attendance record."
   ]
  },
  {
   "cell_type": "code",
   "execution_count": 130,
   "metadata": {},
   "outputs": [],
   "source": [
    "class Student:\n",
    "\n",
    "    def __init__(self, name, age, grade, student_id):\n",
    "        self.name = name\n",
    "        self.age = age\n",
    "        self.grade = grade \n",
    "        self.student_id = student_id\n",
    "        self.attendence = {}\n",
    "    \n",
    "    # Updates the status of a student > present or absent \n",
    "    def update_attendence(self, date, status):\n",
    "        self.attendence[date] = status \n",
    "    \n",
    "    # Displays the attendence of a student \n",
    "    def get_attendence(self):\n",
    "        return self.attendence\n",
    "    \n",
    "    # Calculates the Average Attendence of a student\n",
    "    def get_average_attendence(self):\n",
    "        total_days = len(self.attendence)\n",
    "        if total_days == 0:\n",
    "            return 0\n",
    "        present_day = sum(status == 'present' for status in self.attendence.values())\n",
    "        attendence_percentage = (present_day / total_days) * 100\n",
    "\n",
    "        return attendence_percentage"
   ]
  },
  {
   "cell_type": "code",
   "execution_count": 131,
   "metadata": {},
   "outputs": [],
   "source": [
    "# Student Instance \n",
    "student1 = Student(\"Nikhil Shetty\", 15, \"10th Grade\", \"S007\")"
   ]
  },
  {
   "cell_type": "code",
   "execution_count": 136,
   "metadata": {},
   "outputs": [],
   "source": [
    "# Update Attendence\n",
    "student1.update_attendence(\"2023-06-01\", \"present\")\n",
    "student1.update_attendence(\"2023-06-02\", \"absent\")\n",
    "student1.update_attendence(\"2023-06-03\", \"present\")\n",
    "student1.update_attendence(\"2023-06-04\", \"absent\")\n",
    "student1.update_attendence(\"2023-06-05\", \"present\")\n",
    "student1.update_attendence(\"2023-06-06\", \"present\")\n",
    "student1.update_attendence(\"2023-06-07\", \"absent\")\n",
    "student1.update_attendence(\"2023-06-08\", \"present\")\n",
    "student1.update_attendence(\"2023-06-10\", \"present\")\n",
    "student1.update_attendence(\"2023-06-13\", \"absent\")"
   ]
  },
  {
   "cell_type": "code",
   "execution_count": 137,
   "metadata": {},
   "outputs": [
    {
     "name": "stdout",
     "output_type": "stream",
     "text": [
      "{'2023-06-01': 'present', '2023-06-02': 'absent', '2023-06-03': 'present', '2023-06-04': 'absent', '2023-06-05': 'present', '2023-06-06': 'present', '2023-06-07': 'absent', '2023-06-08': 'present', '2023-06-10': 'present', '2023-06-13': 'absent'}\n"
     ]
    }
   ],
   "source": [
    "# View the Attendence record \n",
    "attendance_record = student1.get_attendence()\n",
    "print(attendance_record)"
   ]
  },
  {
   "cell_type": "code",
   "execution_count": 139,
   "metadata": {},
   "outputs": [
    {
     "name": "stdout",
     "output_type": "stream",
     "text": [
      "The average attendence of Nikhil Shetty is : 60.0\n"
     ]
    }
   ],
   "source": [
    "# Calculate the average attendence \n",
    "avg_attendence = student1.get_average_attendence()\n",
    "print(f\"The average attendence of {student1.name} is : {avg_attendence}\")\n"
   ]
  }
 ],
 "metadata": {
  "kernelspec": {
   "display_name": "base",
   "language": "python",
   "name": "python3"
  },
  "language_info": {
   "codemirror_mode": {
    "name": "ipython",
    "version": 3
   },
   "file_extension": ".py",
   "mimetype": "text/x-python",
   "name": "python",
   "nbconvert_exporter": "python",
   "pygments_lexer": "ipython3",
   "version": "3.9.12"
  },
  "orig_nbformat": 4
 },
 "nbformat": 4,
 "nbformat_minor": 2
}
