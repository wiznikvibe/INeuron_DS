{
 "cells": [
  {
   "attachments": {},
   "cell_type": "markdown",
   "metadata": {},
   "source": [
    "## Assignment 11 \n",
    "1. What is the role of the 'else' block in a try-except statement? Provide an example scenario where it would be useful.\n",
    "    - The else block in a try-except statement is optional and is executed if no exception occurs in the corresponding try block. Its role is to specify a block of code that should run only if the try block completes successfully without any exceptions.\n",
    "\n",
    "\n"
   ]
  },
  {
   "cell_type": "code",
   "execution_count": 2,
   "metadata": {},
   "outputs": [
    {
     "name": "stdout",
     "output_type": "stream",
     "text": [
      "Division successful. Result: 5.0\n",
      "Error: Cannot divide by zero\n"
     ]
    }
   ],
   "source": [
    "def divide_numbers(num1, num2):\n",
    "    try:\n",
    "        result = num1 / num2\n",
    "    except ZeroDivisionError:\n",
    "        print(\"Error: Cannot divide by zero\")\n",
    "    else:\n",
    "        print(\"Division successful. Result:\", result)\n",
    "\n",
    "divide_numbers(10, 2) \n",
    "divide_numbers(10, 0)\n"
   ]
  },
  {
   "attachments": {},
   "cell_type": "markdown",
   "metadata": {},
   "source": [
    "2. Can a try-except block be nested inside another try-except block? Explain with an example.\n",
    "    - Yes, a try-except block can be nested inside another try-except block. This is known as nested exception handling. It allows for handling specific exceptions at different levels of code execution."
   ]
  },
  {
   "cell_type": "code",
   "execution_count": 3,
   "metadata": {},
   "outputs": [
    {
     "name": "stdout",
     "output_type": "stream",
     "text": [
      "Error: Invalid input\n"
     ]
    }
   ],
   "source": [
    "try:\n",
    "    try:\n",
    "        num1 = int(input(\"Enter a number: \"))\n",
    "        num2 = int(input(\"Enter another number: \"))\n",
    "        result = num1 / num2\n",
    "        print(\"Division result:\", result)\n",
    "    except ZeroDivisionError:\n",
    "        print(\"Error: Cannot divide by zero\")\n",
    "except ValueError:\n",
    "    print(\"Error: Invalid input\")\n"
   ]
  },
  {
   "attachments": {},
   "cell_type": "markdown",
   "metadata": {},
   "source": [
    "3. How can you create a custom exception class in Python? Provide an example that demonstrates its usage."
   ]
  },
  {
   "cell_type": "code",
   "execution_count": 4,
   "metadata": {},
   "outputs": [
    {
     "name": "stdout",
     "output_type": "stream",
     "text": [
      "An exception occurred: Cannot divide by zero\n"
     ]
    }
   ],
   "source": [
    "class MyCustomException(Exception):\n",
    "    pass\n",
    "\n",
    "def divide_numbers(a, b):\n",
    "    if b == 0:\n",
    "        raise MyCustomException(\"Cannot divide by zero\")\n",
    "    return a / b\n",
    "\n",
    "try:\n",
    "    result = divide_numbers(10, 0)\n",
    "    print(\"Result:\", result)\n",
    "except MyCustomException as e:\n",
    "    print(\"An exception occurred:\", str(e))\n"
   ]
  },
  {
   "attachments": {},
   "cell_type": "markdown",
   "metadata": {},
   "source": [
    "4. What are some common exceptions that are built-in to Python?\n",
    "    \n",
    "    SyntaxError: Raised when there is a syntax error in the code.\n",
    "\n",
    "    TypeError: Raised when an operation or function is applied to an object of \n",
    "    an inappropriate type.\n",
    "    \n",
    "    ValueError: Raised when a function receives an argument of the correct type but an inappropriate value.\n",
    "    \n",
    "    NameError: Raised when a local or global name is not found.\n",
    "    \n",
    "    IndexError: Raised when an index is out of range for a sequence (e.g., list, string).\n",
    "    \n",
    "    KeyError: Raised when a dictionary key is not found.\n",
    "    \n",
    "    FileNotFoundError: Raised when trying to access a file that does not exist.\n",
    "    \n",
    "    IOError: Raised when an input/output operation fails.\n",
    "    \n",
    "    ZeroDivisionError: Raised when dividing by zero.\n",
    "    \n",
    "    AttributeError: Raised when trying to access an attribute that does not exist."
   ]
  },
  {
   "attachments": {},
   "cell_type": "markdown",
   "metadata": {},
   "source": [
    "5. What is logging in Python, and why is it important in software development?\n",
    "    - Logging in Python refers to the process of recording log messages during the execution of a program. It involves capturing and storing information about the program's activities, such as events, errors, warnings, and debugging details, for later analysis and troubleshooting."
   ]
  },
  {
   "attachments": {},
   "cell_type": "markdown",
   "metadata": {},
   "source": [
    "6. Explain the purpose of log levels in Python logging and provide examples of when each log level would be appropriate.\n",
    "    - DEBUG: The lowest log level used for detailed debugging information. It is typically used during development and debugging stages to provide fine-grained information about the program's execution, variable values, and flow. Example: Logging the values of variables at various points in the code for troubleshooting purposes.\n",
    "\n",
    "    - INFO: Used to convey general information about the program's execution. It is typically used to record important events or milestones during the normal operation of the program. Example: Logging the start and end of a process or the successful completion of a significant task.\n",
    "\n",
    "    - WARNING: Indicates a potential issue or an unexpected condition that doesn't prevent the program from functioning but might require attention. It alerts developers to situations that may lead to problems if not addressed. Example: Logging a warning message when a deprecated function or API is used.\n",
    "\n",
    "    - ERROR: Represents errors or exceptions that occurred during the program's execution but were handled gracefully. It denotes that an unexpected condition has occurred, but the program can continue running. Example: Logging an error message when a required file or resource is not found.\n",
    "\n",
    "    - CRITICAL: The highest log level that indicates a critical failure or an unrecoverable error. It signifies a severe problem that prevents the program from continuing its execution. Example: Logging a critical message when a database connection fails, rendering the application unusable."
   ]
  },
  {
   "attachments": {},
   "cell_type": "markdown",
   "metadata": {},
   "source": [
    "7. What are log formatters in Python logging, and how can you customise the log\n",
    "message format using formatters?\n",
    "    - Log formatters in Python logging are responsible for defining the structure and content of log messages. They allow developers to customize the format in which log records are displayed or stored, making it easier to read and analyze the log output."
   ]
  },
  {
   "attachments": {},
   "cell_type": "markdown",
   "metadata": {},
   "source": [
    "8. How can you set up logging to capture log messages from multiple modules or\n",
    "classes in a Python application?"
   ]
  },
  {
   "cell_type": "code",
   "execution_count": 5,
   "metadata": {},
   "outputs": [
    {
     "name": "stderr",
     "output_type": "stream",
     "text": [
      "2023-06-30 18:38:30,270 - module1 - DEBUG - This is a debug message from module1\n",
      "2023-06-30 18:38:30,270 - module1 - DEBUG - This is a debug message from module1\n",
      "2023-06-30 18:38:30,272 - module1 - INFO - This is an info message from module1\n",
      "2023-06-30 18:38:30,272 - module1 - INFO - This is an info message from module1\n",
      "2023-06-30 18:38:30,273 - module1 - WARNING - This is a warning message from module1\n",
      "2023-06-30 18:38:30,273 - module1 - WARNING - This is a warning message from module1\n",
      "2023-06-30 18:38:30,275 - module2 - INFO - This is an info message from module2\n",
      "2023-06-30 18:38:30,276 - module2 - ERROR - This is an error message from module2\n"
     ]
    }
   ],
   "source": [
    "import logging\n",
    "\n",
    "# Configure the root logger\n",
    "logging.basicConfig(level=logging.DEBUG, format='%(asctime)s - %(name)s - %(levelname)s - %(message)s')\n",
    "\n",
    "\n",
    "logger1 = logging.getLogger('module1')\n",
    "logger1.setLevel(logging.DEBUG)\n",
    "\n",
    "logger2 = logging.getLogger('module2')\n",
    "logger2.setLevel(logging.INFO)\n",
    "\n",
    "\n",
    "console_handler1 = logging.StreamHandler()\n",
    "console_handler1.setLevel(logging.DEBUG)\n",
    "\n",
    "\n",
    "file_handler2 = logging.FileHandler('module2.log')\n",
    "file_handler2.setLevel(logging.INFO)\n",
    "\n",
    "# Create formatters for handlers\n",
    "formatter = logging.Formatter('%(asctime)s - %(name)s - %(levelname)s - %(message)s')\n",
    "\n",
    "\n",
    "console_handler1.setFormatter(formatter)\n",
    "file_handler2.setFormatter(formatter)\n",
    "\n",
    "\n",
    "logger1.addHandler(console_handler1)\n",
    "logger2.addHandler(file_handler2)\n",
    "\n",
    "# Logging statements in module1\n",
    "logger1.debug('This is a debug message from module1')\n",
    "logger1.info('This is an info message from module1')\n",
    "logger1.warning('This is a warning message from module1')\n",
    "\n",
    "# Logging statements in module2\n",
    "logger2.info('This is an info message from module2')\n",
    "logger2.error('This is an error message from module2')\n"
   ]
  },
  {
   "attachments": {},
   "cell_type": "markdown",
   "metadata": {},
   "source": [
    "9. What is the difference between the logging and print statements in Python? When should you use logging over print statements in a real-world application?\n",
    "\n",
    "    - The logging and print statements in Python serve different purposes and have distinct characteristics.\n",
    "\n",
    "    - Print: The print statement outputs the message to the standard output (usually the console). It is primarily used for debugging purposes and displaying information during development.\n",
    "\n",
    "    - Logging: The logging module provides flexibility in directing log messages to various destinations such as the console, files, or external logging services. Log messages can be routed to different destinations based on the configuration.   \n",
    "\n",
    "\n"
   ]
  },
  {
   "attachments": {},
   "cell_type": "markdown",
   "metadata": {},
   "source": [
    "10. Write a Python program that logs a message to a file named \"app.log\" with the following requirements:\n",
    "● The log message should be \"Hello, World!\"\n",
    "● The log level should be set to \"INFO.\"\n",
    "● The log file should append new log entries without overwriting previous ones."
   ]
  },
  {
   "cell_type": "code",
   "execution_count": 6,
   "metadata": {},
   "outputs": [
    {
     "name": "stderr",
     "output_type": "stream",
     "text": [
      "2023-06-30 18:45:15,604 - root - INFO - Hello, World!\n"
     ]
    }
   ],
   "source": [
    "import logging\n",
    "\n",
    "# Configure logging to write to a file\n",
    "logging.basicConfig(\n",
    "    filename='app.log',\n",
    "    level=logging.INFO,\n",
    "    format='%(asctime)s - %(levelname)s - %(message)s',\n",
    ")\n",
    "\n",
    "# Log the message\n",
    "logging.info('Hello, World!')\n"
   ]
  },
  {
   "attachments": {},
   "cell_type": "markdown",
   "metadata": {},
   "source": [
    "11. Create a Python program that logs an error message to the console and a file named \"errors.log\" if an exception occurs during the program's execution. The error message should include the exception type and a timestamp."
   ]
  },
  {
   "cell_type": "code",
   "execution_count": 7,
   "metadata": {},
   "outputs": [
    {
     "name": "stderr",
     "output_type": "stream",
     "text": [
      "2023-06-30 18:47:30,345 - root - ERROR - Error occurred: ZeroDivisionError\n"
     ]
    },
    {
     "name": "stdout",
     "output_type": "stream",
     "text": [
      "Error occurred: ZeroDivisionError\n"
     ]
    }
   ],
   "source": [
    "import logging\n",
    "import datetime\n",
    "\n",
    "# Configure logging to write to console and file\n",
    "logging.basicConfig(\n",
    "    level=logging.ERROR,\n",
    "    format='%(asctime)s - %(levelname)s - %(message)s',\n",
    "    handlers=[\n",
    "        logging.StreamHandler(),\n",
    "        logging.FileHandler('errors.log')\n",
    "    ]\n",
    ")\n",
    "\n",
    "try:\n",
    "    # Your code that may raise an exception\n",
    "    # For example, let's divide by zero to intentionally raise an exception\n",
    "    result = 10 / 0\n",
    "\n",
    "except Exception as e:\n",
    "    # Log the error message with exception type and timestamp\n",
    "    error_msg = f\"Error occurred: {type(e).__name__}\"\n",
    "    logging.error(error_msg)\n",
    "\n",
    "    # Print the error message to console\n",
    "    print(error_msg)\n"
   ]
  }
 ],
 "metadata": {
  "kernelspec": {
   "display_name": "base",
   "language": "python",
   "name": "python3"
  },
  "language_info": {
   "codemirror_mode": {
    "name": "ipython",
    "version": 3
   },
   "file_extension": ".py",
   "mimetype": "text/x-python",
   "name": "python",
   "nbconvert_exporter": "python",
   "pygments_lexer": "ipython3",
   "version": "3.9.12"
  },
  "orig_nbformat": 4
 },
 "nbformat": 4,
 "nbformat_minor": 2
}
