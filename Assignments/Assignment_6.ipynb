{
 "cells": [
  {
   "attachments": {},
   "cell_type": "markdown",
   "metadata": {},
   "source": [
    "# Assignment 6 - Python Basics"
   ]
  },
  {
   "attachments": {},
   "cell_type": "markdown",
   "metadata": {},
   "source": [
    "Q.1. What are keywords in python? Using the keyword library, print all the python keywords.\n",
    "\n",
    "    - Keywords are predefined words which cannor be used as variable name, function name or for any kind of identifier."
   ]
  },
  {
   "cell_type": "code",
   "execution_count": 2,
   "metadata": {},
   "outputs": [
    {
     "name": "stdout",
     "output_type": "stream",
     "text": [
      "['False', 'None', 'True', '__peg_parser__', 'and', 'as', 'assert', 'async', 'await', 'break', 'class', 'continue', 'def', 'del', 'elif', 'else', 'except', 'finally', 'for', 'from', 'global', 'if', 'import', 'in', 'is', 'lambda', 'nonlocal', 'not', 'or', 'pass', 'raise', 'return', 'try', 'while', 'with', 'yield']\n"
     ]
    }
   ],
   "source": [
    "\n",
    "import keyword\n",
    "print(keyword.kwlist)"
   ]
  },
  {
   "attachments": {},
   "cell_type": "markdown",
   "metadata": {},
   "source": [
    "Q.2. What are the rules to create variables in python?\n",
    "\n",
    "    - A variable name must start with a letter or the underscore character.\n",
    "\n",
    "    - A variable name cannot start with a number.\n",
    "\n",
    "    - A variable name can only contain alpha-numeric characters and underscores (A-z, 0-9, and _ ) Variable names are case-sensitive (age, Age and AGE are three different variables)"
   ]
  },
  {
   "attachments": {},
   "cell_type": "markdown",
   "metadata": {},
   "source": [
    "Q.3. What are the standards and conventions followed for the nomenclature of variables in python to improve code readability and maintainability?\n",
    "\n",
    "    - Officially, variable names in Python can be any length and can consist of uppercase and lowercase letters (A-Z, a-z), digits (0-9), and the underscore character (_). An additional restriction is that, although a variable name can contain digits, the first character of a variable name can’t be a digit."
   ]
  },
  {
   "attachments": {},
   "cell_type": "markdown",
   "metadata": {},
   "source": [
    "Q.4. What will happen if a keyword is used as a variable name?\n",
    "\n",
    "    - You end up with Syntax Error \"Cannot assign value to a keyword\""
   ]
  },
  {
   "cell_type": "code",
   "execution_count": 3,
   "metadata": {},
   "outputs": [
    {
     "ename": "SyntaxError",
     "evalue": "cannot assign to True (3083073423.py, line 1)",
     "output_type": "error",
     "traceback": [
      "\u001b[1;36m  Input \u001b[1;32mIn [3]\u001b[1;36m\u001b[0m\n\u001b[1;33m    True  = 5\u001b[0m\n\u001b[1;37m    ^\u001b[0m\n\u001b[1;31mSyntaxError\u001b[0m\u001b[1;31m:\u001b[0m cannot assign to True\n"
     ]
    }
   ],
   "source": [
    "True  = 5 "
   ]
  },
  {
   "attachments": {},
   "cell_type": "markdown",
   "metadata": {},
   "source": [
    "Q.5. For what purpose def keyword is used?\n",
    "\n",
    "    - def keyword is used for defining or creating a user defined function.\n",
    "    \n",
    "Q.6. What is the operation of this special character ‘\\’?\n",
    "\n",
    "    - Separates locations in a file or network path\n",
    "\n",
    "Q.7. Give an example of the following conditions:\n",
    "\n",
    "    - (i) Homogeneous list = [1,2,3,4,5,6]\n",
    "    - (ii) Heterogeneous set = {1, \"apple\", True, 3.14}\n",
    "    - (iii) Homogeneous tuple = (1,2,3,4,5,6)"
   ]
  },
  {
   "attachments": {},
   "cell_type": "markdown",
   "metadata": {},
   "source": [
    "Q.8. Explain the mutable and immutable data types with proper explanation & examples.\n",
    "\n",
    "    - An immutable data type is one whose value cannot be modified after it is created. If you want to modify an immutable object, you need to create a new object with the desired changes.For ex. coordinates = (10, 20), here coordinates is a tuple type data\n",
    "\n",
    "    - A mutable data type is one whose value can be modified after it is created for ex. Lists: Lists are mutable sequences in Python. You can modify their elements, append or remove items, and change their length. For example:  [10,20,30,45]"
   ]
  },
  {
   "cell_type": "code",
   "execution_count": 12,
   "metadata": {},
   "outputs": [
    {
     "name": "stdout",
     "output_type": "stream",
     "text": [
      "    *\n",
      "   ***\n",
      "  *****\n",
      " *******\n",
      "*********\n"
     ]
    }
   ],
   "source": [
    "# Q.9. Write a code to create the given structure using only for loop.\n",
    "\n",
    "#     *\n",
    "#    ***\n",
    "#   *****\n",
    "#  *******\n",
    "# *********\n",
    "def print_star_pyramid(rows):\n",
    "    for i in range(rows):\n",
    "        # Calculate the number of spaces and stars in each row\n",
    "        spaces = rows - i - 1\n",
    "        stars = 2 * i + 1\n",
    "        \n",
    "        # Print the spaces\n",
    "        print(\" \" * spaces, end=\"\")\n",
    "        \n",
    "        # Print the stars\n",
    "        print(\"*\" * stars)\n",
    "\n",
    "# Example usage\n",
    "rows = 5\n",
    "print_star_pyramid(rows)\n"
   ]
  },
  {
   "cell_type": "code",
   "execution_count": 22,
   "metadata": {},
   "outputs": [
    {
     "name": "stdout",
     "output_type": "stream",
     "text": [
      "|||||||||\n",
      " |||||||\n",
      "  |||||\n",
      "   |||\n",
      "    |\n"
     ]
    }
   ],
   "source": [
    "# Q.10. Write a code to create the given structure using only for loop.\n",
    "\n",
    "#     |\n",
    "#    |||\n",
    "#   |||||\n",
    "#  |||||||\n",
    "# |||||||||\n",
    "def pyra_line(rows):\n",
    "    for i in range(rows-1,-1,-1):\n",
    "        spaces = rows-i-1\n",
    "        dash = 2*i + 1\n",
    "        # Print spaces\n",
    "        print(\" \" * spaces,end=\"\")\n",
    "        # Print dashes\n",
    "        print(\"|\" * dash)\n",
    "\n",
    "rows = 5\n",
    "pyra_line(rows)"
   ]
  },
  {
   "cell_type": "code",
   "execution_count": null,
   "metadata": {},
   "outputs": [],
   "source": []
  }
 ],
 "metadata": {
  "kernelspec": {
   "display_name": "base",
   "language": "python",
   "name": "python3"
  },
  "language_info": {
   "codemirror_mode": {
    "name": "ipython",
    "version": 3
   },
   "file_extension": ".py",
   "mimetype": "text/x-python",
   "name": "python",
   "nbconvert_exporter": "python",
   "pygments_lexer": "ipython3",
   "version": "3.9.12"
  },
  "orig_nbformat": 4
 },
 "nbformat": 4,
 "nbformat_minor": 2
}
