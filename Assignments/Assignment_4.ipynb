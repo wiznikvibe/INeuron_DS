{
 "cells": [
  {
   "attachments": {},
   "cell_type": "markdown",
   "metadata": {},
   "source": [
    "# Assignment 4 - Python Basics \n",
    "1. What exactly is []?\n",
    "\n",
    "    -- It is a empty list.\n",
    "\n",
    "2. In a list of values stored in a variable called spam, how would you assign the value 'hello' as the third value? (Assume [2, 4, 6, 8, 10] are in spam.)\n",
    "\n",
    "    --  spam = [2, 4, 6, 8, 10]\n",
    "        spam[2] = 'hello'\n",
    "        spam\n"
   ]
  },
  {
   "attachments": {},
   "cell_type": "markdown",
   "metadata": {},
   "source": [
    "Let's pretend the spam includes the list ['a', 'b', 'c', 'd'] for the next three queries.\n",
    "\n",
    "3. What is the value of spam[int(int('3' * 2) / 11)]?\n",
    "\n",
    "    -- 'd'\n",
    "\n",
    "4. What is the value of spam[-1]?\n",
    "\n",
    "    -- 'd'\n",
    "\n",
    "5. What is the value of spam[:2]?\n",
    "    -- ['a','b']"
   ]
  },
  {
   "attachments": {},
   "cell_type": "markdown",
   "metadata": {},
   "source": [
    "Let's pretend bacon has the list [3.14, 'cat,' 11, 'cat,' True] for the next three questions.\n",
    "\n",
    "6. What is the value of bacon.index('cat')?\n",
    "\n",
    "    -- 1\n",
    "\n",
    "7. How does bacon.append(99) change the look of the list value in bacon?\n",
    "\n",
    "    -- [3.14, 'cat,' 11, 'cat,' True, 99]\n",
    "\n",
    "8. How does bacon.remove('cat') change the look of the list in bacon?\n",
    "\n",
    "    -- [3.14, 11, 'cat,' True, 99]"
   ]
  },
  {
   "attachments": {},
   "cell_type": "markdown",
   "metadata": {},
   "source": [
    "9. What are the list concatenation and list replication operators?\n",
    "\n",
    "    -- '+' for concatenation and '*' for replication."
   ]
  },
  {
   "attachments": {},
   "cell_type": "markdown",
   "metadata": {},
   "source": [
    "10. What is difference between the list methods append() and insert()?\n",
    "\n",
    "    -- append() : adds a new value to the end of the list & insert(): inserts the new value in the list at a specific index you have declare the index position. \n",
    "\n",
    "\n"
   ]
  },
  {
   "attachments": {},
   "cell_type": "markdown",
   "metadata": {},
   "source": [
    "11. What are the two methods for removing items from a list?\n",
    "\n",
    "    -- remove(item) and pop()"
   ]
  },
  {
   "attachments": {},
   "cell_type": "markdown",
   "metadata": {},
   "source": [
    "12. Describe how list values and string values are identical.\n",
    "\n",
    "    -- List and string values are identical as you can use indexing method to select char or value in both data types, Can be used in for loops\n",
    "        can be concatenated or replicated, Can be used with the in and not in operators. You can use len() function for both types of data\n",
    "\n",
    "13. What's the difference between tuples and lists?\n",
    "\n",
    "    -- Lists : are mutable - they can have values added, removed, or changed. lists use the square brackets, []\n",
    "       Tuples : are immutable; they cannot be changed at all. Tuples are written using parentheses ()\n"
   ]
  },
  {
   "attachments": {},
   "cell_type": "markdown",
   "metadata": {},
   "source": [
    "14. How do you type a tuple value that only contains the integer 42?\n",
    "\n",
    "    -- tuple = (42,)\n",
    "        tuple\n",
    "\n",
    "15. How do you get a list value's tuple form? How do you get a tuple value's list form?\n",
    "\n",
    "    -- a = [1,2,3,4]\n",
    "        tup_a = tuple(a) \n",
    "\n",
    "16. Variables that \"contain\" list values are not necessarily lists themselves. Instead, what do they contain?\n",
    "\n",
    "    -- Variable contains the reference to the list values.\n",
    "\n",
    "17. How do you distinguish between copy.copy() and copy.deepcopy()?\n",
    "\n",
    "    -- The copy.copy() function will do a shallow copy of a list,\n",
    "        The copy.deepcopy() function will do a deep copy of a list. only copy.deepcopy() will duplicate any lists inside the list"
   ]
  }
 ],
 "metadata": {
  "kernelspec": {
   "display_name": "base",
   "language": "python",
   "name": "python3"
  },
  "language_info": {
   "codemirror_mode": {
    "name": "ipython",
    "version": 3
   },
   "file_extension": ".py",
   "mimetype": "text/x-python",
   "name": "python",
   "nbconvert_exporter": "python",
   "pygments_lexer": "ipython3",
   "version": "3.9.12"
  },
  "orig_nbformat": 4
 },
 "nbformat": 4,
 "nbformat_minor": 2
}
