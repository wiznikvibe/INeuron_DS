{
 "cells": [
  {
   "attachments": {},
   "cell_type": "markdown",
   "metadata": {},
   "source": [
    "## Assignment 9 \n",
    "1. What is a lambda function in Python, and how does it differ from a regular function?\n",
    "    - A lambdafunction is a small, anonymous function that can be defined without a name. It is also known as an \"anonymous function\" because it does not require the use of the def keyword to define it like a regular function.\n",
    "2. Can a lambda function in Python have multiple arguments? If yes, how can you define and use them?\n",
    "    - Yes, a lambda function can have mulitple arguements, to define these they need to be comma separated."
   ]
  },
  {
   "cell_type": "code",
   "execution_count": 1,
   "metadata": {},
   "outputs": [
    {
     "data": {
      "text/plain": [
       "11"
      ]
     },
     "execution_count": 1,
     "metadata": {},
     "output_type": "execute_result"
    }
   ],
   "source": [
    "# lambda arguments: expression and Multiple Arguement assigment\n",
    "a = lambda a,b: a + b\n",
    "a(4,7)"
   ]
  },
  {
   "attachments": {},
   "cell_type": "markdown",
   "metadata": {},
   "source": [
    "3. How are lambda functions typically used in Python? Provide an example use case.\n",
    "    - Lambda functions in Python are typically used in situations where a small, one-time function is needed. They are commonly used in conjunction with built-in functions like map(), filter(), and reduce(), as well as in sorting operations and as key functions."
   ]
  },
  {
   "cell_type": "code",
   "execution_count": 2,
   "metadata": {},
   "outputs": [
    {
     "name": "stdout",
     "output_type": "stream",
     "text": [
      "[1, 4, 9, 16, 25]\n"
     ]
    }
   ],
   "source": [
    "numbers = [1, 2, 3, 4, 5]\n",
    "squared_numbers = map(lambda x: x**2, numbers)\n",
    "print(list(squared_numbers))"
   ]
  },
  {
   "attachments": {},
   "cell_type": "markdown",
   "metadata": {},
   "source": [
    "4. What are the advantages and limitations of lambda functions compared to regular functions in Python?\n",
    "\n",
    "    Advantages - \n",
    "    - Concise Syntax: Lambda functions have a compact syntax, allowing you to define small functions in a single line of code.\n",
    "    - Readability: Lambda functions can make code more readable by keeping the function definition close to its usage, especially when used in combination with built-in function like map().\n",
    "    - Anonymous Functions: Lambda functions are anonymous, meaning they don't require a specific name, making them suitable for situations where you need a one-time, throwaway function.\n",
    "    - Function Composition: Lambda functions can be used to define simple function compositions, where the output of one function becomes the input of another.\n",
    "\n",
    "    Disadvantages -\n",
    "    - Single Expression: Lambda functions can only contain a single expression.\n",
    "    - Limited Functionality: Lambda functions are designed for simple tasks and don't support some features of regular functions, such as docstrings or function annotations.\n",
    "    - Reduced Reusability: Lambda functions are typically used for one-time or specific purposes. They are not reusable like regular functions, which can be called from multiple places in your code.\n"
   ]
  },
  {
   "attachments": {},
   "cell_type": "markdown",
   "metadata": {},
   "source": [
    "5. Are lambda functions in Python able to access variables defined outside of their own scope? Explain with an example.\n",
    "    - Yes, lambda functions in Python can access variables defined outside of their own scope. This is because lambda functions have access to the variables in the enclosing scope where they are defined. This concept is known as \"lexical scoping\" or \"closure.\""
   ]
  },
  {
   "cell_type": "code",
   "execution_count": 3,
   "metadata": {},
   "outputs": [
    {
     "name": "stdout",
     "output_type": "stream",
     "text": [
      "15\n"
     ]
    }
   ],
   "source": [
    "def outer_function():\n",
    "    x = 10\n",
    "    lambda_func = lambda y: x + y\n",
    "\n",
    "    return lambda_func\n",
    "\n",
    "# Call the outer function to get the lambda function\n",
    "my_lambda = outer_function()\n",
    "\n",
    "\n",
    "result = my_lambda(5)\n",
    "\n",
    "print(result)"
   ]
  },
  {
   "attachments": {},
   "cell_type": "markdown",
   "metadata": {},
   "source": [
    "6. Write a lambda function to calculate the square of a given number."
   ]
  },
  {
   "cell_type": "code",
   "execution_count": 4,
   "metadata": {},
   "outputs": [
    {
     "name": "stdout",
     "output_type": "stream",
     "text": [
      "625\n"
     ]
    }
   ],
   "source": [
    "square = lambda x: x**2\n",
    "\n",
    "result = square(25)\n",
    "print(result)"
   ]
  },
  {
   "attachments": {},
   "cell_type": "markdown",
   "metadata": {},
   "source": [
    "7. Create a lambda function to find the maximum value in a list of integers."
   ]
  },
  {
   "cell_type": "code",
   "execution_count": 5,
   "metadata": {},
   "outputs": [
    {
     "name": "stdout",
     "output_type": "stream",
     "text": [
      "76\n"
     ]
    }
   ],
   "source": [
    "find_max = lambda x: max(x)\n",
    "\n",
    "res = find_max([1,3,6,4,7,44,33,5,76,33,24])\n",
    "print(res)"
   ]
  },
  {
   "attachments": {},
   "cell_type": "markdown",
   "metadata": {},
   "source": [
    "8. Implement a lambda function to filter out all the even numbers from a list of integers."
   ]
  },
  {
   "cell_type": "code",
   "execution_count": 9,
   "metadata": {},
   "outputs": [
    {
     "name": "stdout",
     "output_type": "stream",
     "text": [
      "[6, 4, 44, 76, 24]\n"
     ]
    }
   ],
   "source": [
    "find_even = lambda x: list(filter(lambda x: x % 2 == 0, x))\n",
    "\n",
    "numbers = [1,3,6,4,7,44,33,5,76,33,24]\n",
    "\n",
    "res = find_even(numbers)\n",
    "print(res)\n"
   ]
  },
  {
   "attachments": {},
   "cell_type": "markdown",
   "metadata": {},
   "source": [
    "9. Write a lambda function to sort a list of strings in ascending order based on the length of each string."
   ]
  },
  {
   "cell_type": "code",
   "execution_count": 10,
   "metadata": {},
   "outputs": [
    {
     "name": "stdout",
     "output_type": "stream",
     "text": [
      "['car', 'nike', 'apple', 'cherry', 'cricket']\n"
     ]
    }
   ],
   "source": [
    "sort_string = lambda lst: sorted(lst, key=lambda x: len(x))\n",
    "\n",
    "strings = ['apple', 'cricket', 'nike','cherry','car']\n",
    "\n",
    "res_string = sort_string(strings)\n",
    "print(res_string)"
   ]
  },
  {
   "attachments": {},
   "cell_type": "markdown",
   "metadata": {},
   "source": [
    "10. Create a lambda function that takes two lists as input and returns a new list containing the common elements between the two lists."
   ]
  },
  {
   "cell_type": "code",
   "execution_count": 12,
   "metadata": {},
   "outputs": [
    {
     "name": "stdout",
     "output_type": "stream",
     "text": [
      "[4, 5]\n"
     ]
    }
   ],
   "source": [
    "common_ints = lambda lst1,lst2: list(filter(lambda x: x in lst1,lst2))\n",
    "\n",
    "list1 = [1, 2, 3, 4, 5]\n",
    "list2 = [4, 5, 6, 7, 8]\n",
    "\n",
    "res = common_ints(list1,list2)\n",
    "print(res)"
   ]
  },
  {
   "attachments": {},
   "cell_type": "markdown",
   "metadata": {},
   "source": [
    "11. Write a recursive function to calculate the factorial of a given positive integer."
   ]
  },
  {
   "cell_type": "code",
   "execution_count": 24,
   "metadata": {},
   "outputs": [
    {
     "name": "stdout",
     "output_type": "stream",
     "text": [
      "120\n"
     ]
    }
   ],
   "source": [
    "factorial = lambda n: 1 if n == 0 else n * factorial(n-1)\n",
    "\n",
    "res = factorial(5)\n",
    "print(res)"
   ]
  },
  {
   "attachments": {},
   "cell_type": "markdown",
   "metadata": {},
   "source": [
    "12. Implement a recursive function to compute the nth Fibonacci number."
   ]
  },
  {
   "cell_type": "code",
   "execution_count": 17,
   "metadata": {},
   "outputs": [
    {
     "data": {
      "text/plain": [
       "8"
      ]
     },
     "execution_count": 17,
     "metadata": {},
     "output_type": "execute_result"
    }
   ],
   "source": [
    "def recursive_func(n):\n",
    "    if n <= 1:\n",
    "        return n\n",
    "    else:\n",
    "        return recursive_func(n-1)+recursive_func(n-2)\n",
    "\n",
    "recursive_func(6) "
   ]
  },
  {
   "attachments": {},
   "cell_type": "markdown",
   "metadata": {},
   "source": [
    "13. Create a recursive function to find the sum of all the elements in a given list.\n",
    "\n"
   ]
  },
  {
   "cell_type": "code",
   "execution_count": 26,
   "metadata": {},
   "outputs": [
    {
     "name": "stdout",
     "output_type": "stream",
     "text": [
      "29\n"
     ]
    }
   ],
   "source": [
    "sum_list = lambda lst: 0 if len(lst) == 0 else lst[0] + sum_list(lst[1:])\n",
    "numbers = [11, 2, 3, 8, 5]\n",
    "\n",
    "result = sum_list(numbers)\n",
    "print(result)"
   ]
  },
  {
   "attachments": {},
   "cell_type": "markdown",
   "metadata": {},
   "source": [
    "14. Write a recursive function to determine whether a given string is a palindrome."
   ]
  },
  {
   "cell_type": "code",
   "execution_count": 30,
   "metadata": {},
   "outputs": [
    {
     "name": "stdout",
     "output_type": "stream",
     "text": [
      "True\n",
      "False\n"
     ]
    }
   ],
   "source": [
    "is_palindrome = lambda x: x == x[::-1]\n",
    "\n",
    "string = \"python\"\n",
    "string2 = \"racecar\"\n",
    "res = is_palindrome(string2)\n",
    "res1 = is_palindrome(string)\n",
    "print(res)\n",
    "print(res1)"
   ]
  },
  {
   "attachments": {},
   "cell_type": "markdown",
   "metadata": {},
   "source": [
    "15. Implement a recursive function to find the greatest common divisor (GCD) of two positive integers."
   ]
  },
  {
   "cell_type": "code",
   "execution_count": 32,
   "metadata": {},
   "outputs": [
    {
     "name": "stdout",
     "output_type": "stream",
     "text": [
      "5\n"
     ]
    }
   ],
   "source": [
    "gcd = lambda a, b: a if b == 0 else gcd(b, a % b)\n",
    "\n",
    "\n",
    "result = gcd(15, 35)\n",
    "print(result)"
   ]
  }
 ],
 "metadata": {
  "kernelspec": {
   "display_name": "base",
   "language": "python",
   "name": "python3"
  },
  "language_info": {
   "codemirror_mode": {
    "name": "ipython",
    "version": 3
   },
   "file_extension": ".py",
   "mimetype": "text/x-python",
   "name": "python",
   "nbconvert_exporter": "python",
   "pygments_lexer": "ipython3",
   "version": "3.9.12"
  },
  "orig_nbformat": 4
 },
 "nbformat": 4,
 "nbformat_minor": 2
}
