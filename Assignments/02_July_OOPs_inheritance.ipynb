{
 "cells": [
  {
   "attachments": {},
   "cell_type": "markdown",
   "metadata": {},
   "source": [
    "## Assigment 13 - OOPs Inheritance\n",
    "\n",
    "1. Explain what inheritance is in object-oriented programming and why it is used.\n",
    "\n",
    "    - Inheritance is a fundamental concept in object-oriented programming (OOP) that allows classes to inherit properties and behaviors from other classes. It is a mechanism by which a class can derive or inherit the attributes and methods of another class, known as the parent or base class.\n",
    "\n",
    "2. Discuss the concept of single inheritance and multiple inheritance, highlighting their\n",
    "differences and advantages.\n",
    "\n",
    "    - Single inheritance refers to the concept where a class inherits from only one base or parent class.In single inheritance, a derived class extends the functionality of a single base class.\n",
    "    The derived class inherits all the attributes and methods of the base class and can add its own unique attributes and methods.\n",
    "    - Multiple inheritance refers to the concept where a class inherits from multiple base or parent classes.\n",
    "    In multiple inheritance, a derived class can extend the functionality of multiple base classes. The derived class inherits attributes and methods from all the base classes, allowing it to combine and integrate their functionality.\n",
    "\n",
    "3. Explain the terms \"base class\" and \"derived class\" in the context of inheritance.\n",
    "\n",
    "    - A base class, also known as a parent class or superclass, is a class that serves as the foundation or template from which other classes can inherit. It defines common attributes and behaviors that are shared by multiple related classes.\n",
    "    - A derived class, also known as a child class or subclass, is a class that inherits properties and behaviors from a base class.\n",
    "    It extends or specializes the functionality of the base class by adding its own unique attributes and methods or overriding the ones inherited from the base class.\n",
    "\n",
    "4. What is the significance of the \"protected\" access modifier in inheritance? How does\n",
    "it differ from \"private\" and \"public\" modifiers?\n",
    "\n",
    "    - In the context of inheritance and access control in object-oriented programming, the \"protected\" access modifier plays a significant role. It is used to restrict access to class members (attributes and methods) within the class itself, its derived classes, and sometimes within the same package or module.\n",
    "    - The \"public\" access modifier allows unrestricted access to class members from anywhere within the program.\n",
    "    Public members can be accessed by any class or object, including derived classes and unrelated classes.\n",
    "\n",
    "5. What is the purpose of the \"super\" keyword in inheritance? Provide an example.\n",
    "\n",
    "    - The \"super\" keyword in inheritance is used to refer to the parent class or superclass. It allows us to access and invoke the methods and attributes of the superclass within the subclass. The primary purpose of the \"super\" keyword is to provide a convenient way to call and extend the functionality of the superclass from the subclass.\n"
   ]
  },
  {
   "cell_type": "markdown",
   "metadata": {},
   "source": [
    "6. Create a base class called \"Vehicle\" with attributes like \"make\", \"model\", and \"year\".\n",
    "Then, create a derived class called \"Car\" that inherits from \"Vehicle\" and adds an\n",
    "attribute called \"fuel_type\". Implement appropriate methods in both classes."
   ]
  },
  {
   "cell_type": "code",
   "execution_count": 24,
   "metadata": {},
   "outputs": [],
   "source": [
    "class Vehicle:\n",
    "    \n",
    "    def __init__(self, make, model, year):\n",
    "        self.make = make \n",
    "        self.model = model\n",
    "        self.year = year\n",
    "\n",
    "    def power_on(self):\n",
    "        print(\"The Engine is turned on, and the vehicle is moving\")\n",
    "\n",
    "class Car(Vehicle):\n",
    "    def __init__(self, make, model, year, fuel_type):\n",
    "        super().__init__(make,model,year)\n",
    "        self.fuel_type = fuel_type\n",
    "    \n",
    "    def turned_on(self):\n",
    "        print(f\"The engine is on, {self.model} is ready to move\")"
   ]
  },
  {
   "cell_type": "code",
   "execution_count": 29,
   "metadata": {},
   "outputs": [
    {
     "name": "stdout",
     "output_type": "stream",
     "text": [
      "The engine is on, sports car is ready to move\n"
     ]
    }
   ],
   "source": [
    "car = Car(\"hatchback\",\"sports car\",\"2021\",\"Diesel\")\n",
    "car.turned_on()"
   ]
  },
  {
   "cell_type": "code",
   "execution_count": 30,
   "metadata": {},
   "outputs": [
    {
     "name": "stdout",
     "output_type": "stream",
     "text": [
      "The Engine is turned on, and the vehicle is moving\n"
     ]
    }
   ],
   "source": [
    "# Vehicle method \n",
    "car.power_on()"
   ]
  },
  {
   "cell_type": "markdown",
   "metadata": {},
   "source": [
    "7. Create a base class called \"Employee\" with attributes like \"name\" and \"salary.\"\n",
    "Derive two classes, \"Manager\" and \"Developer,\" from \"Employee.\" Add an additional\n",
    "attribute called \"department\" for the \"Manager\" class and \"programming_language\"\n",
    "for the \"Developer\" class."
   ]
  },
  {
   "cell_type": "code",
   "execution_count": 32,
   "metadata": {},
   "outputs": [],
   "source": [
    "class Employee:\n",
    "    def __init__(self,name,salary):\n",
    "        self.name = name\n",
    "        self.salary = salary\n",
    "\n",
    "class Manager(Employee):\n",
    "    def __init__(self, name, salary,department):\n",
    "        super().__init__(name,salary)\n",
    "        self.department = department \n",
    "\n",
    "class Developer(Employee):\n",
    "\n",
    "    def __init__(self,name,salary,programming_language):\n",
    "        super().__init__(name,salary)\n",
    "        self.programming_language = programming_language"
   ]
  },
  {
   "cell_type": "code",
   "execution_count": 33,
   "metadata": {},
   "outputs": [],
   "source": [
    "Suresh = Manager('Suresh',150000,\"HR\")\n",
    "Nikhil = Developer('Nikhil',250000,'Python')"
   ]
  },
  {
   "cell_type": "code",
   "execution_count": 41,
   "metadata": {},
   "outputs": [
    {
     "name": "stdout",
     "output_type": "stream",
     "text": [
      "HR\n"
     ]
    }
   ],
   "source": [
    "# print(Suresh.name)\n",
    "# print(Suresh.salary)\n",
    "print(Suresh.department)"
   ]
  },
  {
   "cell_type": "code",
   "execution_count": 40,
   "metadata": {},
   "outputs": [
    {
     "name": "stdout",
     "output_type": "stream",
     "text": [
      "Python\n"
     ]
    }
   ],
   "source": [
    "# print(Nikhil.name)\n",
    "# print(Nikhil.salary)\n",
    "print(Nikhil.programming_language)"
   ]
  },
  {
   "cell_type": "markdown",
   "metadata": {},
   "source": [
    "8. Design a base class called \"Shape\" with attributes like \"colour\" and \"border_width.\"\n",
    "Create derived classes, \"Rectangle\" and \"Circle,\" that inherit from \"Shape\" and add\n",
    "specific attributes like \"length\" and \"width\" for the \"Rectangle\" class and \"radius\" for\n",
    "the \"Circle\" class."
   ]
  },
  {
   "cell_type": "code",
   "execution_count": 42,
   "metadata": {},
   "outputs": [],
   "source": [
    "class Shape:\n",
    "    def __init__(self,colour,border_width):\n",
    "        self.colour = colour\n",
    "        self.border_width = border_width\n",
    "    \n",
    "class Rectangle(Shape):\n",
    "    def __init__(self, colour,border_width,length,width):\n",
    "        super().__init__(colour,border_width)\n",
    "        self.length = length\n",
    "        self.width = width\n",
    "    \n",
    "class Circle(Shape):\n",
    "    def __init__(self, colour,border_width,radius):\n",
    "        super().__init__(colour,border_width)\n",
    "        self.radius = radius"
   ]
  },
  {
   "cell_type": "code",
   "execution_count": 43,
   "metadata": {},
   "outputs": [
    {
     "name": "stdout",
     "output_type": "stream",
     "text": [
      "red\n",
      "2\n",
      "10\n",
      "5\n"
     ]
    }
   ],
   "source": [
    "rectangle = Rectangle(\"red\", 2, 10, 5)\n",
    "print(rectangle.colour) \n",
    "print(rectangle.border_width)  \n",
    "print(rectangle.length) \n",
    "print(rectangle.width) "
   ]
  },
  {
   "cell_type": "code",
   "execution_count": 44,
   "metadata": {},
   "outputs": [
    {
     "name": "stdout",
     "output_type": "stream",
     "text": [
      "blue\n",
      "1\n",
      "7\n"
     ]
    }
   ],
   "source": [
    "circle = Circle(\"blue\", 1, 7)\n",
    "print(circle.colour) \n",
    "print(circle.border_width) \n",
    "print(circle.radius)  "
   ]
  },
  {
   "cell_type": "markdown",
   "metadata": {},
   "source": [
    "9. Create a base class called \"Device\" with attributes like \"brand\" and \"model.\" Derive\n",
    "two classes, \"Phone\" and \"Tablet,\" from \"Device.\" Add specific attributes like\n",
    "\"screen_size\" for the \"Phone\" class and \"battery_capacity\" for the \"Tablet\" class.\n"
   ]
  },
  {
   "cell_type": "code",
   "execution_count": 45,
   "metadata": {},
   "outputs": [],
   "source": [
    "class Device:\n",
    "\n",
    "    def __init__(self, brand, model):\n",
    "        self.brand = brand\n",
    "        self.model = model\n",
    "    \n",
    "class Phone(Device):\n",
    "\n",
    "    def __init__(self, brand, model, screen_size):\n",
    "        super().__init__(brand, model)\n",
    "        self.screen_size = screen_size\n",
    "\n",
    "class Tablet(Device):\n",
    "\n",
    "    def __init__(self, brand, model, battery_capacity):\n",
    "        super().__init__(brand, model)\n",
    "        self.battery_capacity = battery_capacity"
   ]
  },
  {
   "cell_type": "code",
   "execution_count": 46,
   "metadata": {},
   "outputs": [
    {
     "name": "stdout",
     "output_type": "stream",
     "text": [
      "Apple\n",
      "iPhone 12\n",
      "6.1\n"
     ]
    }
   ],
   "source": [
    "phone = Phone(\"Apple\", \"iPhone 12\", 6.1)\n",
    "print(phone.brand)\n",
    "print(phone.model)  \n",
    "print(phone.screen_size) \n"
   ]
  },
  {
   "cell_type": "code",
   "execution_count": 47,
   "metadata": {},
   "outputs": [
    {
     "name": "stdout",
     "output_type": "stream",
     "text": [
      "Samsung\n",
      "Galaxy Tab S7\n",
      "10000\n"
     ]
    }
   ],
   "source": [
    "\n",
    "tablet = Tablet(\"Samsung\", \"Galaxy Tab S7\", 10000)\n",
    "print(tablet.brand)\n",
    "print(tablet.model)\n",
    "print(tablet.battery_capacity)"
   ]
  },
  {
   "cell_type": "markdown",
   "metadata": {},
   "source": [
    "10. Create a base class called \"BankAccount\" with attributes like \"account_number\" and\n",
    "\"balance.\" Derive two classes, \"SavingsAccount\" and \"CheckingAccount,\" from\n",
    "\"BankAccount.\" Add specific methods like \"calculate_interest\" for the\n",
    "\"SavingsAccount\" class and \"deduct_fees\" for the \"CheckingAccount\" class."
   ]
  },
  {
   "cell_type": "code",
   "execution_count": 48,
   "metadata": {},
   "outputs": [],
   "source": [
    "class BankAccount:\n",
    "    def __init__(self, account_number, balance):\n",
    "        self.account_number = account_number\n",
    "        self.balance = balance\n",
    "\n",
    "class SavingsAccount(BankAccount):\n",
    "    def calculate_interest(self, interest_rate):\n",
    "        interest = self.balance * (interest_rate / 100)\n",
    "        self.balance += interest\n",
    "\n",
    "class CheckingAccount(BankAccount):\n",
    "    def deduct_fees(self, fee_amount):\n",
    "        self.balance -= fee_amount\n",
    "\n",
    "\n",
    "\n",
    "\n"
   ]
  },
  {
   "cell_type": "code",
   "execution_count": 49,
   "metadata": {},
   "outputs": [
    {
     "name": "stdout",
     "output_type": "stream",
     "text": [
      "1050.0\n"
     ]
    }
   ],
   "source": [
    "savings_acc = SavingsAccount(\"SAV123\", 1000)\n",
    "savings_acc.calculate_interest(5)  \n",
    "print(savings_acc.balance)  \n"
   ]
  },
  {
   "cell_type": "code",
   "execution_count": 50,
   "metadata": {},
   "outputs": [
    {
     "name": "stdout",
     "output_type": "stream",
     "text": [
      "490\n"
     ]
    }
   ],
   "source": [
    "checking_acc = CheckingAccount(\"CHK456\", 500)\n",
    "checking_acc.deduct_fees(10) \n",
    "print(checking_acc.balance) "
   ]
  }
 ],
 "metadata": {
  "kernelspec": {
   "display_name": "base",
   "language": "python",
   "name": "python3"
  },
  "language_info": {
   "codemirror_mode": {
    "name": "ipython",
    "version": 3
   },
   "file_extension": ".py",
   "mimetype": "text/x-python",
   "name": "python",
   "nbconvert_exporter": "python",
   "pygments_lexer": "ipython3",
   "version": "3.9.12"
  },
  "orig_nbformat": 4
 },
 "nbformat": 4,
 "nbformat_minor": 2
}
