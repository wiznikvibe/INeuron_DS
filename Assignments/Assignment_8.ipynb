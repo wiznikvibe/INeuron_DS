{
 "cells": [
  {
   "attachments": {},
   "cell_type": "markdown",
   "metadata": {},
   "source": [
    "## Assignment 8 (Basics of Functions)\n",
    "1. In Python, what is the difference between a built in function and as user-defined function? Provide an example of each.\n",
    "    - Built-in functions are provided by python and are available readily without having to import any modules\n",
    "\n",
    "2. How can you pass arguments to a function in Python? Explain the difference between positional\n",
    "arguments and keyword arguments.\n",
    "3. What is the purpose of the return statement in a function? Can a function have multiple return\n",
    "statements? Explain with an example.\n",
    "4. What are lambda functions in Python? How are they different from regular functions? Provide an\n",
    "example where a lambda function can be useful.\n",
    "5. How does the concept of \"scope\" apply to functions in Python? Explain the difference between local\n",
    "scope and global scope.\n",
    "6. How can you use the \"return\" statement in a Python function to return multiple values?\n",
    "7. What is the difference between the \"pass by value\" and \"pass by reference\" concepts when it\n",
    "comes to function arguments in Python?\n",
    "8. Create a function that can intake integer or decimal value and do following operations:\n",
    "    a. Logarithmic function (log x)\n",
    "    b. Exponential function (exp(x))\n",
    "    c. Power function with base 2 (2x)\n",
    "    d. Square root\n",
    "9. Create a function that takes a full name as an argument and returns first name and last name."
   ]
  },
  {
   "cell_type": "code",
   "execution_count": null,
   "metadata": {},
   "outputs": [],
   "source": [
    "\n"
   ]
  }
 ],
 "metadata": {
  "language_info": {
   "name": "python"
  },
  "orig_nbformat": 4
 },
 "nbformat": 4,
 "nbformat_minor": 2
}
