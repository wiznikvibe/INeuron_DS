{
 "cells": [
  {
   "attachments": {},
   "cell_type": "markdown",
   "metadata": {},
   "source": [
    "## Assignment 8 (Basics of Functions)"
   ]
  },
  {
   "attachments": {},
   "cell_type": "markdown",
   "metadata": {},
   "source": [
    "1. In Python, what is the difference between a built in function and as user-defined function? Provide an example of each.\n",
    "    - Built-in functions are provided by python and are available readily without having to import any modules. These are fundamental part of the Pythoon programming language.\n",
    "    \n",
    "    Example:"
   ]
  },
  {
   "cell_type": "code",
   "execution_count": 1,
   "metadata": {},
   "outputs": [
    {
     "name": "stdout",
     "output_type": "stream",
     "text": [
      "6\n"
     ]
    }
   ],
   "source": [
    "Name = \"Nikhil\"\n",
    "# Here len is a built in function\n",
    "length = len(Name)\n",
    "# Print is a built in function as well\n",
    "print(length)"
   ]
  },
  {
   "attachments": {},
   "cell_type": "markdown",
   "metadata": {},
   "source": [
    "2. How can you pass arguments to a function in Python? Explain the difference between positional arguments and keyword arguments.\n",
    "    - Positional Arguement - Default way of passing arguements to a function in Python. These are passed to a function based on their order or position or order.\n",
    "    \n",
    "    - Keyword Arguements - These are passed to a function using the parameter names along with the value to be assigned. This allows explicit assignment of values regardless of their position."
   ]
  },
  {
   "cell_type": "code",
   "execution_count": 2,
   "metadata": {},
   "outputs": [
    {
     "name": "stdout",
     "output_type": "stream",
     "text": [
      "Hi, I am Nikhil and I am 23 years old\n"
     ]
    }
   ],
   "source": [
    "# Example of Positional Arguements\n",
    "def greet(name, age):\n",
    "    print(f\"Hi, I am {name} and I am {age} years old\")\n",
    "\n",
    "greet('Nikhil', 23)"
   ]
  },
  {
   "cell_type": "code",
   "execution_count": 3,
   "metadata": {},
   "outputs": [
    {
     "name": "stdout",
     "output_type": "stream",
     "text": [
      "Hi, I am Nikhil and I am 23 years old\n"
     ]
    }
   ],
   "source": [
    "# Example of Keyword Arguements \n",
    "greet(age = 23, name='Nikhil')"
   ]
  },
  {
   "attachments": {},
   "cell_type": "markdown",
   "metadata": {},
   "source": [
    "3. What is the purpose of the return statement in a function? Can a function have multiple return\n",
    "statements? Explain with an example.\n",
    "    \n",
    "    - The purpose of return statement is to specify the values or valuee that th function should output when it is called. It provides a result or information when a function is called by the user.\n",
    "\n",
    "    - Yes, It is possible to have multiple returns, although when a return is executed it exits the function and terminate the program. Therefore, a \n",
    "    function can have multiple returns but only one of them is executed.\n"
   ]
  },
  {
   "cell_type": "code",
   "execution_count": 5,
   "metadata": {},
   "outputs": [
    {
     "data": {
      "text/plain": [
       "5.0"
      ]
     },
     "execution_count": 5,
     "metadata": {},
     "output_type": "execute_result"
    }
   ],
   "source": [
    "def division(a,b):\n",
    "    if b == 0:\n",
    "        return \"Zero Division Error\"\n",
    "    else:\n",
    "        return a/b\n",
    "\n",
    "division(15,3)"
   ]
  },
  {
   "attachments": {},
   "cell_type": "markdown",
   "metadata": {},
   "source": [
    "4. What are lambda functions in Python? How are they different from regular functions? Provide an example where a lambda function can be useful.\n",
    "    - Lambda functions are used to create small, one-line functions without the need of proper function definition. These are defined using 'lambda' keyword, it can take multiple arguements but only one expression, The lambda function do not have a name associated with them. Mainly used for short, simple operations. "
   ]
  },
  {
   "cell_type": "code",
   "execution_count": 7,
   "metadata": {},
   "outputs": [
    {
     "name": "stdout",
     "output_type": "stream",
     "text": [
      "13\n",
      "10\n"
     ]
    }
   ],
   "source": [
    "# Lambda Function declaration\n",
    "add  = lambda a,b: a + b\n",
    "print(add(4,9))\n",
    "\n",
    "# Formal Function Declaration\n",
    "def add(a,b):\n",
    "    return a+b\n",
    "result = add(3,7)\n",
    "print(result)"
   ]
  },
  {
   "attachments": {},
   "cell_type": "markdown",
   "metadata": {},
   "source": [
    "5. How does the concept of \"scope\" apply to functions in Python? Explain the difference between local scope and global scope.\n",
    "    - Scope refers to visibility of variables within a program. It defines the parts of code where a particulat variable can be accessed or referred. The concept of scope is applicable to functions. There are two types of scopes:\n",
    "        - Local Scope - Variables defined inside a function have a local scope, local variables are created when a fucntion is called and deleted when a function completes its execution. Local variables can only be accessed inside a function.\n",
    "        - Global Scope - Variables designed outside a function or at top level are known as global scope variables, these can be accessed from anywhere in the code, including inside a function.\n"
   ]
  },
  {
   "cell_type": "code",
   "execution_count": 8,
   "metadata": {},
   "outputs": [
    {
     "name": "stdout",
     "output_type": "stream",
     "text": [
      "10\n"
     ]
    },
    {
     "ename": "NameError",
     "evalue": "name 'x' is not defined",
     "output_type": "error",
     "traceback": [
      "\u001b[1;31m---------------------------------------------------------------------------\u001b[0m",
      "\u001b[1;31mNameError\u001b[0m                                 Traceback (most recent call last)",
      "\u001b[1;32mc:\\Users\\nikhi\\INeuron_DS\\Assignments\\Assignment_8.ipynb Cell 12\u001b[0m in \u001b[0;36m<cell line: 6>\u001b[1;34m()\u001b[0m\n\u001b[0;32m      <a href='vscode-notebook-cell:/c%3A/Users/nikhi/INeuron_DS/Assignments/Assignment_8.ipynb#X13sZmlsZQ%3D%3D?line=2'>3</a>\u001b[0m     \u001b[39mprint\u001b[39m(x)\n\u001b[0;32m      <a href='vscode-notebook-cell:/c%3A/Users/nikhi/INeuron_DS/Assignments/Assignment_8.ipynb#X13sZmlsZQ%3D%3D?line=4'>5</a>\u001b[0m my_function()  \u001b[39m# Output: 10\u001b[39;00m\n\u001b[1;32m----> <a href='vscode-notebook-cell:/c%3A/Users/nikhi/INeuron_DS/Assignments/Assignment_8.ipynb#X13sZmlsZQ%3D%3D?line=5'>6</a>\u001b[0m \u001b[39mprint\u001b[39m(x)\n",
      "\u001b[1;31mNameError\u001b[0m: name 'x' is not defined"
     ]
    }
   ],
   "source": [
    "def my_function():\n",
    "    x = 10  # Local variable\n",
    "    print(x)\n",
    "\n",
    "my_function()  # Output: 10\n",
    "print(x)"
   ]
  },
  {
   "cell_type": "code",
   "execution_count": 9,
   "metadata": {},
   "outputs": [
    {
     "name": "stdout",
     "output_type": "stream",
     "text": [
      "10\n",
      "10\n"
     ]
    }
   ],
   "source": [
    "x = 10  # Global variable\n",
    "\n",
    "def my_function():\n",
    "    print(x)\n",
    "\n",
    "my_function()  # Output: 10\n",
    "print(x)  # Output: 10\n"
   ]
  },
  {
   "attachments": {},
   "cell_type": "markdown",
   "metadata": {},
   "source": [
    "6. How can you use the \"return\" statement in a Python function to return multiple values?\n",
    "    - In Python, the return statement is used to exit a function and optionally return a value or multiple values. To return multiple values from a function, you can use various data structures such as tuples, lists, or dictionaries."
   ]
  },
  {
   "cell_type": "code",
   "execution_count": 10,
   "metadata": {},
   "outputs": [
    {
     "name": "stdout",
     "output_type": "stream",
     "text": [
      "[1, 2, 3]\n"
     ]
    }
   ],
   "source": [
    "def get_values():\n",
    "    a = 1\n",
    "    b = 2\n",
    "    c = 3\n",
    "    return [a, b, c]\n",
    "\n",
    "result = get_values()\n",
    "print(result)  # Output: [1, 2, 3]\n"
   ]
  },
  {
   "attachments": {},
   "cell_type": "markdown",
   "metadata": {},
   "source": [
    "7. What is the difference between the \"pass by value\" and \"pass by reference\" concepts when it comes to function arguments in Python?\n",
    "    - Pass By Value : \n",
    "        a copy of the value of the variable is passed to the function. Any modifications made to the parameters inside the function do not affect the original variable outside the function.\n",
    "\n",
    "    - Pass By Reference: \n",
    "        A reference or memory address of the variable is passed to the function. Any modifications made to the parameter inside the function will affect the original variable outside the function.\n",
    "\n"
   ]
  },
  {
   "cell_type": "code",
   "execution_count": 12,
   "metadata": {},
   "outputs": [
    {
     "name": "stdout",
     "output_type": "stream",
     "text": [
      "10\n",
      "5\n"
     ]
    }
   ],
   "source": [
    "def modify_value(x):\n",
    "    x = 10  # Modify the local copy of x\n",
    "    print(x)  # Output: 10\n",
    "\n",
    "a = 5\n",
    "modify_value(a)\n",
    "print(a)  # Output: 5 (Unaffected by the function)\n"
   ]
  },
  {
   "cell_type": "code",
   "execution_count": 11,
   "metadata": {},
   "outputs": [
    {
     "name": "stdout",
     "output_type": "stream",
     "text": [
      "[1, 2, 3, 4]\n",
      "[1, 2, 3, 4]\n"
     ]
    }
   ],
   "source": [
    "def modify_list(lst):\n",
    "    lst.append(4)  \n",
    "    print(lst)  \n",
    "\n",
    "my_list = [1, 2, 3]\n",
    "modify_list(my_list)\n",
    "print(my_list)  # Output: [1, 2, 3, 4] (Modified by the function)\n"
   ]
  },
  {
   "attachments": {},
   "cell_type": "markdown",
   "metadata": {},
   "source": [
    "8. Create a function that can intake integer or decimal value and do following operations:\n",
    "    a. Logarithmic function (log x)\n",
    "    b. Exponential function (exp(x))\n",
    "    c. Power function with base 2 (2x)\n",
    "    d. Square root\n"
   ]
  },
  {
   "cell_type": "code",
   "execution_count": 15,
   "metadata": {},
   "outputs": [
    {
     "name": "stdout",
     "output_type": "stream",
     "text": [
      "Logarithm: 4.1588830833596715\n",
      "Exponential: 6.235149080811617e+27\n",
      "Power (base 2): 1.8446744073709552e+19\n",
      "Square Root: 8.0\n"
     ]
    }
   ],
   "source": [
    "import math\n",
    "\n",
    "def perform_operations(value):\n",
    "    # Logarithmic function (log x)\n",
    "    logarithm = math.log(value)\n",
    "\n",
    "    # Exponential function (exp(x))\n",
    "    exponential = math.exp(value)\n",
    "\n",
    "    # Power function with base 2 (2x)\n",
    "    power = math.pow(2, value)\n",
    "\n",
    "    # Square root\n",
    "    square_root = math.sqrt(value)\n",
    "\n",
    "    # Return the results\n",
    "    return logarithm, exponential, power, square_root\n",
    "\n",
    "\n",
    "result = perform_operations(64)\n",
    "print(\"Logarithm:\", result[0])\n",
    "print(\"Exponential:\", result[1])\n",
    "print(\"Power (base 2):\", result[2])\n",
    "print(\"Square Root:\", result[3])\n"
   ]
  },
  {
   "attachments": {},
   "cell_type": "markdown",
   "metadata": {},
   "source": [
    "9. Create a function that takes a full name as an argument and returns first name and last name."
   ]
  },
  {
   "cell_type": "code",
   "execution_count": 17,
   "metadata": {},
   "outputs": [
    {
     "name": "stdout",
     "output_type": "stream",
     "text": [
      "First Name: Nikhil\n",
      "Last Name: Shetty\n"
     ]
    }
   ],
   "source": [
    "def get_first_last_name(full_name):\n",
    "    # Split the full name into first name and last name\n",
    "    names = full_name.split()\n",
    "\n",
    "    # Check if there are at least two names\n",
    "    if len(names) >= 2:\n",
    "        first_name = names[0]\n",
    "        last_name = names[-1]\n",
    "        return first_name, last_name\n",
    "    else:\n",
    "        \n",
    "        return None, None\n",
    "\n",
    "\n",
    "name = \"Nikhil Shetty\"\n",
    "first_name, last_name = get_first_last_name(name)\n",
    "print(\"First Name:\", first_name)\n",
    "print(\"Last Name:\", last_name)\n"
   ]
  }
 ],
 "metadata": {
  "kernelspec": {
   "display_name": "base",
   "language": "python",
   "name": "python3"
  },
  "language_info": {
   "codemirror_mode": {
    "name": "ipython",
    "version": 3
   },
   "file_extension": ".py",
   "mimetype": "text/x-python",
   "name": "python",
   "nbconvert_exporter": "python",
   "pygments_lexer": "ipython3",
   "version": "3.9.12"
  },
  "orig_nbformat": 4
 },
 "nbformat": 4,
 "nbformat_minor": 2
}
