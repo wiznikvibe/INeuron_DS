{
 "cells": [
  {
   "attachments": {},
   "cell_type": "markdown",
   "metadata": {},
   "source": [
    "# Assignment 7 - Python Basics\n",
    "\n",
    "\n",
    "\n",
    "\n"
   ]
  },
  {
   "attachments": {},
   "cell_type": "markdown",
   "metadata": {},
   "source": [
    "Q.1. Create two int type variables, apply addition, subtraction, division and multiplications\n",
    "and store the results in variables. Then print the data in the following format by calling the\n",
    "variables:\n",
    "    - First variable is 9 & second variable is 3.\n",
    "    \n",
    "    - Addition: __ + __ = __\n",
    "    - Subtraction: __ - __ = __\n",
    "    - Multiplication: __ * __ = __\n",
    "    - Division: __ / __ = __"
   ]
  },
  {
   "cell_type": "code",
   "execution_count": 3,
   "metadata": {},
   "outputs": [
    {
     "data": {
      "text/plain": [
       "{'Addition': 12, 'Subraction': 6, 'Division': 3.0, 'Multiplication': 27}"
      ]
     },
     "execution_count": 3,
     "metadata": {},
     "output_type": "execute_result"
    }
   ],
   "source": [
    "x = 9\n",
    "y = 3\n",
    "\n",
    "operations = {}\n",
    "\n",
    "add = x + y\n",
    "if add not in operations:\n",
    "    operations[\"Addition\"] = add\n",
    "\n",
    "sub = x - y\n",
    "if sub not in operations:\n",
    "    operations[\"Subraction\"] = sub\n",
    "div = x / y \n",
    "if div not in operations:\n",
    "    operations[\"Division\"] = div\n",
    "mul = x * y\n",
    "if mul not in operations:\n",
    "    operations[\"Multiplication\"] = mul\n",
    "\n",
    "operations"
   ]
  },
  {
   "attachments": {},
   "cell_type": "markdown",
   "metadata": {},
   "source": [
    "Q.2. What is the difference between the following operators:\n",
    "(i) ‘/’ & ‘//’\n",
    "(ii) ‘**’ & ‘^’\n",
    "\n",
    "    - i> \"/\" : is a division operator in python which performs normal division, resulting in floating point number or decimal value. \n",
    "        \"//\": is the floor division operator in Python. It performs division and rounds down the result to the nearest whole number or integer.\n",
    "    - ii> \"**\" : is the exponentiation operator in Python and is used to raise a number to a power.\n",
    "          \"^\" : is the bitwise XOR operator."
   ]
  },
  {
   "cell_type": "code",
   "execution_count": 4,
   "metadata": {},
   "outputs": [
    {
     "data": {
      "text/plain": [
       "3.3333333333333335"
      ]
     },
     "execution_count": 4,
     "metadata": {},
     "output_type": "execute_result"
    }
   ],
   "source": [
    "10/3"
   ]
  },
  {
   "cell_type": "code",
   "execution_count": 5,
   "metadata": {},
   "outputs": [
    {
     "data": {
      "text/plain": [
       "3"
      ]
     },
     "execution_count": 5,
     "metadata": {},
     "output_type": "execute_result"
    }
   ],
   "source": [
    "10//3"
   ]
  },
  {
   "cell_type": "code",
   "execution_count": 6,
   "metadata": {},
   "outputs": [
    {
     "data": {
      "text/plain": [
       "8"
      ]
     },
     "execution_count": 6,
     "metadata": {},
     "output_type": "execute_result"
    }
   ],
   "source": [
    "2**3"
   ]
  },
  {
   "cell_type": "code",
   "execution_count": 7,
   "metadata": {},
   "outputs": [
    {
     "data": {
      "text/plain": [
       "6"
      ]
     },
     "execution_count": 7,
     "metadata": {},
     "output_type": "execute_result"
    }
   ],
   "source": [
    "5^3"
   ]
  },
  {
   "attachments": {},
   "cell_type": "markdown",
   "metadata": {},
   "source": [
    "Q.3. List the logical operators.\n",
    "    \n",
    "    - AND\n",
    "    - OR\n",
    "    - NOT "
   ]
  },
  {
   "attachments": {},
   "cell_type": "markdown",
   "metadata": {},
   "source": [
    "Q.4. Explain right shift operator and left shift operator with examples.\n",
    "    \n",
    "    - The right shift (>>) and left shift (<<) operators are bitwise operators in Python that perform shifting of bits in an integer value. They shift the bits to the right or left, respectively, by a specified number of positions."
   ]
  },
  {
   "cell_type": "code",
   "execution_count": 10,
   "metadata": {},
   "outputs": [
    {
     "name": "stdout",
     "output_type": "stream",
     "text": [
      "40 2\n"
     ]
    }
   ],
   "source": [
    "# Left Shift Binary Operator \n",
    "x = 10  # Binary: 1010\n",
    "y = x << 2  # Shifts 2 positions to the left\n",
    "\n",
    "# Binary representation of y: 101000\n",
    "# Decimal value of y: 40\n",
    " \n",
    "\n",
    "# Right Shift Binary Operator \n",
    "z = 10\n",
    "r = z >> 2\n",
    "\n",
    "print(y,r)"
   ]
  },
  {
   "attachments": {},
   "cell_type": "markdown",
   "metadata": {},
   "source": [
    "Q.5. Create a list containing int type data of length 15. Then write a code to check if 10 is\n",
    "present in the list or not."
   ]
  },
  {
   "cell_type": "code",
   "execution_count": 19,
   "metadata": {},
   "outputs": [
    {
     "name": "stdout",
     "output_type": "stream",
     "text": [
      "10 is present\n"
     ]
    }
   ],
   "source": [
    "import random\n",
    "var_ran = [random.randint(1,40) for _ in range(15)]\n",
    "if 10 in var_ran:\n",
    "    print(\"10 is present\")\n",
    "else:\n",
    "    print(\"Not present\")"
   ]
  }
 ],
 "metadata": {
  "kernelspec": {
   "display_name": "base",
   "language": "python",
   "name": "python3"
  },
  "language_info": {
   "codemirror_mode": {
    "name": "ipython",
    "version": 3
   },
   "file_extension": ".py",
   "mimetype": "text/x-python",
   "name": "python",
   "nbconvert_exporter": "python",
   "pygments_lexer": "ipython3",
   "version": "3.9.12"
  },
  "orig_nbformat": 4
 },
 "nbformat": 4,
 "nbformat_minor": 2
}
