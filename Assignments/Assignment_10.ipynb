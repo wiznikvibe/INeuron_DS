{
 "cells": [
  {
   "attachments": {},
   "cell_type": "markdown",
   "metadata": {},
   "source": [
    "## Assignment 10\n",
    "\n",
    "1. What is the role of try and exception block?\n",
    "    - The try-expect block is used for exception handling which allows to catch and handle errors or exceptions that may occur during the exception\n",
    "    occurs and instead provide a way to handle the error.\n"
   ]
  },
  {
   "attachments": {},
   "cell_type": "markdown",
   "metadata": {},
   "source": [
    "2. What is the syntax for a basic try-except block?"
   ]
  },
  {
   "cell_type": "code",
   "execution_count": null,
   "metadata": {},
   "outputs": [],
   "source": [
    "try:\n",
    "    # Code that may cause an exception\n",
    "    pass\n",
    "\n",
    "except Execption as e:\n",
    "    # If exception occurs this block of code is executed to deal with it\n",
    "    pass "
   ]
  },
  {
   "attachments": {},
   "cell_type": "markdown",
   "metadata": {},
   "source": [
    "3. What happens if an exception occurs inside a try block and there is no matching except block?\n",
    "    - If no matching except block is found, the program terminates, and a traceback is displayed indicating the unhandled exception."
   ]
  },
  {
   "attachments": {},
   "cell_type": "markdown",
   "metadata": {},
   "source": [
    "4. What is the difference between using a bare except block and specifying a specific exception type?\n",
    "    - When you use a bare except block, it means that any exception that occur within the try block will be caught by that except block, It does not specify a particular exception to handle.\n",
    "    - Whereas, you can specify a specific exception type that you want to handle. This allows you to catch and handle only the specified exception type. while letting other exceptions propogate. "
   ]
  },
  {
   "attachments": {},
   "cell_type": "markdown",
   "metadata": {},
   "source": [
    "5. Can you have nested try-except blocks in Python? If yes, then give an example.\n"
   ]
  },
  {
   "cell_type": "code",
   "execution_count": null,
   "metadata": {},
   "outputs": [],
   "source": [
    "try:\n",
    "    # Outer try block\n",
    "    # Code that may raise an exception\n",
    "    try:\n",
    "        # Inner try block\n",
    "        # Code that may raise an exception\n",
    "    except ValueError:\n",
    "        # Inner except block to handle ValueError\n",
    "    except IndexError:\n",
    "        # Inner except block to handle IndexError\n",
    "except:\n",
    "    # Outer except block to handle any other exceptions\n"
   ]
  },
  {
   "attachments": {},
   "cell_type": "markdown",
   "metadata": {},
   "source": [
    "6. Can we use multiple exception blocks, if yes then give an example."
   ]
  },
  {
   "cell_type": "code",
   "execution_count": null,
   "metadata": {},
   "outputs": [],
   "source": [
    "try:\n",
    "    # Code that may raise an exception\n",
    "except ValueError:\n",
    "    # Handling ValueError exception\n",
    "except IndexError:\n",
    "    # Handling IndexError exception\n",
    "except TypeError:\n",
    "    # Handling TypeError exception\n"
   ]
  },
  {
   "attachments": {},
   "cell_type": "markdown",
   "metadata": {},
   "source": [
    "7. Write the reason due to which following errors are raised:\n",
    "    \n",
    "    a. EOFError: This error occurs when the input() function reaches the end of the file (EOF) before it receives any input. It usually happens when you're expecting user input but the input stream is closed or empty.\n",
    "\n",
    "    b. FloatingPointError: This error occurs when a floating-point operation, such as division by zero or an invalid mathematical operation, results in an undefined or non-representable value.\n",
    "\n",
    "    c. IndexError: This error occurs when you try to access an index of a sequence (e.g., list, tuple, string) that is outside the valid range of indices. It typically happens when you try to access an element at an index that does not exist.\n",
    "\n",
    "    d. MemoryError: This error occurs when the Python interpreter cannot allocate enough memory to perform an operation. It usually happens when your program consumes all available memory resources.\n",
    "\n",
    "    e. OverflowError: This error occurs when a mathematical operation exceeds the maximum representable value for a numeric type. It typically happens when you perform calculations that result in a value greater than the maximum limit.\n",
    "\n",
    "    f. TabError: This error occurs when there are inconsistencies or incorrect usage of tabs and spaces in the indentation of your code. It usually happens when mixing tabs and spaces for indentation or when the indentation levels are not consistent.\n",
    "\n",
    "    g. ValueError: This error occurs when a function receives an argument of the correct type but with an inappropriate value. It typically happens when you pass an argument that is outside the expected range or does not meet a specific condition."
   ]
  },
  {
   "attachments": {},
   "cell_type": "markdown",
   "metadata": {},
   "source": [
    "8. Write code for the following given scenario and add try-exception block to it.\n"
   ]
  },
  {
   "attachments": {},
   "cell_type": "markdown",
   "metadata": {},
   "source": [
    "a. Program to divide two numbers"
   ]
  },
  {
   "cell_type": "code",
   "execution_count": 6,
   "metadata": {},
   "outputs": [
    {
     "name": "stdout",
     "output_type": "stream",
     "text": [
      "Error: Invalid Input\n"
     ]
    }
   ],
   "source": [
    "try:\n",
    "    num1 = int(input(\"Enter a Number: \"))\n",
    "    num2 = int(input('Enter a Number: '))\n",
    "\n",
    "    division = num1 / num2\n",
    "    print(\"Result\", division)\n",
    "except ZeroDivisionError:\n",
    "    print(\"Error: Cannot divide with zero\")\n",
    "except ValueError:\n",
    "    print(\"Error: Invalid Input\")\n"
   ]
  },
  {
   "attachments": {},
   "cell_type": "markdown",
   "metadata": {},
   "source": [
    "b. Program to convert a string to an integer"
   ]
  },
  {
   "cell_type": "code",
   "execution_count": 5,
   "metadata": {},
   "outputs": [
    {
     "name": "stdout",
     "output_type": "stream",
     "text": [
      "Error: Invalid input. Please enter a valid integer.\n"
     ]
    }
   ],
   "source": [
    "try:\n",
    "    string_num = input(\"Enter a number: \")\n",
    "    integer_num = int(string_num)\n",
    "    print(\"Converted integer:\", integer_num)\n",
    "except ValueError:\n",
    "    print(\"Error: Invalid input. Please enter a valid integer.\")\n"
   ]
  },
  {
   "attachments": {},
   "cell_type": "markdown",
   "metadata": {},
   "source": [
    "c. Program to access an element in a list"
   ]
  },
  {
   "cell_type": "code",
   "execution_count": 1,
   "metadata": {},
   "outputs": [
    {
     "name": "stdout",
     "output_type": "stream",
     "text": [
      "Error: Index out of range\n"
     ]
    }
   ],
   "source": [
    "try:\n",
    "    my_list = [1, 2, 3, 4, 5]\n",
    "    index = int(input(\"Enter the index: \"))\n",
    "    value = my_list[index]\n",
    "    print(\"Value at index\", index, \":\", value)\n",
    "except IndexError:\n",
    "    print(\"Error: Index out of range\")\n",
    "except ValueError:\n",
    "    print(\"Error: Invalid input. Please enter a valid integer index.\")\n"
   ]
  },
  {
   "attachments": {},
   "cell_type": "markdown",
   "metadata": {},
   "source": [
    "d. Program to handle a specific exception"
   ]
  },
  {
   "cell_type": "code",
   "execution_count": 2,
   "metadata": {},
   "outputs": [
    {
     "name": "stdout",
     "output_type": "stream",
     "text": [
      "Error: Cannot divide by zero\n"
     ]
    }
   ],
   "source": [
    "try:\n",
    "    num1 = int(input(\"Enter a number: \"))\n",
    "    num2 = int(input(\"Enter another number: \"))\n",
    "    result = num1 / num2\n",
    "    print(\"Result:\", result)\n",
    "except ZeroDivisionError:\n",
    "    print(\"Error: Cannot divide by zero\")\n"
   ]
  },
  {
   "attachments": {},
   "cell_type": "markdown",
   "metadata": {},
   "source": [
    "e. Program to handle any exception"
   ]
  },
  {
   "cell_type": "code",
   "execution_count": 3,
   "metadata": {},
   "outputs": [
    {
     "name": "stdout",
     "output_type": "stream",
     "text": [
      "An exception occurred: can only concatenate str (not \"int\") to str\n"
     ]
    }
   ],
   "source": [
    "try:\n",
    "    a = 'dan'+ 9\n",
    "except Exception as e:\n",
    "    print(\"An exception occurred:\", str(e))\n"
   ]
  }
 ],
 "metadata": {
  "kernelspec": {
   "display_name": "base",
   "language": "python",
   "name": "python3"
  },
  "language_info": {
   "codemirror_mode": {
    "name": "ipython",
    "version": 3
   },
   "file_extension": ".py",
   "mimetype": "text/x-python",
   "name": "python",
   "nbconvert_exporter": "python",
   "pygments_lexer": "ipython3",
   "version": "3.9.12"
  },
  "orig_nbformat": 4
 },
 "nbformat": 4,
 "nbformat_minor": 2
}
