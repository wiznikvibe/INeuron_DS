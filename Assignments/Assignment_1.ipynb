{
 "cells": [
  {
   "attachments": {},
   "cell_type": "markdown",
   "metadata": {},
   "source": [
    "## Assignment 1 - Python Basics"
   ]
  },
  {
   "attachments": {},
   "cell_type": "markdown",
   "metadata": {},
   "source": [
    "\n",
    "1. Identify the following:\n",
    "\n",
    "'*' ---> Multiplication Mathematical Operator\n",
    "\n",
    "'hello' ---> String Data type\n",
    "\n",
    "-87.8 ---> Float data type\n",
    "\n",
    "'-' ---> Subraction Operator\n",
    "\n",
    "'/' ---> Division\n",
    "\n",
    "'+' ---> addition\n",
    "\n",
    " 6 ---> Integer Data type"
   ]
  },
  {
   "attachments": {},
   "cell_type": "markdown",
   "metadata": {},
   "source": [
    "2. Difference between String and Variable:\n",
    "- Strings are a type of data whereas, variables are containers of data which holds the data for ex. name = \"Nikhil\" here name is the variable container holding 'Nikhil' string type data."
   ]
  },
  {
   "attachments": {},
   "cell_type": "markdown",
   "metadata": {},
   "source": [
    "3. 3 Types of Data types:\n",
    "\n",
    "--> int() - Integer type data holds signed whole numbers with no limit.\n",
    "\n",
    "--> float() - Float holds decimal point numbers accurate upto 15 digits.\n",
    "\n",
    "--> complex() - holds complex numbers with its imaginary part.\n",
    "\n",
    "--> str() - holds character type data type."
   ]
  },
  {
   "attachments": {},
   "cell_type": "markdown",
   "metadata": {},
   "source": [
    "4. What are expressions & Applications:\n",
    "\n",
    "An Expression is a combination of mathematical operators, values, variables and function calls. The expression produces some value or result which is interpreted by the Python interpreter. "
   ]
  },
  {
   "attachments": {},
   "cell_type": "markdown",
   "metadata": {},
   "source": [
    "5. Difference between statement and expression:\n",
    "\n",
    "--> A statement is declaration of data which is not evaluated it performs an action or task, its a standalone execution which doesnt return anything  \n",
    "--> A expression is evaluated for a value is can be a combination of mathematical operators, values, variables and function calls. The expression produces some value or result which is interpreted by the Python interpreter"
   ]
  },
  {
   "attachments": {},
   "cell_type": "markdown",
   "metadata": {},
   "source": [
    "6. After running the following code, what does the variable bacon contain?\n",
    "\n",
    "    - bacon = 22\n",
    "    - bacon + 1\n",
    "\n",
    "--> bacon contains 22 because of the assignnment operator being used \n",
    "--> In the second line of the code the interpreter outputs 22 + 1 = 23 but the values of the bacon is not updated after the execution therefore bacon = 22.  "
   ]
  },
  {
   "attachments": {},
   "cell_type": "markdown",
   "metadata": {},
   "source": [
    "7. What should the values of the following two terms be?\n",
    "    - 'spam' + 'spamspam'\n",
    "    - 'spam' * 3\n",
    "\n",
    "--> the first line output - 'spamspamspam'\n",
    "\n",
    "--> the second line output - 'spamspamspam' "
   ]
  },
  {
   "attachments": {},
   "cell_type": "markdown",
   "metadata": {},
   "source": [
    "8. Why is eggs a valid variable name while 100 is invalid?\n",
    "\n",
    "--> Rules for Variable Name:\n",
    "    \n",
    "    1. name must start with a letter or a underscore character\n",
    "\n",
    "    2. variable cannot start with a number \n",
    "    \n",
    "    3. variable can only contain aplha numeric character & underscore \n",
    "    \n",
    "    4. Variables are case sensitive  "
   ]
  },
  {
   "attachments": {},
   "cell_type": "markdown",
   "metadata": {},
   "source": [
    "9. What three functions can be used to get the integer, floating-point number, or string\n",
    "version of a value?\n",
    "\n",
    "-->\n",
    "    - str(), int(), float() are the three inbuilt functions which can be used for converting a type of a value, This process is typically known as Type casting."
   ]
  },
  {
   "attachments": {},
   "cell_type": "markdown",
   "metadata": {},
   "source": [
    "\n",
    "10. Why does this expression cause an error? How can you fix it?\n",
    "'I have eaten' + 99 + 'burritos'\n",
    "\n",
    "    - This expression causes error because the user is trying to join a string type value with a int type value which causes a type error.\n",
    "    - To solve this error wrap the int value in str() function. This would solve the problem. "
   ]
  }
 ],
 "metadata": {
  "language_info": {
   "name": "python"
  },
  "orig_nbformat": 4
 },
 "nbformat": 4,
 "nbformat_minor": 2
}
