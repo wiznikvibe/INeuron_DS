{
 "cells": [
  {
   "attachments": {},
   "cell_type": "markdown",
   "metadata": {},
   "source": [
    "## Assigment 13 - OOPs Inheritance\n",
    "\n",
    "1. Explain what inheritance is in object-oriented programming and why it is used.\n",
    "\n",
    "    - Inheritance is a fundamental concept in object-oriented programming (OOP) that allows classes to inherit properties and behaviors from other classes. It is a mechanism by which a class can derive or inherit the attributes and methods of another class, known as the parent or base class.\n",
    "\n",
    "2. Discuss the concept of single inheritance and multiple inheritance, highlighting their\n",
    "differences and advantages.\n",
    "\n",
    "    - Single inheritance refers to the concept where a class inherits from only one base or parent class.In single inheritance, a derived class extends the functionality of a single base class.\n",
    "    The derived class inherits all the attributes and methods of the base class and can add its own unique attributes and methods.\n",
    "    - Multiple inheritance refers to the concept where a class inherits from multiple base or parent classes.\n",
    "    In multiple inheritance, a derived class can extend the functionality of multiple base classes. The derived class inherits attributes and methods from all the base classes, allowing it to combine and integrate their functionality.\n",
    "\n",
    "3. Explain the terms \"base class\" and \"derived class\" in the context of inheritance.\n",
    "\n",
    "    - A base class, also known as a parent class or superclass, is a class that serves as the foundation or template from which other classes can inherit. It defines common attributes and behaviors that are shared by multiple related classes.\n",
    "    - A derived class, also known as a child class or subclass, is a class that inherits properties and behaviors from a base class.\n",
    "    It extends or specializes the functionality of the base class by adding its own unique attributes and methods or overriding the ones inherited from the base class.\n",
    "\n",
    "4. What is the significance of the \"protected\" access modifier in inheritance? How does\n",
    "it differ from \"private\" and \"public\" modifiers?\n",
    "\n",
    "    - In the context of inheritance and access control in object-oriented programming, the \"protected\" access modifier plays a significant role. It is used to restrict access to class members (attributes and methods) within the class itself, its derived classes, and sometimes within the same package or module.\n",
    "    - The \"public\" access modifier allows unrestricted access to class members from anywhere within the program.\n",
    "    Public members can be accessed by any class or object, including derived classes and unrelated classes.\n",
    "\n",
    "5. What is the purpose of the \"super\" keyword in inheritance? Provide an example.\n",
    "\n",
    "    - The \"super\" keyword in inheritance is used to refer to the parent class or superclass. It allows us to access and invoke the methods and attributes of the superclass within the subclass. The primary purpose of the \"super\" keyword is to provide a convenient way to call and extend the functionality of the superclass from the subclass.\n"
   ]
  },
  {
   "cell_type": "markdown",
   "metadata": {},
   "source": [
    "6. Create a base class called \"Vehicle\" with attributes like \"make\", \"model\", and \"year\".\n",
    "Then, create a derived class called \"Car\" that inherits from \"Vehicle\" and adds an\n",
    "attribute called \"fuel_type\". Implement appropriate methods in both classes."
   ]
  },
  {
   "cell_type": "code",
   "execution_count": null,
   "metadata": {},
   "outputs": [],
   "source": [
    "class Vehicle:\n",
    "    \n",
    "    def __init__(self, make, model, year):\n",
    "        pass"
   ]
  },
  {
   "cell_type": "markdown",
   "metadata": {},
   "source": [
    "7. Create a base class called \"Employee\" with attributes like \"name\" and \"salary.\"\n",
    "Derive two classes, \"Manager\" and \"Developer,\" from \"Employee.\" Add an additional\n",
    "attribute called \"department\" for the \"Manager\" class and \"programming_language\"\n",
    "for the \"Developer\" class."
   ]
  },
  {
   "cell_type": "code",
   "execution_count": null,
   "metadata": {},
   "outputs": [],
   "source": []
  },
  {
   "cell_type": "markdown",
   "metadata": {},
   "source": [
    "8. Design a base class called \"Shape\" with attributes like \"colour\" and \"border_width.\"\n",
    "Create derived classes, \"Rectangle\" and \"Circle,\" that inherit from \"Shape\" and add\n",
    "specific attributes like \"length\" and \"width\" for the \"Rectangle\" class and \"radius\" for\n",
    "the \"Circle\" class."
   ]
  },
  {
   "cell_type": "code",
   "execution_count": null,
   "metadata": {},
   "outputs": [],
   "source": []
  },
  {
   "cell_type": "markdown",
   "metadata": {},
   "source": [
    "9. Create a base class called \"Device\" with attributes like \"brand\" and \"model.\" Derive\n",
    "two classes, \"Phone\" and \"Tablet,\" from \"Device.\" Add specific attributes like\n",
    "\"screen_size\" for the \"Phone\" class and \"battery_capacity\" for the \"Tablet\" class.\n"
   ]
  },
  {
   "cell_type": "code",
   "execution_count": null,
   "metadata": {},
   "outputs": [],
   "source": []
  },
  {
   "cell_type": "markdown",
   "metadata": {},
   "source": [
    "10. Create a base class called \"BankAccount\" with attributes like \"account_number\" and\n",
    "\"balance.\" Derive two classes, \"SavingsAccount\" and \"CheckingAccount,\" from\n",
    "\"BankAccount.\" Add specific methods like \"calculate_interest\" for the\n",
    "\"SavingsAccount\" class and \"deduct_fees\" for the \"CheckingAccount\" class."
   ]
  },
  {
   "cell_type": "code",
   "execution_count": null,
   "metadata": {},
   "outputs": [],
   "source": []
  }
 ],
 "metadata": {
  "language_info": {
   "name": "python"
  },
  "orig_nbformat": 4
 },
 "nbformat": 4,
 "nbformat_minor": 2
}
